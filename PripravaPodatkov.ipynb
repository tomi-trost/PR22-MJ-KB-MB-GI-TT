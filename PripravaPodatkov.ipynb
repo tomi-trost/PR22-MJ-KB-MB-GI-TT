{
 "cells": [
  {
   "attachments": {},
   "cell_type": "markdown",
   "metadata": {},
   "source": [
    "# Priprava podatkov"
   ]
  },
  {
   "attachments": {},
   "cell_type": "markdown",
   "metadata": {},
   "source": [
    "### Oblika podatkov"
   ]
  },
  {
   "attachments": {},
   "cell_type": "markdown",
   "metadata": {},
   "source": [
    "Poglejmo s kaksno obliko podatkov rokujemo."
   ]
  },
  {
   "cell_type": "code",
   "execution_count": 35,
   "metadata": {},
   "outputs": [
    {
     "name": "stdout",
     "output_type": "stream",
     "text": [
      "Table: delovno_prebivalstvo, St. vrstic: 57510\n"
     ]
    },
    {
     "data": {
      "text/html": [
       "<div>\n",
       "<style scoped>\n",
       "    .dataframe tbody tr th:only-of-type {\n",
       "        vertical-align: middle;\n",
       "    }\n",
       "\n",
       "    .dataframe tbody tr th {\n",
       "        vertical-align: top;\n",
       "    }\n",
       "\n",
       "    .dataframe thead th {\n",
       "        text-align: right;\n",
       "    }\n",
       "</style>\n",
       "<table border=\"1\" class=\"dataframe\">\n",
       "  <thead>\n",
       "    <tr style=\"text-align: right;\">\n",
       "      <th></th>\n",
       "      <th>num</th>\n",
       "      <th>OB�INE</th>\n",
       "      <th>LETO</th>\n",
       "      <th>DOSE�ENA IZOBRAZBA</th>\n",
       "      <th>SPOL</th>\n",
       "    </tr>\n",
       "  </thead>\n",
       "  <tbody>\n",
       "    <tr>\n",
       "      <th>0</th>\n",
       "      <td>813529</td>\n",
       "      <td>SLOVENIJA</td>\n",
       "      <td>2005</td>\n",
       "      <td>Izobrazba - SKUPAJ</td>\n",
       "      <td>Spol - SKUPAJ</td>\n",
       "    </tr>\n",
       "  </tbody>\n",
       "</table>\n",
       "</div>"
      ],
      "text/plain": [
       "      num     OB�INE  LETO  DOSE�ENA IZOBRAZBA           SPOL\n",
       "0  813529  SLOVENIJA  2005  Izobrazba - SKUPAJ  Spol - SKUPAJ"
      ]
     },
     "metadata": {},
     "output_type": "display_data"
    },
    {
     "name": "stdout",
     "output_type": "stream",
     "text": [
      "Table: po-obcinah_izobrazba, St. vrstic: 13278\n"
     ]
    },
    {
     "data": {
      "text/html": [
       "<div>\n",
       "<style scoped>\n",
       "    .dataframe tbody tr th:only-of-type {\n",
       "        vertical-align: middle;\n",
       "    }\n",
       "\n",
       "    .dataframe tbody tr th {\n",
       "        vertical-align: top;\n",
       "    }\n",
       "\n",
       "    .dataframe thead th {\n",
       "        text-align: right;\n",
       "    }\n",
       "</style>\n",
       "<table border=\"1\" class=\"dataframe\">\n",
       "  <thead>\n",
       "    <tr style=\"text-align: right;\">\n",
       "      <th></th>\n",
       "      <th>Občina</th>\n",
       "      <th>OŠ ali manj</th>\n",
       "      <th>srednje poklicno izobraževanje</th>\n",
       "      <th>strokovno, splošno izobraževanje</th>\n",
       "      <th>izobraževanje prve, druge, tretje stopnje</th>\n",
       "      <th>Skupaj</th>\n",
       "      <th>month</th>\n",
       "      <th>year</th>\n",
       "    </tr>\n",
       "  </thead>\n",
       "  <tbody>\n",
       "    <tr>\n",
       "      <th>0</th>\n",
       "      <td>AJDOVŠČINA</td>\n",
       "      <td>224.0</td>\n",
       "      <td>180.0</td>\n",
       "      <td>173.0</td>\n",
       "      <td>122.0</td>\n",
       "      <td>699.0</td>\n",
       "      <td>JAN</td>\n",
       "      <td>2018</td>\n",
       "    </tr>\n",
       "  </tbody>\n",
       "</table>\n",
       "</div>"
      ],
      "text/plain": [
       "       Občina OŠ ali manj srednje poklicno izobraževanje  \\\n",
       "0  AJDOVŠČINA       224.0                          180.0   \n",
       "\n",
       "  strokovno, splošno izobraževanje izobraževanje prve, druge, tretje stopnje  \\\n",
       "0                            173.0                                     122.0   \n",
       "\n",
       "   Skupaj month  year  \n",
       "0   699.0   JAN  2018  "
      ]
     },
     "metadata": {},
     "output_type": "display_data"
    },
    {
     "name": "stdout",
     "output_type": "stream",
     "text": [
      "Table: po-obcinah_spol, St. vrstic: 13278\n"
     ]
    },
    {
     "data": {
      "text/html": [
       "<div>\n",
       "<style scoped>\n",
       "    .dataframe tbody tr th:only-of-type {\n",
       "        vertical-align: middle;\n",
       "    }\n",
       "\n",
       "    .dataframe tbody tr th {\n",
       "        vertical-align: top;\n",
       "    }\n",
       "\n",
       "    .dataframe thead th {\n",
       "        text-align: right;\n",
       "    }\n",
       "</style>\n",
       "<table border=\"1\" class=\"dataframe\">\n",
       "  <thead>\n",
       "    <tr style=\"text-align: right;\">\n",
       "      <th></th>\n",
       "      <th>Občina</th>\n",
       "      <th>Moški</th>\n",
       "      <th>Ženske</th>\n",
       "      <th>Skupaj</th>\n",
       "      <th>month</th>\n",
       "      <th>year</th>\n",
       "    </tr>\n",
       "  </thead>\n",
       "  <tbody>\n",
       "    <tr>\n",
       "      <th>0</th>\n",
       "      <td>AJDOVŠČINA</td>\n",
       "      <td>335.0</td>\n",
       "      <td>364.0</td>\n",
       "      <td>699.0</td>\n",
       "      <td>JAN</td>\n",
       "      <td>2018</td>\n",
       "    </tr>\n",
       "  </tbody>\n",
       "</table>\n",
       "</div>"
      ],
      "text/plain": [
       "       Občina  Moški  Ženske  Skupaj month  year\n",
       "0  AJDOVŠČINA  335.0   364.0   699.0   JAN  2018"
      ]
     },
     "metadata": {},
     "output_type": "display_data"
    },
    {
     "name": "stdout",
     "output_type": "stream",
     "text": [
      "Table: po-obcinah_starost, St. vrstic: 13278\n"
     ]
    },
    {
     "data": {
      "text/html": [
       "<div>\n",
       "<style scoped>\n",
       "    .dataframe tbody tr th:only-of-type {\n",
       "        vertical-align: middle;\n",
       "    }\n",
       "\n",
       "    .dataframe tbody tr th {\n",
       "        vertical-align: top;\n",
       "    }\n",
       "\n",
       "    .dataframe thead th {\n",
       "        text-align: right;\n",
       "    }\n",
       "</style>\n",
       "<table border=\"1\" class=\"dataframe\">\n",
       "  <thead>\n",
       "    <tr style=\"text-align: right;\">\n",
       "      <th></th>\n",
       "      <th>Občina</th>\n",
       "      <th>15 do 24 let</th>\n",
       "      <th>25 do 29 let</th>\n",
       "      <th>30 do 39 let</th>\n",
       "      <th>40 do 49 let</th>\n",
       "      <th>50 do 54 let</th>\n",
       "      <th>55 let ali več</th>\n",
       "      <th>Skupaj</th>\n",
       "      <th>month</th>\n",
       "      <th>year</th>\n",
       "    </tr>\n",
       "  </thead>\n",
       "  <tbody>\n",
       "    <tr>\n",
       "      <th>0</th>\n",
       "      <td>AJDOVŠČINA</td>\n",
       "      <td>53.0</td>\n",
       "      <td>86.0</td>\n",
       "      <td>157.0</td>\n",
       "      <td>113.0</td>\n",
       "      <td>111.0</td>\n",
       "      <td>179.0</td>\n",
       "      <td>699.0</td>\n",
       "      <td>JAN</td>\n",
       "      <td>2018</td>\n",
       "    </tr>\n",
       "  </tbody>\n",
       "</table>\n",
       "</div>"
      ],
      "text/plain": [
       "       Občina 15 do 24 let 25 do 29 let 30 do 39 let 40 do 49 let  \\\n",
       "0  AJDOVŠČINA         53.0         86.0        157.0        113.0   \n",
       "\n",
       "  50 do 54 let 55 let ali več  Skupaj month  year  \n",
       "0        111.0          179.0   699.0   JAN  2018  "
      ]
     },
     "metadata": {},
     "output_type": "display_data"
    },
    {
     "name": "stdout",
     "output_type": "stream",
     "text": [
      "Table: po-obcinah_trajanje-brezposelnosti, St. vrstic: 10698\n"
     ]
    },
    {
     "data": {
      "text/html": [
       "<div>\n",
       "<style scoped>\n",
       "    .dataframe tbody tr th:only-of-type {\n",
       "        vertical-align: middle;\n",
       "    }\n",
       "\n",
       "    .dataframe tbody tr th {\n",
       "        vertical-align: top;\n",
       "    }\n",
       "\n",
       "    .dataframe thead th {\n",
       "        text-align: right;\n",
       "    }\n",
       "</style>\n",
       "<table border=\"1\" class=\"dataframe\">\n",
       "  <thead>\n",
       "    <tr style=\"text-align: right;\">\n",
       "      <th></th>\n",
       "      <th>Občina</th>\n",
       "      <th>Do 2 mesecev</th>\n",
       "      <th>3 do 5 mesecev</th>\n",
       "      <th>6 do 8 mesecev</th>\n",
       "      <th>9 do 11 mesecev</th>\n",
       "      <th>12 do 23 mesecev</th>\n",
       "      <th>24 do 35 mesecev</th>\n",
       "      <th>36 mesecev ali več</th>\n",
       "      <th>Skupaj</th>\n",
       "      <th>month</th>\n",
       "      <th>year</th>\n",
       "    </tr>\n",
       "  </thead>\n",
       "  <tbody>\n",
       "    <tr>\n",
       "      <th>0</th>\n",
       "      <td>AJDOVŠČINA</td>\n",
       "      <td>158.0</td>\n",
       "      <td>104.0</td>\n",
       "      <td>47.0</td>\n",
       "      <td>34.0</td>\n",
       "      <td>114.0</td>\n",
       "      <td>48.0</td>\n",
       "      <td>194.0</td>\n",
       "      <td>699.0</td>\n",
       "      <td>JAN</td>\n",
       "      <td>2018</td>\n",
       "    </tr>\n",
       "  </tbody>\n",
       "</table>\n",
       "</div>"
      ],
      "text/plain": [
       "       Občina Do 2 mesecev 3 do 5 mesecev 6 do 8 mesecev 9 do 11 mesecev  \\\n",
       "0  AJDOVŠČINA        158.0          104.0           47.0            34.0   \n",
       "\n",
       "  12 do 23 mesecev 24 do 35 mesecev 36 mesecev ali več  Skupaj month  year  \n",
       "0            114.0             48.0              194.0   699.0   JAN  2018  "
      ]
     },
     "metadata": {},
     "output_type": "display_data"
    },
    {
     "name": "stdout",
     "output_type": "stream",
     "text": [
      "Table: po-statisticnah-regijah_izobrazba, St. vrstic: 950\n"
     ]
    },
    {
     "data": {
      "text/html": [
       "<div>\n",
       "<style scoped>\n",
       "    .dataframe tbody tr th:only-of-type {\n",
       "        vertical-align: middle;\n",
       "    }\n",
       "\n",
       "    .dataframe tbody tr th {\n",
       "        vertical-align: top;\n",
       "    }\n",
       "\n",
       "    .dataframe thead th {\n",
       "        text-align: right;\n",
       "    }\n",
       "</style>\n",
       "<table border=\"1\" class=\"dataframe\">\n",
       "  <thead>\n",
       "    <tr style=\"text-align: right;\">\n",
       "      <th></th>\n",
       "      <th>Kohezijska / Statistična regija</th>\n",
       "      <th>1+2              OŠ ali manj</th>\n",
       "      <th>3+4 - nižje, srednje poklicno izobr.</th>\n",
       "      <th>5 - srednje tehniško, strokovno, splošno izobr.</th>\n",
       "      <th>6+7+8 - visokošolsko izobr. prve, druge, tretje stopnje</th>\n",
       "      <th>Skupaj</th>\n",
       "      <th>month</th>\n",
       "      <th>year</th>\n",
       "    </tr>\n",
       "  </thead>\n",
       "  <tbody>\n",
       "    <tr>\n",
       "      <th>0</th>\n",
       "      <td>Slovenija</td>\n",
       "      <td>27666.0</td>\n",
       "      <td>23433.0</td>\n",
       "      <td>22082.0</td>\n",
       "      <td>14738.0</td>\n",
       "      <td>87919.0</td>\n",
       "      <td>JAN</td>\n",
       "      <td>2018</td>\n",
       "    </tr>\n",
       "  </tbody>\n",
       "</table>\n",
       "</div>"
      ],
      "text/plain": [
       "  Kohezijska / Statistična regija  1+2              OŠ ali manj  \\\n",
       "0                       Slovenija                       27666.0   \n",
       "\n",
       "   3+4 - nižje, srednje poklicno izobr.  \\\n",
       "0                               23433.0   \n",
       "\n",
       "   5 - srednje tehniško, strokovno, splošno izobr.  \\\n",
       "0                                          22082.0   \n",
       "\n",
       "   6+7+8 - visokošolsko izobr. prve, druge, tretje stopnje   Skupaj month  \\\n",
       "0                                            14738.0        87919.0   JAN   \n",
       "\n",
       "   year  \n",
       "0  2018  "
      ]
     },
     "metadata": {},
     "output_type": "display_data"
    },
    {
     "name": "stdout",
     "output_type": "stream",
     "text": [
      "Table: po-statisticnah-regijah_spol, St. vrstic: 1178\n"
     ]
    },
    {
     "data": {
      "text/html": [
       "<div>\n",
       "<style scoped>\n",
       "    .dataframe tbody tr th:only-of-type {\n",
       "        vertical-align: middle;\n",
       "    }\n",
       "\n",
       "    .dataframe tbody tr th {\n",
       "        vertical-align: top;\n",
       "    }\n",
       "\n",
       "    .dataframe thead th {\n",
       "        text-align: right;\n",
       "    }\n",
       "</style>\n",
       "<table border=\"1\" class=\"dataframe\">\n",
       "  <thead>\n",
       "    <tr style=\"text-align: right;\">\n",
       "      <th></th>\n",
       "      <th>Kohezijska / statistična regija</th>\n",
       "      <th>Moški</th>\n",
       "      <th>Ženske</th>\n",
       "      <th>Skupaj</th>\n",
       "      <th>month</th>\n",
       "      <th>year</th>\n",
       "    </tr>\n",
       "  </thead>\n",
       "  <tbody>\n",
       "    <tr>\n",
       "      <th>0</th>\n",
       "      <td>Slovenija</td>\n",
       "      <td>44807.0</td>\n",
       "      <td>43112.0</td>\n",
       "      <td>87919.0</td>\n",
       "      <td>JAN</td>\n",
       "      <td>2018</td>\n",
       "    </tr>\n",
       "  </tbody>\n",
       "</table>\n",
       "</div>"
      ],
      "text/plain": [
       "  Kohezijska / statistična regija    Moški   Ženske   Skupaj month  year\n",
       "0                       Slovenija  44807.0  43112.0  87919.0   JAN  2018"
      ]
     },
     "metadata": {},
     "output_type": "display_data"
    },
    {
     "name": "stdout",
     "output_type": "stream",
     "text": [
      "Table: po-statisticnah-regijah_starost, St. vrstic: 266\n"
     ]
    },
    {
     "data": {
      "text/html": [
       "<div>\n",
       "<style scoped>\n",
       "    .dataframe tbody tr th:only-of-type {\n",
       "        vertical-align: middle;\n",
       "    }\n",
       "\n",
       "    .dataframe tbody tr th {\n",
       "        vertical-align: top;\n",
       "    }\n",
       "\n",
       "    .dataframe thead th {\n",
       "        text-align: right;\n",
       "    }\n",
       "</style>\n",
       "<table border=\"1\" class=\"dataframe\">\n",
       "  <thead>\n",
       "    <tr style=\"text-align: right;\">\n",
       "      <th></th>\n",
       "      <th>Kohezijska / \\nstatistična regija</th>\n",
       "      <th>15-24\\nlet</th>\n",
       "      <th>25-29\\nlet</th>\n",
       "      <th>30-39\\nlet</th>\n",
       "      <th>40-49\\nlet</th>\n",
       "      <th>50-54\\nlet</th>\n",
       "      <th>55 let \\nali več</th>\n",
       "      <th>Skupaj</th>\n",
       "      <th>month</th>\n",
       "      <th>year</th>\n",
       "    </tr>\n",
       "  </thead>\n",
       "  <tbody>\n",
       "    <tr>\n",
       "      <th>0</th>\n",
       "      <td>Slovenija</td>\n",
       "      <td>6038.0</td>\n",
       "      <td>6667.0</td>\n",
       "      <td>14342.0</td>\n",
       "      <td>14486.0</td>\n",
       "      <td>6998.0</td>\n",
       "      <td>19303.0</td>\n",
       "      <td>67834.0</td>\n",
       "      <td>JAN</td>\n",
       "      <td>2022</td>\n",
       "    </tr>\n",
       "  </tbody>\n",
       "</table>\n",
       "</div>"
      ],
      "text/plain": [
       "  Kohezijska / \\nstatistična regija  15-24\\nlet  25-29\\nlet  30-39\\nlet  \\\n",
       "0                         Slovenija      6038.0      6667.0     14342.0   \n",
       "\n",
       "   40-49\\nlet  50-54\\nlet  55 let \\nali več   Skupaj month  year  \n",
       "0     14486.0      6998.0           19303.0  67834.0   JAN  2022  "
      ]
     },
     "metadata": {},
     "output_type": "display_data"
    },
    {
     "name": "stdout",
     "output_type": "stream",
     "text": [
      "Table: po-statisticnah-regijah_trajanje-brezposelnosti, St. vrstic: 1178\n"
     ]
    },
    {
     "data": {
      "text/html": [
       "<div>\n",
       "<style scoped>\n",
       "    .dataframe tbody tr th:only-of-type {\n",
       "        vertical-align: middle;\n",
       "    }\n",
       "\n",
       "    .dataframe tbody tr th {\n",
       "        vertical-align: top;\n",
       "    }\n",
       "\n",
       "    .dataframe thead th {\n",
       "        text-align: right;\n",
       "    }\n",
       "</style>\n",
       "<table border=\"1\" class=\"dataframe\">\n",
       "  <thead>\n",
       "    <tr style=\"text-align: right;\">\n",
       "      <th></th>\n",
       "      <th>Kohezijska / statistična regija</th>\n",
       "      <th>Do 2 meseca</th>\n",
       "      <th>3 do 5 mesecev</th>\n",
       "      <th>6 do 8 mesecev</th>\n",
       "      <th>9 do 11 mesecev</th>\n",
       "      <th>12 do 23\\n mesecev</th>\n",
       "      <th>24 do 35\\n mesecev</th>\n",
       "      <th>36 mesecev ali več</th>\n",
       "      <th>Skupaj</th>\n",
       "      <th>month</th>\n",
       "      <th>year</th>\n",
       "    </tr>\n",
       "  </thead>\n",
       "  <tbody>\n",
       "    <tr>\n",
       "      <th>0</th>\n",
       "      <td>Slovenija</td>\n",
       "      <td>21974.0</td>\n",
       "      <td>11742.0</td>\n",
       "      <td>6073.0</td>\n",
       "      <td>4469.0</td>\n",
       "      <td>14511.0</td>\n",
       "      <td>6810.0</td>\n",
       "      <td>22340.0</td>\n",
       "      <td>87919.0</td>\n",
       "      <td>JAN</td>\n",
       "      <td>2018</td>\n",
       "    </tr>\n",
       "  </tbody>\n",
       "</table>\n",
       "</div>"
      ],
      "text/plain": [
       "  Kohezijska / statistična regija  Do 2 meseca  3 do 5 mesecev  \\\n",
       "0                       Slovenija      21974.0         11742.0   \n",
       "\n",
       "   6 do 8 mesecev  9 do 11 mesecev  12 do 23\\n mesecev  24 do 35\\n mesecev  \\\n",
       "0          6073.0           4469.0             14511.0              6810.0   \n",
       "\n",
       "   36 mesecev ali več   Skupaj month  year  \n",
       "0             22340.0  87919.0   JAN  2018  "
      ]
     },
     "metadata": {},
     "output_type": "display_data"
    },
    {
     "name": "stdout",
     "output_type": "stream",
     "text": [
      "Table: po-uradih-za-delo_izobrazba, St. vrstic: 4412\n"
     ]
    },
    {
     "data": {
      "text/html": [
       "<div>\n",
       "<style scoped>\n",
       "    .dataframe tbody tr th:only-of-type {\n",
       "        vertical-align: middle;\n",
       "    }\n",
       "\n",
       "    .dataframe tbody tr th {\n",
       "        vertical-align: top;\n",
       "    }\n",
       "\n",
       "    .dataframe thead th {\n",
       "        text-align: right;\n",
       "    }\n",
       "</style>\n",
       "<table border=\"1\" class=\"dataframe\">\n",
       "  <thead>\n",
       "    <tr style=\"text-align: right;\">\n",
       "      <th></th>\n",
       "      <th>Urad za delo</th>\n",
       "      <th>1+2 - OŠ ali manj</th>\n",
       "      <th>3+4 - nižje, srednje poklicno izobr.</th>\n",
       "      <th>5 - srednje tehniško, strokovno, splošno izobr.</th>\n",
       "      <th>6+7+8 - visokošolsko izobr. prve, druge, tretje stopnje</th>\n",
       "      <th>Skupaj</th>\n",
       "      <th>month</th>\n",
       "      <th>year</th>\n",
       "    </tr>\n",
       "  </thead>\n",
       "  <tbody>\n",
       "    <tr>\n",
       "      <th>0</th>\n",
       "      <td>OS Celje</td>\n",
       "      <td>2906.0</td>\n",
       "      <td>2745.0</td>\n",
       "      <td>2378.0</td>\n",
       "      <td>1449.0</td>\n",
       "      <td>9478.0</td>\n",
       "      <td>JAN</td>\n",
       "      <td>2018</td>\n",
       "    </tr>\n",
       "  </tbody>\n",
       "</table>\n",
       "</div>"
      ],
      "text/plain": [
       "  Urad za delo  1+2 - OŠ ali manj  3+4 - nižje, srednje poklicno izobr.  \\\n",
       "0     OS Celje             2906.0                                2745.0   \n",
       "\n",
       "   5 - srednje tehniško, strokovno, splošno izobr.  \\\n",
       "0                                           2378.0   \n",
       "\n",
       "   6+7+8 - visokošolsko izobr. prve, druge, tretje stopnje  Skupaj month  year  \n",
       "0                                             1449.0        9478.0   JAN  2018  "
      ]
     },
     "metadata": {},
     "output_type": "display_data"
    },
    {
     "name": "stdout",
     "output_type": "stream",
     "text": [
      "Table: po-uradih-za-delo_spol, St. vrstic: 4412\n"
     ]
    },
    {
     "data": {
      "text/html": [
       "<div>\n",
       "<style scoped>\n",
       "    .dataframe tbody tr th:only-of-type {\n",
       "        vertical-align: middle;\n",
       "    }\n",
       "\n",
       "    .dataframe tbody tr th {\n",
       "        vertical-align: top;\n",
       "    }\n",
       "\n",
       "    .dataframe thead th {\n",
       "        text-align: right;\n",
       "    }\n",
       "</style>\n",
       "<table border=\"1\" class=\"dataframe\">\n",
       "  <thead>\n",
       "    <tr style=\"text-align: right;\">\n",
       "      <th></th>\n",
       "      <th>Urad za delo</th>\n",
       "      <th>Moški</th>\n",
       "      <th>Ženske</th>\n",
       "      <th>Skupaj</th>\n",
       "      <th>month</th>\n",
       "      <th>year</th>\n",
       "    </tr>\n",
       "  </thead>\n",
       "  <tbody>\n",
       "    <tr>\n",
       "      <th>0</th>\n",
       "      <td>OS Celje</td>\n",
       "      <td>4717.0</td>\n",
       "      <td>4761.0</td>\n",
       "      <td>9478.0</td>\n",
       "      <td>JAN</td>\n",
       "      <td>2018</td>\n",
       "    </tr>\n",
       "  </tbody>\n",
       "</table>\n",
       "</div>"
      ],
      "text/plain": [
       "  Urad za delo   Moški  Ženske  Skupaj month  year\n",
       "0     OS Celje  4717.0  4761.0  9478.0   JAN  2018"
      ]
     },
     "metadata": {},
     "output_type": "display_data"
    },
    {
     "name": "stdout",
     "output_type": "stream",
     "text": [
      "Table: po-uradih-za-delo_starost, St. vrstic: 4412\n"
     ]
    },
    {
     "data": {
      "text/html": [
       "<div>\n",
       "<style scoped>\n",
       "    .dataframe tbody tr th:only-of-type {\n",
       "        vertical-align: middle;\n",
       "    }\n",
       "\n",
       "    .dataframe tbody tr th {\n",
       "        vertical-align: top;\n",
       "    }\n",
       "\n",
       "    .dataframe thead th {\n",
       "        text-align: right;\n",
       "    }\n",
       "</style>\n",
       "<table border=\"1\" class=\"dataframe\">\n",
       "  <thead>\n",
       "    <tr style=\"text-align: right;\">\n",
       "      <th></th>\n",
       "      <th>Urad za delo</th>\n",
       "      <th>15 do 24 let</th>\n",
       "      <th>25 do 29 let</th>\n",
       "      <th>30 do 39 let</th>\n",
       "      <th>40 do 49 let</th>\n",
       "      <th>50 do 54 let</th>\n",
       "      <th>55 ali več</th>\n",
       "      <th>Skupaj</th>\n",
       "      <th>month</th>\n",
       "      <th>year</th>\n",
       "    </tr>\n",
       "  </thead>\n",
       "  <tbody>\n",
       "    <tr>\n",
       "      <th>0</th>\n",
       "      <td>OS Celje</td>\n",
       "      <td>696.0</td>\n",
       "      <td>1068.0</td>\n",
       "      <td>2007.0</td>\n",
       "      <td>1916.0</td>\n",
       "      <td>1295.0</td>\n",
       "      <td>2496.0</td>\n",
       "      <td>9478.0</td>\n",
       "      <td>JAN</td>\n",
       "      <td>2018</td>\n",
       "    </tr>\n",
       "  </tbody>\n",
       "</table>\n",
       "</div>"
      ],
      "text/plain": [
       "  Urad za delo  15 do 24 let  25 do 29 let  30 do 39 let  40 do 49 let  \\\n",
       "0     OS Celje         696.0        1068.0        2007.0        1916.0   \n",
       "\n",
       "   50 do 54 let  55 ali več  Skupaj month  year  \n",
       "0        1295.0      2496.0  9478.0   JAN  2018  "
      ]
     },
     "metadata": {},
     "output_type": "display_data"
    },
    {
     "name": "stdout",
     "output_type": "stream",
     "text": [
      "Table: po-uradih-za-delo_trajanje-brezposelnosti, St. vrstic: 4412\n"
     ]
    },
    {
     "data": {
      "text/html": [
       "<div>\n",
       "<style scoped>\n",
       "    .dataframe tbody tr th:only-of-type {\n",
       "        vertical-align: middle;\n",
       "    }\n",
       "\n",
       "    .dataframe tbody tr th {\n",
       "        vertical-align: top;\n",
       "    }\n",
       "\n",
       "    .dataframe thead th {\n",
       "        text-align: right;\n",
       "    }\n",
       "</style>\n",
       "<table border=\"1\" class=\"dataframe\">\n",
       "  <thead>\n",
       "    <tr style=\"text-align: right;\">\n",
       "      <th></th>\n",
       "      <th>Urad za delo</th>\n",
       "      <th>Do 2 mesecev</th>\n",
       "      <th>3 do 5 mesecev</th>\n",
       "      <th>6 do 8 mesecev</th>\n",
       "      <th>9 do 11 mesecev</th>\n",
       "      <th>12 do 23 mesecev</th>\n",
       "      <th>24 do 35 mesecev</th>\n",
       "      <th>36 mesecev ali več</th>\n",
       "      <th>Skupaj</th>\n",
       "      <th>month</th>\n",
       "      <th>year</th>\n",
       "    </tr>\n",
       "  </thead>\n",
       "  <tbody>\n",
       "    <tr>\n",
       "      <th>0</th>\n",
       "      <td>OS Celje</td>\n",
       "      <td>2297.0</td>\n",
       "      <td>1208.0</td>\n",
       "      <td>591.0</td>\n",
       "      <td>479.0</td>\n",
       "      <td>1612.0</td>\n",
       "      <td>749.0</td>\n",
       "      <td>2542.0</td>\n",
       "      <td>9478.0</td>\n",
       "      <td>JAN</td>\n",
       "      <td>2018</td>\n",
       "    </tr>\n",
       "  </tbody>\n",
       "</table>\n",
       "</div>"
      ],
      "text/plain": [
       "  Urad za delo  Do 2 mesecev  3 do 5 mesecev  6 do 8 mesecev  9 do 11 mesecev  \\\n",
       "0     OS Celje        2297.0          1208.0           591.0            479.0   \n",
       "\n",
       "   12 do 23 mesecev  24 do 35 mesecev  36 mesecev ali več  Skupaj month  year  \n",
       "0            1612.0             749.0              2542.0  9478.0   JAN  2018  "
      ]
     },
     "metadata": {},
     "output_type": "display_data"
    }
   ],
   "source": [
    "import pandas as pd\n",
    "import os\n",
    "\n",
    "# Set the directory containing the CSV files\n",
    "directory = \"structured_data/\"\n",
    "\n",
    "# Initialize an empty dictionary to store the DataFrames\n",
    "data_dict = {}\n",
    "\n",
    "# Loop through all CSV files in the directory\n",
    "for filename in os.listdir(directory):\n",
    "    if filename.endswith(\".csv\"):\n",
    "        # Get the filename without the extension\n",
    "        name = os.path.splitext(filename)[0]\n",
    "        filepath = os.path.join(directory, filename)\n",
    "        # Read the CSV file into a Pandas DataFrame\n",
    "        df = pd.read_csv(filepath)\n",
    "        # Append the DataFrame to the dictionary using the filename as the key\n",
    "        data_dict[name] = df\n",
    "        \n",
    "d = None\n",
    "\n",
    "# Print the dictionary to verify the contents\n",
    "for key, dataFrame in data_dict.items():\n",
    "    print(f\"Table: {key}, St. vrstic: {len(dataFrame)}\")\n",
    "    display(dataFrame.head(1))\n"
   ]
  },
  {
   "attachments": {},
   "cell_type": "markdown",
   "metadata": {},
   "source": [
    "### Normaliziramo imena stolpcev"
   ]
  },
  {
   "cell_type": "code",
   "execution_count": 40,
   "metadata": {},
   "outputs": [
    {
     "name": "stdout",
     "output_type": "stream",
     "text": [
      "{'Mirna Pe�', 'Idrija', 'Muta', 'Kobarid', 'Velike La��e', 'La�ko', 'Sveta Ana', 'Razkri�je', 'Koper/Capodistria', 'Trnovska vas', 'Vransko', 'Podlehnik', 'Jur�inci', 'Kungota', 'Kranjska Gora', 'Postojna', 'Dobrova - Polhov Gradec', 'Slovenj Gradec', 'Turni��e', 'Tabor', 'Litija', 'Novo mesto', 'Polzela', 'Apa�e', 'Ivan�na Gorica', '�entjur', 'Dobje', 'Sevnica', 'Trzin', 'Vipava', 'Ribnica na Pohorju', 'Re�ica ob Savinji', '�rnomelj', 'Puconci', 'Pesnica', 'Hrastnik', 'Ru�e', '�iri', 'Menge�', 'Gornji Grad', 'Moravske Toplice', 'Hodo�/Hodos', 'Polj�ane', 'Sveti Jurij v Slov. goricah', 'Markovci', 'Ilirska Bistrica', 'Komen', 'Ko�evje', 'Rogatec', 'Gorje', '�kocjan', 'Komenda', 'Bohinj', 'Slovenska Bistrica', 'Dobrovnik/Dobronak', 'Osilnica', 'Ra�e - Fram', '�alec', 'Radlje ob Dravi', 'Jezersko', 'Kr�ko', 'Piran/Pirano', 'Roga�ka Slatina', 'Gori�nica', '�entilj', 'Radenci', 'Gornja Radgona', '�en�ur', 'Vodice', 'Prebold', 'Kuzma', 'Ajdov��ina', 'Mokronog - Trebelno', 'Lovrenc na Pohorju', 'Trbovlje', 'Ravne na Koro�kem', 'Dobrepolje', 'Kostel', 'Destrnik', 'Sveti Jurij ob ��avnici', '�o�tanj', 'Kobilje', 'Tr�i�', 'Sol�ava', 'Roga�ovci', 'Se�ana', 'Dom�ale', '�marje�ke Toplice', 'Lendava/Lendva', 'Lenart', 'Cirkulane', 'Sveti Toma�', 'Naklo', '�entrupert', 'Hrpelje - Kozina', '�martno ob Paki', 'Cerkvenjak', 'Lukovica', 'Mozirje', 'Pod�etrtek', 'Nova Gorica', 'Cankova', 'Ren�e - Vogrsko', 'Bistrica ob Sotli', 'Ribnica', 'Zagorje ob Savi', 'Cerklje na Gorenjskem', 'Ptuj', 'Cerknica', 'Makole', 'Bled', 'Grad', 'Bloke', 'Mislinja', 'Nazarje', 'Odranci', 'Vrhnika', 'Log - Dragomer', 'Oplotnica', 'Podvelka', 'Duplek', 'Ho�e - Slivnica', 'Vojnik', 'Radovljica', 'Celje', 'Miren - Kostanjevica', 'Maribor', 'Kanal', 'Preddvor', '�kofja Loka', 'Ankaran/Ancarano', 'Dornava', 'Murska Sobota', 'Ljubno', '�kofljica', 'Sveti Andra� v Slov. goricah', 'Sredi��e ob Dravi', 'Horjul', 'Ti�ina', 'Grosuplje', '�empeter - Vrtojba', 'Lo�ki Potok', 'Videm', 'Sodra�ica', 'Jesenice', 'Vitanje', 'Bre�ice', 'Dobrna', 'Kranj', 'Velika Polana', 'Brezovica', 'Lo�ka dolina', 'Miklav� na Dravskem polju', 'Sveta Trojica v Slov. goricah', 'Borovnica', '�etale', 'Ig', 'Zre�e', 'Slovenske Konjice', 'Cerkno', 'Vuzenica', 'Kri�evci', 'SLOVENIJA', 'Braslov�e', 'Stra�a', '�marje pri Jel�ah', '�entjernej', 'Dol pri Ljubljani', '�alovci', 'Ljutomer', 'Diva�a', 'Hajdina', 'Medvode', 'Me�ica', '�martno pri Litiji', 'Gorenja vas - Poljane', 'Gornji Petrovci', 'Dolenjske Toplice', 'Ljubljana', 'Velenje', 'Dravograd', 'Lu�e', 'Kostanjevica na Krki', 'Pivka', 'Benedikt', 'Beltinci', 'Rade�e', 'Ver�ej', 'Ormo�', 'Bovec', 'Morav�e', 'Kidri�evo', 'Logatec', '�elezniki', 'Kamnik', 'Star�e', 'Zavr�', 'Izola/Isola', 'Kozje', 'Prevalje', 'Mirna', '�u�emberk', 'Metlika', '�irovnica', '�tore', 'Maj�perk', 'Semi�', 'Brda', '�rna na Koro�kem', 'Trebnje', 'Tolmin', '�ren�ovci', 'Selnica ob Dravi'}\n",
      "{nan, 'Gorišnica', 'Razkri�je', 'CANKOVA', 'TRŽIČ', 'PREVALJE', 'Kungota', 'Kranjska Gora', 'PREBOLD', 'Turni��e', 'ŠMARJE PRI JELŠAH', 'Železniki', 'Apa�e', 'Ivan�na Gorica', '�entjur', 'BENEDIKT', '�rnomelj', 'Ru�e', 'Moravske Toplice', 'ORMOŽ', 'Mirna Peč', 'Sveti Tomaž', 'VRANSKO', 'DOBRNA', 'Markovci', 'MOKRONOG-TREBELNO', 'Rogatec', 'Žalec', 'PREDDVOR', 'Šoštanj', 'Šalovci', 'Radlje ob Dravi', 'Jezersko', 'Piran/Pirano', 'JURŠINCI', 'DOL PRI LJUBLJANI', 'Divača', 'Radenci', 'Hodoš', 'Šentjernej', 'MIRNA PEČ', 'Kuzma', 'KRIŽEVCI', 'VELIKA POLANA', 'Šmarje pri Jelšah', 'Tržič', 'ROGATEC', 'LOŠKA DOLINA', 'Lendava', 'ŽETALE', 'Sveti Jurij ob ��avnici', '�o�tanj', 'Tr�i�', 'CERKLJE NA GORENJSKEM', 'Se�ana', 'Naklo', 'Hrpelje - Kozina', 'Rogaška Slatina', 'Lukovica', 'Loški Potok', 'Rače - Fram', 'AJDOVŠČINA', 'Bistrica ob Sotli', 'Cerklje na Gorenjskem', 'Ptuj', 'Cerknica', 'Nazarje', 'POLZELA', 'MIREN-KOSTANJEVICA', 'Središče ob Dravi', 'CERKNO', 'Duplek', 'KRANJSKA GORA', 'LOGATEC', 'RADENCI', 'Kanal', 'Črnomelj', 'Horjul', 'Grosuplje', 'Sodra�ica', 'Bre�ice', 'VITANJE', 'Velika Polana', 'DRAVOGRAD', 'Brezovica', 'Rogašovci', 'Borovnica', 'Zre�e', 'BREZOVICA', 'Ormož', 'SLOVENJ GRADEC', '�marje pri Jel�ah', '�entjernej', 'LAŠKO', 'DOLENJSKE TOPLICE', 'Medvode', 'Črna na Koroškem', 'Me�ica', '�martno pri Litiji', 'Podčetrtek', 'DIVAČA', 'Lu�e', 'HORJUL', 'RAZKRIŽJE', 'Pivka', 'SREDIŠČE OB DRAVI', 'Beltinci', 'Ormo�', 'GORNJA RADGONA', 'TABOR', 'Kidri�evo', 'Logatec', 'Ajdovščina', 'Izola/Isola', 'IVANČNA GORICA', 'Ravne na Koroškem', 'SEVNICA', 'Metlika', 'GORNJI GRAD', 'Maj�perk', 'Brda', '�ren�ovci', 'Mirna Pe�', 'Idrija', 'Škofljica', 'Kobarid', 'Šentjur', 'ŠENTILJ', 'Vransko', 'Sveti Andraž v Slovenskih goricah', 'MARKOVCI', 'Tabor', 'Dobrova - Polhov Gradec', 'BISTRICA OB SOTLI', 'LENART', 'ODRANCI', 'Dobje', 'PODČETRTEK', 'TURNIŠČE', 'Trzin', 'MISLINJA', 'SOLČAVA', 'Re�ica ob Savinji', 'Pesnica', 'BLED', 'Hoče - Slivnica', 'Gornji Grad', 'SODRAŽICA', 'Polj�ane', 'MUTA', 'KOMENDA', 'OSILNICA', 'POLJČANE', 'Komen', 'ZREČE', 'CERKVENJAK', 'Komenda', 'MOZIRJE', 'Slovenska Bistrica', 'Dobrovnik/Dobronak', 'Osilnica', '�entilj', 'Zreče', 'Gornja Radgona', 'Radeče', 'Prebold', 'Ajdov��ina', 'Lovrenc na Pohorju', 'RIBNICA', 'Štore', 'Roga�ovci', '�marje�ke Toplice', 'Dom�ale', 'ČRNOMELJ', 'ŠALOVCI', 'Lenart', 'Apače', '�martno ob Paki', 'ŽIROVNICA', 'Pod�etrtek', 'Veržej', 'Cankova', 'NOVA GORICA', 'Ren�e - Vogrsko', 'RAVNE NA KOROŠKEM', 'VELIKE LAŠČE', 'Ribnica', 'KOSTEL', 'Bled', 'SEMIČ', 'Mislinja', 'Odranci', 'Vrhnika', 'Log - Dragomer', 'Šmarješke Toplice', 'IG', 'Oplotnica', 'Ho�e - Slivnica', 'Solčava', 'Vojnik', 'Mežica', 'Miren - Kostanjevica', 'Maribor', 'Velike Lašče', 'POSTOJNA', 'ROGAŠOVCI', 'Razkrižje', 'Murska Sobota', 'Ljubno', '�kofljica', 'Tišina', '�empeter - Vrtojba', 'ŠKOFLJICA', 'VELENJE', 'Videm', 'SLOVENSKA BISTRICA', 'ŠKOCJAN', 'Ankaran', 'Ig', 'Loška dolina', 'SVETI TOMAŽ', 'KAMNIK', 'Kri�evci', 'PIRAN', 'TIŠINA', 'TOLMIN', 'VUZENICA', 'Gorenja vas - Poljane', 'Gornji Petrovci', 'Šenčur', 'Ljubljana', 'HOČE-SLIVNICA', 'TRZIN', 'Rade�e', 'GRAD', 'ŽELEZNIKI', 'SVETI JURIJ OB ŠČAVNICI', 'Bovec', 'Star�e', 'Zavr�', 'Turnišče', 'VRHNIKA', 'DOBREPOLJE', 'MORAVSKE TOPLICE', '�irovnica', '�rna na Koro�kem', 'Trebnje', 'Mengeš', 'CERKNICA', 'Muta', 'LJUTOMER', 'Sveti Jurij ob Ščavnici', 'HRPELJE-KOZINA', 'VIDEM', 'La�ko', 'MAJŠPERK', 'Trnovska vas', 'Koper/Capodistria', 'RAČE-FRAM', 'Občina izven RS', 'Renče - Vogrsko', 'Miklavž na Dravskem polju', 'Podlehnik', 'Jur�inci', 'Postojna', 'Slovenj Gradec', 'MIRNA', 'Litija', 'DOBJE', 'GORJE', 'VERŽEJ', 'KIDRIČEVO', 'Žužemberk', 'Ribnica na Pohorju', 'Piran', 'IZOLA', 'Puconci', '�iri', 'Hrastnik', 'ROGAŠKA SLATINA', 'Moravče', 'Menge�', 'JESENICE', 'HAJDINA', 'Zavrč', 'KOSTANJEVICA NA KRKI', 'Ko�evje', 'DOBROVA-POLHOV GRADEC', 'Gorje', 'NOVO MESTO', 'Bohinj', 'PESNICA', 'ILIRSKA BISTRICA', 'OPLOTNICA', '�alec', 'Kr�ko', 'DOMŽALE', 'SVETA TROJICA V SLOVENSKIH GORICAH', 'KOMEN', 'Koper', 'Vodice', 'GORENJA VAS-POLJANE', 'Mokronog - Trebelno', 'Trbovlje', 'DUPLEK', 'SLOVENSKE KONJICE', 'Dobrepolje', 'MEDVODE', 'BRASLOVČE', 'Dobrovnik', 'Kostel', 'Šentrupert', 'MARIBOR', 'Kobilje', 'Sol�ava', 'Straža', 'Žetale', 'LJUBNO', 'Lendava/Lendva', 'REČICA OB SAVINJI', 'SVETI ANDRAŽ V SLOV. GORICAH', 'Brežice', 'Mozirje', 'ŠENTJERNEJ', 'HODOŠ', 'Nova Gorica', 'Zagorje ob Savi', 'Grad', 'Braslovče', 'BRDA', 'RADOVLJICA', 'RADEČE', 'LOŠKI POTOK', 'Žiri', 'BOVEC', 'Radovljica', 'Preddvor', 'ŽIRI', '�kofja Loka', 'Ankaran/Ancarano', 'Dornava', 'Sveti Andra� v Slov. goricah', 'Sredi��e ob Dravi', 'GORIŠNICA', 'BOROVNICA', 'Dobrna', 'Ruše', 'Kranj', 'RUŠE', 'GORNJI PETROVCI', 'Rečica ob Savinji', 'Miklav� na Dravskem polju', 'Kidričevo', 'Šmartno ob Paki', '�etale', 'Ivančna Gorica', 'MIKLAVŽ NA DRAVSKEM POLJU', 'Cerkno', 'Starše', 'Ljutomer', 'PUCONCI', 'METLIKA', 'LUKOVICA', 'Šentilj', 'BOHINJ', 'Dolenjske Toplice', 'Velenje', 'Dravograd', 'Kostanjevica na Krki', 'VODICE', 'ŠTORE', 'ŠENTRUPERT', 'Prevalje', 'BREŽICE', 'HRASTNIK', 'Sveti Jurij v Slovenskih goricah', 'MEŽICA', 'Selnica ob Dravi', 'Škocjan', 'SVETA ANA', 'PIVKA', 'Velike La��e', 'Sveta Ana', 'BLOKE', 'ŽUŽEMBERK', 'KOBILJE', 'Šmartno pri Litiji', 'Novo mesto', 'Polzela', 'Škofja Loka', 'CELJE', 'NAKLO', 'LJUBLJANA', 'Sevnica', 'ŠMARTNO OB PAKI', 'Vipava', 'MORAVČE', 'ŠKOFJA LOKA', 'KUZMA', 'KOZJE', 'DORNAVA', 'Majšperk', 'ŠMARJEŠKE TOPLICE', 'KRŠKO', 'ŠOŠTANJ', 'Hodo�/Hodos', 'Sveti Jurij v Slov. goricah', 'Ilirska Bistrica', 'MAKOLE', '�kocjan', 'KUNGOTA', 'VIPAVA', 'Ra�e - Fram', 'Sežana', 'APAČE', 'PTUJ', 'DOBROVNIK', 'VOJNIK', 'Roga�ka Slatina', 'Semič', 'Gori�nica', 'LUČE', 'Križevci', 'TRNOVSKA VAS', '�en�ur', 'Domžale', 'Poljčane', 'RADLJE OB DRAVI', 'Sveta Trojica v Slovenskih goricah', 'ANKARAN', 'Ravne na Koro�kem', 'ČRENŠOVCI', 'TRBOVLJE', 'Destrnik', 'GROSUPLJE', 'IDRIJA', 'CIRKULANE', 'RIBNICA NA POHORJU', 'Cirkulane', 'Sveti Toma�', '�entrupert', 'KOBARID', 'ŠENTJUR', 'Cerkvenjak', 'PODVELKA', 'MENGEŠ', 'ZAVRČ', 'SELNICA OB DRAVI', 'SEŽANA', 'Izola', 'Makole', 'JEZERSKO', 'Bloke', 'LENDAVA', 'Kočevje', 'Krško', 'Črenšovci', 'LOVRENC NA POHORJU', 'Podvelka', 'STRAŽA', 'Šempeter - Vrtojba', 'Celje', 'NAZARJE', 'RENČE-VOGRSKO', 'LOG - DRAGOMER', 'KRANJ', 'Ti�ina', 'Lo�ki Potok', 'ŠENČUR', 'Jesenice', 'Vitanje', 'Juršinci', 'ČRNA NA KOROŠKEM', 'TREBNJE', 'ŽALEC', 'SVETI JURIJ V SLOVENSKIH GORICAH', 'Žirovnica', 'Lo�ka dolina', 'Sveta Trojica v Slov. goricah', 'LITIJA', 'Slovenske Konjice', 'STARŠE', 'Vuzenica', 'Sodražica', 'SLOVENIJA', 'Braslov�e', 'Stra�a', 'ŠMARTNO PRI LITIJI', 'Dol pri Ljubljani', '�alovci', 'Diva�a', 'Hajdina', 'MURSKA SOBOTA', 'ŠEMPETER-VRTOJBA', 'Luče', 'Benedikt', 'Ver�ej', 'DESTRNIK', 'Morav�e', '�elezniki', 'PODLEHNIK', 'Kamnik', 'KOPER', 'BELTINCI', 'KOČEVJE', 'Laško', 'Kozje', 'KANAL', 'Mirna', '�u�emberk', '�tore', 'Semi�', 'Tolmin', 'ZAGORJE OB SAVI'}\n",
      "{nan, 'Gorišnica', 'Razkri�je', 'CANKOVA', 'TRŽIČ', 'PREVALJE', 'Kungota', 'Kranjska Gora', 'PREBOLD', 'Turni��e', 'ŠMARJE PRI JELŠAH', 'Železniki', 'Apa�e', 'Ivan�na Gorica', '�entjur', 'BENEDIKT', '�rnomelj', 'Ru�e', 'Moravske Toplice', 'ORMOŽ', 'Mirna Peč', 'Sveti Tomaž', 'VRANSKO', 'DOBRNA', 'Markovci', 'MOKRONOG-TREBELNO', 'Rogatec', 'Žalec', 'PREDDVOR', 'Šoštanj', 'Šalovci', 'Radlje ob Dravi', 'Jezersko', 'Piran/Pirano', 'JURŠINCI', 'DOL PRI LJUBLJANI', 'Divača', 'Radenci', 'Hodoš', 'Šentjernej', 'MIRNA PEČ', 'Kuzma', 'KRIŽEVCI', 'VELIKA POLANA', 'Šmarje pri Jelšah', 'Tržič', 'ROGATEC', 'LOŠKA DOLINA', 'Lendava', 'ŽETALE', 'Sveti Jurij ob ��avnici', '�o�tanj', 'Tr�i�', 'CERKLJE NA GORENJSKEM', 'Se�ana', 'Naklo', 'Hrpelje - Kozina', 'Rogaška Slatina', 'Lukovica', 'Loški Potok', 'Rače - Fram', 'AJDOVŠČINA', 'Bistrica ob Sotli', 'Cerklje na Gorenjskem', 'Ptuj', 'Cerknica', 'Nazarje', 'POLZELA', 'MIREN-KOSTANJEVICA', 'Središče ob Dravi', 'CERKNO', 'Duplek', 'KRANJSKA GORA', 'LOGATEC', 'RADENCI', 'Kanal', 'Črnomelj', 'Horjul', 'Grosuplje', 'Sodra�ica', 'Bre�ice', 'VITANJE', 'Velika Polana', 'DRAVOGRAD', 'Brezovica', 'Rogašovci', 'Borovnica', 'Zre�e', 'BREZOVICA', 'Ormož', 'SLOVENJ GRADEC', '�marje pri Jel�ah', '�entjernej', 'LAŠKO', 'DOLENJSKE TOPLICE', 'Medvode', 'Črna na Koroškem', 'Me�ica', '�martno pri Litiji', 'Podčetrtek', 'DIVAČA', 'Lu�e', 'HORJUL', 'RAZKRIŽJE', 'Pivka', 'SREDIŠČE OB DRAVI', 'Beltinci', 'Ormo�', 'GORNJA RADGONA', 'TABOR', 'Kidri�evo', 'Logatec', 'Ajdovščina', 'Izola/Isola', 'IVANČNA GORICA', 'Ravne na Koroškem', 'SEVNICA', 'Metlika', 'GORNJI GRAD', 'Maj�perk', 'Brda', '�ren�ovci', 'Mirna Pe�', 'Idrija', 'Škofljica', 'Kobarid', 'Šentjur', 'ŠENTILJ', 'Vransko', 'Sveti Andraž v Slovenskih goricah', 'MARKOVCI', 'Tabor', 'Dobrova - Polhov Gradec', 'BISTRICA OB SOTLI', 'LENART', 'ODRANCI', 'Dobje', 'PODČETRTEK', 'TURNIŠČE', 'Trzin', 'MISLINJA', 'SOLČAVA', 'Re�ica ob Savinji', 'Pesnica', 'BLED', 'Hoče - Slivnica', 'Gornji Grad', 'SODRAŽICA', 'Polj�ane', 'MUTA', 'KOMENDA', 'OSILNICA', 'POLJČANE', 'Komen', 'ZREČE', 'CERKVENJAK', 'Komenda', 'MOZIRJE', 'Slovenska Bistrica', 'Dobrovnik/Dobronak', 'Osilnica', '�entilj', 'Zreče', 'Gornja Radgona', 'Radeče', 'Prebold', 'Ajdov��ina', 'Lovrenc na Pohorju', 'RIBNICA', 'Štore', 'Roga�ovci', '�marje�ke Toplice', 'Dom�ale', 'ČRNOMELJ', 'ŠALOVCI', 'Lenart', 'Apače', '�martno ob Paki', 'ŽIROVNICA', 'Pod�etrtek', 'Veržej', 'Cankova', 'NOVA GORICA', 'Ren�e - Vogrsko', 'RAVNE NA KOROŠKEM', 'VELIKE LAŠČE', 'Ribnica', 'KOSTEL', 'Bled', 'SEMIČ', 'Mislinja', 'Odranci', 'Vrhnika', 'Log - Dragomer', 'Šmarješke Toplice', 'IG', 'Oplotnica', 'Ho�e - Slivnica', 'Solčava', 'Vojnik', 'Mežica', 'Miren - Kostanjevica', 'Maribor', 'Velike Lašče', 'POSTOJNA', 'ROGAŠOVCI', 'Razkrižje', 'Murska Sobota', 'Ljubno', '�kofljica', 'Tišina', '�empeter - Vrtojba', 'ŠKOFLJICA', 'VELENJE', 'Videm', 'SLOVENSKA BISTRICA', 'ŠKOCJAN', 'Ankaran', 'Ig', 'Loška dolina', 'SVETI TOMAŽ', 'KAMNIK', 'Kri�evci', 'PIRAN', 'TIŠINA', 'TOLMIN', 'VUZENICA', 'Gorenja vas - Poljane', 'Gornji Petrovci', 'Šenčur', 'Ljubljana', 'HOČE-SLIVNICA', 'TRZIN', 'Rade�e', 'GRAD', 'ŽELEZNIKI', 'SVETI JURIJ OB ŠČAVNICI', 'Bovec', 'Star�e', 'Zavr�', 'Turnišče', 'VRHNIKA', 'DOBREPOLJE', 'MORAVSKE TOPLICE', '�irovnica', '�rna na Koro�kem', 'Trebnje', 'Mengeš', 'CERKNICA', 'Muta', 'LJUTOMER', 'Sveti Jurij ob Ščavnici', 'HRPELJE-KOZINA', 'VIDEM', 'La�ko', 'MAJŠPERK', 'Trnovska vas', 'Koper/Capodistria', 'RAČE-FRAM', 'Občina izven RS', 'Renče - Vogrsko', 'Miklavž na Dravskem polju', 'Podlehnik', 'Jur�inci', 'Postojna', 'Slovenj Gradec', 'MIRNA', 'Litija', 'DOBJE', 'GORJE', 'VERŽEJ', 'KIDRIČEVO', 'Žužemberk', 'Ribnica na Pohorju', 'Piran', 'IZOLA', 'Puconci', '�iri', 'Hrastnik', 'ROGAŠKA SLATINA', 'Moravče', 'Menge�', 'JESENICE', 'HAJDINA', 'Zavrč', 'KOSTANJEVICA NA KRKI', 'Ko�evje', 'DOBROVA-POLHOV GRADEC', 'Gorje', 'NOVO MESTO', 'Bohinj', 'PESNICA', 'ILIRSKA BISTRICA', 'OPLOTNICA', '�alec', 'Kr�ko', 'DOMŽALE', 'SVETA TROJICA V SLOVENSKIH GORICAH', 'KOMEN', 'Koper', 'Vodice', 'GORENJA VAS-POLJANE', 'Mokronog - Trebelno', 'Trbovlje', 'DUPLEK', 'SLOVENSKE KONJICE', 'Dobrepolje', 'MEDVODE', 'BRASLOVČE', 'Dobrovnik', 'Kostel', 'Šentrupert', 'MARIBOR', 'Kobilje', 'Sol�ava', 'Straža', 'Žetale', 'LJUBNO', 'Lendava/Lendva', 'REČICA OB SAVINJI', 'SVETI ANDRAŽ V SLOV. GORICAH', 'Brežice', 'Mozirje', 'ŠENTJERNEJ', 'HODOŠ', 'Nova Gorica', 'Zagorje ob Savi', 'Grad', 'Braslovče', 'BRDA', 'RADOVLJICA', 'RADEČE', 'LOŠKI POTOK', 'Žiri', 'BOVEC', 'Radovljica', 'Preddvor', 'ŽIRI', '�kofja Loka', 'Ankaran/Ancarano', 'Dornava', 'Sveti Andra� v Slov. goricah', 'Sredi��e ob Dravi', 'GORIŠNICA', 'BOROVNICA', 'Dobrna', 'Ruše', 'Kranj', 'RUŠE', 'GORNJI PETROVCI', 'Rečica ob Savinji', 'Miklav� na Dravskem polju', 'Kidričevo', 'Šmartno ob Paki', '�etale', 'Ivančna Gorica', 'MIKLAVŽ NA DRAVSKEM POLJU', 'Cerkno', 'Starše', 'Ljutomer', 'PUCONCI', 'METLIKA', 'LUKOVICA', 'Šentilj', 'BOHINJ', 'Dolenjske Toplice', 'Velenje', 'Dravograd', 'Kostanjevica na Krki', 'VODICE', 'ŠTORE', 'ŠENTRUPERT', 'Prevalje', 'BREŽICE', 'HRASTNIK', 'Sveti Jurij v Slovenskih goricah', 'MEŽICA', 'Selnica ob Dravi', 'Škocjan', 'SVETA ANA', 'PIVKA', 'Velike La��e', 'Sveta Ana', 'BLOKE', 'ŽUŽEMBERK', 'KOBILJE', 'Šmartno pri Litiji', 'Novo mesto', 'Polzela', 'Škofja Loka', 'CELJE', 'NAKLO', 'LJUBLJANA', 'Sevnica', 'ŠMARTNO OB PAKI', 'Vipava', 'MORAVČE', 'ŠKOFJA LOKA', 'KUZMA', 'KOZJE', 'DORNAVA', 'Majšperk', 'ŠMARJEŠKE TOPLICE', 'KRŠKO', 'ŠOŠTANJ', 'Hodo�/Hodos', 'Sveti Jurij v Slov. goricah', 'Ilirska Bistrica', 'MAKOLE', '�kocjan', 'KUNGOTA', 'VIPAVA', 'Ra�e - Fram', 'Sežana', 'APAČE', 'PTUJ', 'DOBROVNIK', 'VOJNIK', 'Roga�ka Slatina', 'Semič', 'Gori�nica', 'LUČE', 'Križevci', 'TRNOVSKA VAS', '�en�ur', 'Domžale', 'Poljčane', 'RADLJE OB DRAVI', 'Sveta Trojica v Slovenskih goricah', 'ANKARAN', 'Ravne na Koro�kem', 'ČRENŠOVCI', 'TRBOVLJE', 'Destrnik', 'GROSUPLJE', 'IDRIJA', 'CIRKULANE', 'RIBNICA NA POHORJU', 'Cirkulane', 'Sveti Toma�', '�entrupert', 'KOBARID', 'ŠENTJUR', 'Cerkvenjak', 'PODVELKA', 'MENGEŠ', 'ZAVRČ', 'SELNICA OB DRAVI', 'SEŽANA', 'Izola', 'Makole', 'JEZERSKO', 'Bloke', 'LENDAVA', 'Kočevje', 'Krško', 'Črenšovci', 'LOVRENC NA POHORJU', 'Podvelka', 'STRAŽA', 'Šempeter - Vrtojba', 'Celje', 'NAZARJE', 'RENČE-VOGRSKO', 'LOG - DRAGOMER', 'KRANJ', 'Ti�ina', 'Lo�ki Potok', 'ŠENČUR', 'Jesenice', 'Vitanje', 'Juršinci', 'ČRNA NA KOROŠKEM', 'TREBNJE', 'ŽALEC', 'SVETI JURIJ V SLOVENSKIH GORICAH', 'Žirovnica', 'Lo�ka dolina', 'Sveta Trojica v Slov. goricah', 'LITIJA', 'Slovenske Konjice', 'STARŠE', 'Vuzenica', 'Sodražica', 'SLOVENIJA', 'Braslov�e', 'Stra�a', 'ŠMARTNO PRI LITIJI', 'Dol pri Ljubljani', '�alovci', 'Diva�a', 'Hajdina', 'MURSKA SOBOTA', 'ŠEMPETER-VRTOJBA', 'Luče', 'Benedikt', 'Ver�ej', 'DESTRNIK', 'Morav�e', '�elezniki', 'PODLEHNIK', 'Kamnik', 'KOPER', 'BELTINCI', 'KOČEVJE', 'Laško', 'Kozje', 'KANAL', 'Mirna', '�u�emberk', '�tore', 'Semi�', 'Tolmin', 'ZAGORJE OB SAVI'}\n",
      "{nan, 'Gorišnica', 'Razkri�je', 'CANKOVA', 'TRŽIČ', 'PREVALJE', 'Kungota', 'Kranjska Gora', 'PREBOLD', 'Turni��e', 'ŠMARJE PRI JELŠAH', 'Železniki', 'Apa�e', 'Ivan�na Gorica', '�entjur', 'BENEDIKT', '�rnomelj', 'Ru�e', 'Moravske Toplice', 'ORMOŽ', 'Mirna Peč', 'Sveti Tomaž', 'VRANSKO', 'DOBRNA', 'Markovci', 'MOKRONOG-TREBELNO', 'Rogatec', 'Žalec', 'PREDDVOR', 'Šoštanj', 'Šalovci', 'Radlje ob Dravi', 'Jezersko', 'Piran/Pirano', 'JURŠINCI', 'DOL PRI LJUBLJANI', 'Divača', 'Radenci', 'Hodoš', 'Šentjernej', 'MIRNA PEČ', 'Kuzma', 'KRIŽEVCI', 'VELIKA POLANA', 'Šmarje pri Jelšah', 'Tržič', 'ROGATEC', 'LOŠKA DOLINA', 'Lendava', 'ŽETALE', 'Sveti Jurij ob ��avnici', '�o�tanj', 'Tr�i�', 'CERKLJE NA GORENJSKEM', 'Se�ana', 'Naklo', 'Hrpelje - Kozina', 'Rogaška Slatina', 'Lukovica', 'Loški Potok', 'Rače - Fram', 'AJDOVŠČINA', 'Bistrica ob Sotli', 'Cerklje na Gorenjskem', 'Ptuj', 'Cerknica', 'Nazarje', 'POLZELA', 'MIREN-KOSTANJEVICA', 'Središče ob Dravi', 'CERKNO', 'Duplek', 'KRANJSKA GORA', 'LOGATEC', 'RADENCI', 'Kanal', 'Črnomelj', 'Horjul', 'Grosuplje', 'Sodra�ica', 'Bre�ice', 'VITANJE', 'Velika Polana', 'DRAVOGRAD', 'Brezovica', 'Rogašovci', 'Borovnica', 'Zre�e', 'BREZOVICA', 'Ormož', 'SLOVENJ GRADEC', '�marje pri Jel�ah', '�entjernej', 'LAŠKO', 'DOLENJSKE TOPLICE', 'Medvode', 'Črna na Koroškem', 'Me�ica', '�martno pri Litiji', 'Podčetrtek', 'DIVAČA', 'Lu�e', 'HORJUL', 'RAZKRIŽJE', 'Pivka', 'SREDIŠČE OB DRAVI', 'Beltinci', 'Ormo�', 'GORNJA RADGONA', 'TABOR', 'Kidri�evo', 'Logatec', 'Ajdovščina', 'Izola/Isola', 'IVANČNA GORICA', 'Ravne na Koroškem', 'SEVNICA', 'Metlika', 'GORNJI GRAD', 'Maj�perk', 'Brda', '�ren�ovci', 'Mirna Pe�', 'Idrija', 'Škofljica', 'Kobarid', 'Šentjur', 'ŠENTILJ', 'Vransko', 'Sveti Andraž v Slovenskih goricah', 'MARKOVCI', 'Tabor', 'Dobrova - Polhov Gradec', 'BISTRICA OB SOTLI', 'LENART', 'ODRANCI', 'Dobje', 'PODČETRTEK', 'TURNIŠČE', 'Trzin', 'MISLINJA', 'SOLČAVA', 'Re�ica ob Savinji', 'Pesnica', 'BLED', 'Hoče - Slivnica', 'Gornji Grad', 'SODRAŽICA', 'Polj�ane', 'MUTA', 'KOMENDA', 'OSILNICA', 'POLJČANE', 'Komen', 'ZREČE', 'CERKVENJAK', 'Komenda', 'MOZIRJE', 'Slovenska Bistrica', 'Dobrovnik/Dobronak', 'Osilnica', '�entilj', 'Zreče', 'Gornja Radgona', 'Radeče', 'Prebold', 'Ajdov��ina', 'Lovrenc na Pohorju', 'RIBNICA', 'Štore', 'Roga�ovci', '�marje�ke Toplice', 'Dom�ale', 'ČRNOMELJ', 'ŠALOVCI', 'Lenart', 'Apače', '�martno ob Paki', 'ŽIROVNICA', 'Pod�etrtek', 'Veržej', 'Cankova', 'NOVA GORICA', 'Ren�e - Vogrsko', 'RAVNE NA KOROŠKEM', 'VELIKE LAŠČE', 'Ribnica', 'KOSTEL', 'Bled', 'SEMIČ', 'Mislinja', 'Odranci', 'Vrhnika', 'Log - Dragomer', 'Šmarješke Toplice', 'IG', 'Oplotnica', 'Ho�e - Slivnica', 'Solčava', 'Vojnik', 'Mežica', 'Miren - Kostanjevica', 'Maribor', 'Velike Lašče', 'POSTOJNA', 'ROGAŠOVCI', 'Razkrižje', 'Murska Sobota', 'Ljubno', '�kofljica', 'Tišina', '�empeter - Vrtojba', 'ŠKOFLJICA', 'VELENJE', 'Videm', 'SLOVENSKA BISTRICA', 'ŠKOCJAN', 'Ankaran', 'Ig', 'Loška dolina', 'SVETI TOMAŽ', 'KAMNIK', 'Kri�evci', 'PIRAN', 'TIŠINA', 'TOLMIN', 'VUZENICA', 'Gorenja vas - Poljane', 'Gornji Petrovci', 'Šenčur', 'Ljubljana', 'HOČE-SLIVNICA', 'TRZIN', 'Rade�e', 'GRAD', 'ŽELEZNIKI', 'SVETI JURIJ OB ŠČAVNICI', 'Bovec', 'Star�e', 'Zavr�', 'Turnišče', 'VRHNIKA', 'DOBREPOLJE', 'MORAVSKE TOPLICE', '�irovnica', '�rna na Koro�kem', 'Trebnje', 'Mengeš', 'CERKNICA', 'Muta', 'LJUTOMER', 'Sveti Jurij ob Ščavnici', 'HRPELJE-KOZINA', 'VIDEM', 'La�ko', 'MAJŠPERK', 'Trnovska vas', 'Koper/Capodistria', 'RAČE-FRAM', 'Občina izven RS', 'Renče - Vogrsko', 'Miklavž na Dravskem polju', 'Podlehnik', 'Jur�inci', 'Postojna', 'Slovenj Gradec', 'MIRNA', 'Litija', 'DOBJE', 'GORJE', 'VERŽEJ', 'KIDRIČEVO', 'Žužemberk', 'Ribnica na Pohorju', 'Piran', 'IZOLA', 'Puconci', '�iri', 'Hrastnik', 'ROGAŠKA SLATINA', 'Moravče', 'Menge�', 'JESENICE', 'HAJDINA', 'Zavrč', 'KOSTANJEVICA NA KRKI', 'Ko�evje', 'DOBROVA-POLHOV GRADEC', 'Gorje', 'NOVO MESTO', 'Bohinj', 'PESNICA', 'ILIRSKA BISTRICA', 'OPLOTNICA', '�alec', 'Kr�ko', 'DOMŽALE', 'SVETA TROJICA V SLOVENSKIH GORICAH', 'KOMEN', 'Koper', 'Vodice', 'GORENJA VAS-POLJANE', 'Mokronog - Trebelno', 'Trbovlje', 'DUPLEK', 'SLOVENSKE KONJICE', 'Dobrepolje', 'MEDVODE', 'BRASLOVČE', 'Dobrovnik', 'Kostel', 'Šentrupert', 'MARIBOR', 'Kobilje', 'Sol�ava', 'Straža', 'Žetale', 'LJUBNO', 'Lendava/Lendva', 'REČICA OB SAVINJI', 'SVETI ANDRAŽ V SLOV. GORICAH', 'Brežice', 'Mozirje', 'ŠENTJERNEJ', 'HODOŠ', 'Nova Gorica', 'Zagorje ob Savi', 'Grad', 'Braslovče', 'BRDA', 'RADOVLJICA', 'RADEČE', 'LOŠKI POTOK', 'Žiri', 'BOVEC', 'Radovljica', 'Preddvor', 'ŽIRI', '�kofja Loka', 'Ankaran/Ancarano', 'Dornava', 'Sveti Andra� v Slov. goricah', 'Sredi��e ob Dravi', 'GORIŠNICA', 'BOROVNICA', 'Dobrna', 'Ruše', 'Kranj', 'RUŠE', 'GORNJI PETROVCI', 'Rečica ob Savinji', 'Miklav� na Dravskem polju', 'Kidričevo', 'Šmartno ob Paki', '�etale', 'Ivančna Gorica', 'MIKLAVŽ NA DRAVSKEM POLJU', 'Cerkno', 'Starše', 'Ljutomer', 'PUCONCI', 'METLIKA', 'LUKOVICA', 'Šentilj', 'BOHINJ', 'Dolenjske Toplice', 'Velenje', 'Dravograd', 'Kostanjevica na Krki', 'VODICE', 'ŠTORE', 'ŠENTRUPERT', 'Prevalje', 'BREŽICE', 'HRASTNIK', 'Sveti Jurij v Slovenskih goricah', 'MEŽICA', 'Selnica ob Dravi', 'Škocjan', 'SVETA ANA', 'PIVKA', 'Velike La��e', 'Sveta Ana', 'BLOKE', 'ŽUŽEMBERK', 'KOBILJE', 'Šmartno pri Litiji', 'Novo mesto', 'Polzela', 'Škofja Loka', 'CELJE', 'NAKLO', 'LJUBLJANA', 'Sevnica', 'ŠMARTNO OB PAKI', 'Vipava', 'MORAVČE', 'ŠKOFJA LOKA', 'KUZMA', 'KOZJE', 'DORNAVA', 'Majšperk', 'ŠMARJEŠKE TOPLICE', 'KRŠKO', 'ŠOŠTANJ', 'Hodo�/Hodos', 'Sveti Jurij v Slov. goricah', 'Ilirska Bistrica', 'MAKOLE', '�kocjan', 'KUNGOTA', 'VIPAVA', 'Ra�e - Fram', 'Sežana', 'APAČE', 'PTUJ', 'DOBROVNIK', 'VOJNIK', 'Roga�ka Slatina', 'Semič', 'Gori�nica', 'LUČE', 'Križevci', 'TRNOVSKA VAS', '�en�ur', 'Domžale', 'Poljčane', 'RADLJE OB DRAVI', 'Sveta Trojica v Slovenskih goricah', 'ANKARAN', 'Ravne na Koro�kem', 'ČRENŠOVCI', 'TRBOVLJE', 'Destrnik', 'GROSUPLJE', 'IDRIJA', 'CIRKULANE', 'RIBNICA NA POHORJU', 'Cirkulane', 'Sveti Toma�', '�entrupert', 'KOBARID', 'ŠENTJUR', 'Cerkvenjak', 'PODVELKA', 'MENGEŠ', 'ZAVRČ', 'SELNICA OB DRAVI', 'SEŽANA', 'Izola', 'Makole', 'JEZERSKO', 'Bloke', 'LENDAVA', 'Kočevje', 'Krško', 'Črenšovci', 'LOVRENC NA POHORJU', 'Podvelka', 'STRAŽA', 'Šempeter - Vrtojba', 'Celje', 'NAZARJE', 'RENČE-VOGRSKO', 'LOG - DRAGOMER', 'KRANJ', 'Ti�ina', 'Lo�ki Potok', 'ŠENČUR', 'Jesenice', 'Vitanje', 'Juršinci', 'ČRNA NA KOROŠKEM', 'TREBNJE', 'ŽALEC', 'SVETI JURIJ V SLOVENSKIH GORICAH', 'Žirovnica', 'Lo�ka dolina', 'Sveta Trojica v Slov. goricah', 'LITIJA', 'Slovenske Konjice', 'STARŠE', 'Vuzenica', 'Sodražica', 'SLOVENIJA', 'Braslov�e', 'Stra�a', 'ŠMARTNO PRI LITIJI', 'Dol pri Ljubljani', '�alovci', 'Diva�a', 'Hajdina', 'MURSKA SOBOTA', 'ŠEMPETER-VRTOJBA', 'Luče', 'Benedikt', 'Ver�ej', 'DESTRNIK', 'Morav�e', '�elezniki', 'PODLEHNIK', 'Kamnik', 'KOPER', 'BELTINCI', 'KOČEVJE', 'Laško', 'Kozje', 'KANAL', 'Mirna', '�u�emberk', '�tore', 'Semi�', 'Tolmin', 'ZAGORJE OB SAVI'}\n",
      "{nan, 'Gorišnica', 'Razkri�je', 'CANKOVA', 'TRŽIČ', 'PREVALJE', 'Kungota', 'Kranjska Gora', 'PREBOLD', 'Turni��e', 'ŠMARJE PRI JELŠAH', 'Železniki', 'Apa�e', 'Ivan�na Gorica', '�entjur', 'BENEDIKT', '�rnomelj', 'Ru�e', 'Moravske Toplice', 'ORMOŽ', 'Mirna Peč', 'Sveti Tomaž', 'VRANSKO', 'DOBRNA', 'Markovci', 'MOKRONOG-TREBELNO', 'Rogatec', 'Žalec', 'PREDDVOR', 'Šoštanj', 'Šalovci', 'Radlje ob Dravi', 'Jezersko', 'Piran/Pirano', 'JURŠINCI', 'DOL PRI LJUBLJANI', 'Divača', 'Radenci', 'Hodoš', 'Šentjernej', 'MIRNA PEČ', 'Kuzma', 'KRIŽEVCI', 'VELIKA POLANA', 'Šmarje pri Jelšah', 'Tržič', 'ROGATEC', 'LOŠKA DOLINA', 'Lendava', 'ŽETALE', 'Sveti Jurij ob ��avnici', '�o�tanj', 'Tr�i�', 'CERKLJE NA GORENJSKEM', 'Se�ana', 'Naklo', 'Hrpelje - Kozina', 'Rogaška Slatina', 'Lukovica', 'Loški Potok', 'Rače - Fram', 'AJDOVŠČINA', 'Bistrica ob Sotli', 'Cerklje na Gorenjskem', 'Ptuj', 'Cerknica', 'Nazarje', 'POLZELA', 'MIREN-KOSTANJEVICA', 'Središče ob Dravi', 'CERKNO', 'Duplek', 'KRANJSKA GORA', 'LOGATEC', 'RADENCI', 'Kanal', 'Črnomelj', 'Horjul', 'Grosuplje', 'Sodra�ica', 'Bre�ice', 'VITANJE', 'Velika Polana', 'DRAVOGRAD', 'Brezovica', 'Rogašovci', 'Borovnica', 'Zre�e', 'BREZOVICA', 'Ormož', 'SLOVENJ GRADEC', '�marje pri Jel�ah', '�entjernej', 'LAŠKO', 'DOLENJSKE TOPLICE', 'Medvode', 'Črna na Koroškem', 'Me�ica', '�martno pri Litiji', 'Podčetrtek', 'DIVAČA', 'Lu�e', 'HORJUL', 'RAZKRIŽJE', 'Pivka', 'SREDIŠČE OB DRAVI', 'Beltinci', 'Ormo�', 'GORNJA RADGONA', 'TABOR', 'Kidri�evo', 'Logatec', 'Ajdovščina', 'Izola/Isola', 'IVANČNA GORICA', 'Ravne na Koroškem', 'SEVNICA', 'Metlika', 'GORNJI GRAD', 'Maj�perk', 'Brda', '�ren�ovci', 'Mirna Pe�', 'Idrija', 'Škofljica', 'Kobarid', 'Šentjur', 'ŠENTILJ', 'Vransko', 'Sveti Andraž v Slovenskih goricah', 'MARKOVCI', 'Tabor', 'Dobrova - Polhov Gradec', 'BISTRICA OB SOTLI', 'LENART', 'ODRANCI', 'Dobje', 'PODČETRTEK', 'TURNIŠČE', 'Trzin', 'MISLINJA', 'SOLČAVA', 'Re�ica ob Savinji', 'Pesnica', 'BLED', 'Hoče - Slivnica', 'Gornji Grad', 'SODRAŽICA', 'Polj�ane', 'MUTA', 'KOMENDA', 'OSILNICA', 'POLJČANE', 'Komen', 'ZREČE', 'CERKVENJAK', 'Komenda', 'MOZIRJE', 'Slovenska Bistrica', 'Dobrovnik/Dobronak', 'Osilnica', '�entilj', 'Zreče', 'Gornja Radgona', 'Radeče', 'Prebold', 'Ajdov��ina', 'Lovrenc na Pohorju', 'RIBNICA', 'Štore', 'Roga�ovci', '�marje�ke Toplice', 'Dom�ale', 'ČRNOMELJ', 'ŠALOVCI', 'Lenart', 'Apače', '�martno ob Paki', 'ŽIROVNICA', 'Pod�etrtek', 'Veržej', 'Cankova', 'NOVA GORICA', 'Ren�e - Vogrsko', 'RAVNE NA KOROŠKEM', 'VELIKE LAŠČE', 'Ribnica', 'KOSTEL', 'Bled', 'SEMIČ', 'Mislinja', 'Odranci', 'Vrhnika', 'Log - Dragomer', 'Šmarješke Toplice', 'IG', 'Oplotnica', 'Ho�e - Slivnica', 'Solčava', 'Vojnik', 'Mežica', 'Miren - Kostanjevica', 'Maribor', 'Velike Lašče', 'POSTOJNA', 'ROGAŠOVCI', 'Razkrižje', 'Murska Sobota', 'Ljubno', '�kofljica', 'Tišina', '�empeter - Vrtojba', 'ŠKOFLJICA', 'VELENJE', 'Videm', 'SLOVENSKA BISTRICA', 'ŠKOCJAN', 'Ankaran', 'Ig', 'Loška dolina', 'SVETI TOMAŽ', 'KAMNIK', 'Kri�evci', 'PIRAN', 'TIŠINA', 'TOLMIN', 'VUZENICA', 'Gorenja vas - Poljane', 'Gornji Petrovci', 'Šenčur', 'Ljubljana', 'HOČE-SLIVNICA', 'TRZIN', 'Rade�e', 'GRAD', 'ŽELEZNIKI', 'SVETI JURIJ OB ŠČAVNICI', 'Bovec', 'Star�e', 'Zavr�', 'Turnišče', 'VRHNIKA', 'DOBREPOLJE', 'MORAVSKE TOPLICE', '�irovnica', '�rna na Koro�kem', 'Trebnje', 'Mengeš', 'CERKNICA', 'Muta', 'LJUTOMER', 'Sveti Jurij ob Ščavnici', 'HRPELJE-KOZINA', 'VIDEM', 'La�ko', 'MAJŠPERK', 'Trnovska vas', 'Koper/Capodistria', 'RAČE-FRAM', 'Občina izven RS', 'Renče - Vogrsko', 'Miklavž na Dravskem polju', 'Podlehnik', 'Jur�inci', 'Postojna', 'Slovenj Gradec', 'MIRNA', 'Litija', 'DOBJE', 'GORJE', 'VERŽEJ', 'KIDRIČEVO', 'Žužemberk', 'Ribnica na Pohorju', 'Piran', 'IZOLA', 'Puconci', '�iri', 'Hrastnik', 'ROGAŠKA SLATINA', 'Moravče', 'Menge�', 'JESENICE', 'HAJDINA', 'Zavrč', 'KOSTANJEVICA NA KRKI', 'Ko�evje', 'DOBROVA-POLHOV GRADEC', 'Gorje', 'NOVO MESTO', 'Bohinj', 'PESNICA', 'ILIRSKA BISTRICA', 'OPLOTNICA', '�alec', 'Kr�ko', 'DOMŽALE', 'SVETA TROJICA V SLOVENSKIH GORICAH', 'KOMEN', 'Koper', 'Vodice', 'GORENJA VAS-POLJANE', 'Mokronog - Trebelno', 'Trbovlje', 'DUPLEK', 'SLOVENSKE KONJICE', 'Dobrepolje', 'MEDVODE', 'BRASLOVČE', 'Dobrovnik', 'Kostel', 'Šentrupert', 'MARIBOR', 'Kobilje', 'Sol�ava', 'Straža', 'Žetale', 'LJUBNO', 'Lendava/Lendva', 'REČICA OB SAVINJI', 'SVETI ANDRAŽ V SLOV. GORICAH', 'Brežice', 'Mozirje', 'ŠENTJERNEJ', 'HODOŠ', 'Nova Gorica', 'Zagorje ob Savi', 'Grad', 'Braslovče', 'BRDA', 'RADOVLJICA', 'RADEČE', 'LOŠKI POTOK', 'Žiri', 'BOVEC', 'Radovljica', 'Preddvor', 'ŽIRI', '�kofja Loka', 'Ankaran/Ancarano', 'Dornava', 'Sveti Andra� v Slov. goricah', 'Sredi��e ob Dravi', 'GORIŠNICA', 'BOROVNICA', 'Dobrna', 'Ruše', 'Kranj', 'RUŠE', 'GORNJI PETROVCI', 'Rečica ob Savinji', 'Miklav� na Dravskem polju', 'Kidričevo', 'Šmartno ob Paki', '�etale', 'Ivančna Gorica', 'MIKLAVŽ NA DRAVSKEM POLJU', 'Cerkno', 'Starše', 'Ljutomer', 'PUCONCI', 'METLIKA', 'LUKOVICA', 'Šentilj', 'BOHINJ', 'Dolenjske Toplice', 'Velenje', 'Dravograd', 'Kostanjevica na Krki', 'VODICE', 'ŠTORE', 'ŠENTRUPERT', 'Prevalje', 'BREŽICE', 'HRASTNIK', 'Sveti Jurij v Slovenskih goricah', 'MEŽICA', 'Selnica ob Dravi', 'Škocjan', 'SVETA ANA', 'PIVKA', 'Velike La��e', 'Sveta Ana', 'BLOKE', 'ŽUŽEMBERK', 'KOBILJE', 'Šmartno pri Litiji', 'Novo mesto', 'Polzela', 'Škofja Loka', 'CELJE', 'NAKLO', 'LJUBLJANA', 'Sevnica', 'ŠMARTNO OB PAKI', 'Vipava', 'MORAVČE', 'ŠKOFJA LOKA', 'KUZMA', 'KOZJE', 'DORNAVA', 'Majšperk', 'ŠMARJEŠKE TOPLICE', 'KRŠKO', 'ŠOŠTANJ', 'Hodo�/Hodos', 'Sveti Jurij v Slov. goricah', 'Ilirska Bistrica', 'MAKOLE', '�kocjan', 'KUNGOTA', 'VIPAVA', 'Ra�e - Fram', 'Sežana', 'APAČE', 'PTUJ', 'DOBROVNIK', 'VOJNIK', 'Roga�ka Slatina', 'Semič', 'Gori�nica', 'LUČE', 'Križevci', 'TRNOVSKA VAS', '�en�ur', 'Domžale', 'Poljčane', 'RADLJE OB DRAVI', 'Sveta Trojica v Slovenskih goricah', 'ANKARAN', 'Ravne na Koro�kem', 'ČRENŠOVCI', 'TRBOVLJE', 'Destrnik', 'GROSUPLJE', 'IDRIJA', 'CIRKULANE', 'RIBNICA NA POHORJU', 'Cirkulane', 'Sveti Toma�', '�entrupert', 'KOBARID', 'ŠENTJUR', 'Cerkvenjak', 'PODVELKA', 'MENGEŠ', 'ZAVRČ', 'SELNICA OB DRAVI', 'SEŽANA', 'Izola', 'Makole', 'JEZERSKO', 'Bloke', 'LENDAVA', 'Kočevje', 'Krško', 'Črenšovci', 'LOVRENC NA POHORJU', 'Podvelka', 'STRAŽA', 'Šempeter - Vrtojba', 'Celje', 'NAZARJE', 'RENČE-VOGRSKO', 'LOG - DRAGOMER', 'KRANJ', 'Ti�ina', 'Lo�ki Potok', 'ŠENČUR', 'Jesenice', 'Vitanje', 'Juršinci', 'ČRNA NA KOROŠKEM', 'TREBNJE', 'ŽALEC', 'SVETI JURIJ V SLOVENSKIH GORICAH', 'Žirovnica', 'Lo�ka dolina', 'Sveta Trojica v Slov. goricah', 'LITIJA', 'Slovenske Konjice', 'STARŠE', 'Vuzenica', 'Sodražica', 'SLOVENIJA', 'Braslov�e', 'Stra�a', 'ŠMARTNO PRI LITIJI', 'Dol pri Ljubljani', '�alovci', 'Diva�a', 'Hajdina', 'MURSKA SOBOTA', 'ŠEMPETER-VRTOJBA', 'Luče', 'Benedikt', 'Ver�ej', 'DESTRNIK', 'Morav�e', '�elezniki', 'PODLEHNIK', 'Kamnik', 'KOPER', 'BELTINCI', 'KOČEVJE', 'Laško', 'Kozje', 'KANAL', 'Mirna', '�u�emberk', '�tore', 'Semi�', 'Tolmin', 'ZAGORJE OB SAVI'}\n",
      "{nan, 'OS Sevnica', 'Gorišnica', 'Razkri�je', 'CANKOVA', 'TRŽIČ', 'PREVALJE', 'Kungota', 'Kranjska Gora', 'PREBOLD', 'Turni��e', 'UD Trebnje', 'ŠMARJE PRI JELŠAH', 'Železniki', 'Apa�e', 'Ivan�na Gorica', '�entjur', 'BENEDIKT', 'UD Ljutomer', '�rnomelj', 'Ru�e', 'UD Novo mesto', 'Moravske Toplice', 'ORMOŽ', 'Mirna Peč', 'Sveti Tomaž', 'VRANSKO', 'DOBRNA', 'Markovci', 'UD Tržič', 'MOKRONOG-TREBELNO', 'Rogatec', 'Žalec', 'PREDDVOR', 'Šoštanj', 'Šalovci', 'Radlje ob Dravi', 'Jezersko', 'Piran/Pirano', 'JURŠINCI', 'DOL PRI LJUBLJANI', 'OS Celje', 'Divača', 'Radenci', 'UD Domžale', 'UD Krško', 'UD Sevnica', 'Hodoš', 'Šentjernej', 'MIRNA PEČ', 'OS Koper', 'Kuzma', 'KRIŽEVCI', 'VELIKA POLANA', 'Šmarje pri Jelšah', 'Tržič', 'ROGATEC', 'LOŠKA DOLINA', 'Lendava', 'ŽETALE', 'Sveti Jurij ob ��avnici', '�o�tanj', 'Tr�i�', 'CERKLJE NA GORENJSKEM', 'Se�ana', 'UD Pesnica', 'UD Radlje ob Dravi', 'Naklo', 'Hrpelje - Kozina', 'Rogaška Slatina', 'Lukovica', 'Loški Potok', 'Rače - Fram', 'AJDOVŠČINA', 'Bistrica ob Sotli', 'Cerklje na Gorenjskem', 'Ptuj', 'Cerknica', 'Nazarje', 'POLZELA', 'MIREN-KOSTANJEVICA', 'Središče ob Dravi', 'CERKNO', 'Duplek', 'KRANJSKA GORA', 'LOGATEC', 'RADENCI', 'Kanal', 'Črnomelj', 'UD Koper', 'Horjul', 'Grosuplje', 'Sodra�ica', 'UD Logatec', 'Bre�ice', 'VITANJE', 'Velika Polana', 'DRAVOGRAD', 'OS Ljubljana', 'Brezovica', 'Rogašovci', 'Borovnica', 'Zre�e', 'BREZOVICA', 'Ormož', 'SLOVENJ GRADEC', '�marje pri Jel�ah', '�entjernej', 'LAŠKO', 'DOLENJSKE TOPLICE', 'Medvode', 'Črna na Koroškem', 'UD Idrija', 'Me�ica', '�martno pri Litiji', 'Podčetrtek', 'DIVAČA', 'Lu�e', 'HORJUL', 'RAZKRIŽJE', 'Pivka', 'SREDIŠČE OB DRAVI', 'Beltinci', 'Ormo�', 'GORNJA RADGONA', 'TABOR', 'Kidri�evo', 'Logatec', 'Ajdovščina', 'Izola/Isola', 'IVANČNA GORICA', 'Ravne na Koroškem', 'SEVNICA', 'Metlika', 'GORNJI GRAD', 'UD Cerknica', 'Maj�perk', 'UD Piran', 'Brda', 'UD Kočevje', '�ren�ovci', 'Mirna Pe�', 'Idrija', 'Škofljica', 'Kobarid', 'UD Gornja Radgona', 'Šentjur', 'ŠENTILJ', 'Vransko', 'Sveti Andraž v Slovenskih goricah', 'MARKOVCI', 'Tabor', 'OS Ptuj', 'Dobrova - Polhov Gradec', 'BISTRICA OB SOTLI', 'LENART', 'ODRANCI', 'Dobje', 'PODČETRTEK', 'TURNIŠČE', 'Trzin', 'MISLINJA', 'SOLČAVA', 'UD Dravograd', 'Re�ica ob Savinji', 'OS Kranj', 'UD Metlika', 'Pesnica', 'BLED', 'Hoče - Slivnica', 'Gornji Grad', 'SODRAŽICA', 'Polj�ane', 'MUTA', 'KOMENDA', 'OSILNICA', 'POLJČANE', 'Komen', 'ZREČE', 'CERKVENJAK', 'Komenda', 'MOZIRJE', 'Slovenska Bistrica', 'Dobrovnik/Dobronak', 'Osilnica', '�entilj', 'Zreče', 'Gornja Radgona', 'Radeče', 'Prebold', 'Ajdov��ina', 'Lovrenc na Pohorju', 'RIBNICA', 'Štore', 'UD Črnomelj', 'UD Lenart', 'UD Radovljica', 'OS Velenje', 'Roga�ovci', '�marje�ke Toplice', 'Dom�ale', 'ČRNOMELJ', 'ŠALOVCI', 'Lenart', 'Apače', '�martno ob Paki', 'ŽIROVNICA', 'Pod�etrtek', 'Veržej', 'Cankova', 'NOVA GORICA', 'Ren�e - Vogrsko', 'RAVNE NA KOROŠKEM', 'VELIKE LAŠČE', 'OS Nova Gorica', 'Ribnica', 'KOSTEL', 'Bled', 'SEMIČ', 'Mislinja', 'Odranci', 'Vrhnika', 'Log - Dragomer', 'Šmarješke Toplice', 'IG', 'Oplotnica', 'Ho�e - Slivnica', 'Solčava', 'Vojnik', 'Mežica', 'Miren - Kostanjevica', 'Maribor', 'Velike Lašče', 'POSTOJNA', 'UD Ruše', 'ROGAŠOVCI', 'Razkrižje', 'Murska Sobota', 'Ljubno', '�kofljica', 'UD Laško', 'Tišina', 'UD Ormož', 'UD Slovenske Konjice', '�empeter - Vrtojba', 'ŠKOFLJICA', 'VELENJE', 'Videm', 'UD Ilirska Bistrica', 'SLOVENSKA BISTRICA', 'ŠKOCJAN', 'UD Vrhnika', 'Ankaran', 'UD Šmarje pri Jelšah', 'Ig', 'Loška dolina', 'UD Grosuplje', 'SVETI TOMAŽ', 'KAMNIK', 'Kri�evci', 'OS Novo mesto', 'UD Tolmin', 'UD Ajdovščina', 'PIRAN', 'TIŠINA', 'TOLMIN', 'VUZENICA', 'Gorenja vas - Poljane', 'Gornji Petrovci', 'Šenčur', 'Ljubljana', 'HOČE-SLIVNICA', 'TRZIN', 'Rade�e', 'GRAD', 'ŽELEZNIKI', 'SVETI JURIJ OB ŠČAVNICI', 'Bovec', 'Star�e', 'Zavr�', 'UD Postojna', 'Turnišče', 'UD Velenje', 'VRHNIKA', 'DOBREPOLJE', 'MORAVSKE TOPLICE', '�irovnica', '�rna na Koro�kem', 'Trebnje', 'Mengeš', 'UD Škofja Loka', 'CERKNICA', 'Muta', 'LJUTOMER', 'Sveti Jurij ob Ščavnici', 'HRPELJE-KOZINA', 'VIDEM', 'La�ko', 'MAJŠPERK', 'Trnovska vas', 'Koper/Capodistria', 'RAČE-FRAM', 'Občina izven RS', 'Renče - Vogrsko', 'Miklavž na Dravskem polju', 'Podlehnik', 'Jur�inci', 'Postojna', 'Slovenj Gradec', 'MIRNA', 'Litija', 'DOBJE', 'GORJE', 'VERŽEJ', 'KIDRIČEVO', 'Žužemberk', 'Ribnica na Pohorju', 'Piran', 'IZOLA', 'Puconci', '�iri', 'Hrastnik', 'ROGAŠKA SLATINA', 'Moravče', 'Menge�', 'JESENICE', 'HAJDINA', 'Zavrč', 'UD Hrastnik', 'KOSTANJEVICA NA KRKI', 'OS Maribor', 'Ko�evje', 'DOBROVA-POLHOV GRADEC', 'Gorje', 'NOVO MESTO', 'Bohinj', 'UD Celje', 'PESNICA', 'ILIRSKA BISTRICA', 'OPLOTNICA', '�alec', 'Kr�ko', 'UD Izola', 'DOMŽALE', 'SVETA TROJICA V SLOVENSKIH GORICAH', 'KOMEN', 'Koper', 'Vodice', 'GORENJA VAS-POLJANE', 'Mokronog - Trebelno', 'Trbovlje', 'DUPLEK', 'SLOVENSKE KONJICE', 'Dobrepolje', 'UD Jesenice', 'MEDVODE', 'BRASLOVČE', 'Dobrovnik', 'Kostel', 'Šentrupert', 'MARIBOR', 'Kobilje', 'Sol�ava', 'Straža', 'Žetale', 'LJUBNO', 'Lendava/Lendva', 'REČICA OB SAVINJI', 'SVETI ANDRAŽ V SLOV. GORICAH', 'Brežice', 'UD Ptuj', 'Mozirje', 'ŠENTJERNEJ', 'HODOŠ', 'Nova Gorica', 'Zagorje ob Savi', 'Grad', 'Braslovče', 'BRDA', 'RADOVLJICA', 'UD Slovenj Gradec', 'RADEČE', 'UD Kamnik', 'LOŠKI POTOK', 'Žiri', 'BOVEC', 'Radovljica', 'Preddvor', 'ŽIRI', '�kofja Loka', 'OS Murska Sobota', 'Ankaran/Ancarano', 'Dornava', 'Sveti Andra� v Slov. goricah', 'Sredi��e ob Dravi', 'GORIŠNICA', 'BOROVNICA', 'Dobrna', 'Ruše', 'UD Ljubljana', 'Kranj', 'RUŠE', 'UD Lendava', 'GORNJI PETROVCI', 'UD Brežice', 'Rečica ob Savinji', 'Miklav� na Dravskem polju', 'Kidričevo', 'Šmartno ob Paki', '�etale', 'Ivančna Gorica', 'MIKLAVŽ NA DRAVSKEM POLJU', 'UD Litija', 'Cerkno', 'Starše', 'Ljutomer', 'PUCONCI', 'METLIKA', 'LUKOVICA', 'Šentilj', 'BOHINJ', 'Dolenjske Toplice', 'UD Ravne na Koroškem', 'Velenje', 'Dravograd', 'Kostanjevica na Krki', 'UD Slovenska Bistrica', 'VODICE', 'ŠTORE', 'UD Maribor', 'ŠENTRUPERT', 'Prevalje', 'BREŽICE', 'HRASTNIK', 'Sveti Jurij v Slovenskih goricah', 'MEŽICA', 'UD Sežana', 'Selnica ob Dravi', 'Škocjan', 'SVETA ANA', 'PIVKA', 'Velike La��e', 'Sveta Ana', 'BLOKE', 'ŽUŽEMBERK', 'KOBILJE', 'Šmartno pri Litiji', 'Novo mesto', 'Polzela', 'Škofja Loka', 'CELJE', 'UD Šentjur', 'NAKLO', 'LJUBLJANA', 'Sevnica', 'ŠMARTNO OB PAKI', 'Vipava', 'MORAVČE', 'ŠKOFJA LOKA', 'KUZMA', 'KOZJE', 'DORNAVA', 'Majšperk', 'ŠMARJEŠKE TOPLICE', 'KRŠKO', 'ŠOŠTANJ', 'Hodo�/Hodos', 'Sveti Jurij v Slov. goricah', 'Ilirska Bistrica', 'MAKOLE', '�kocjan', 'KUNGOTA', 'VIPAVA', 'Ra�e - Fram', 'Sežana', 'APAČE', 'PTUJ', 'DOBROVNIK', 'VOJNIK', 'Roga�ka Slatina', 'Semič', 'Gori�nica', 'LUČE', 'Križevci', 'TRNOVSKA VAS', '�en�ur', 'Domžale', 'Poljčane', 'RADLJE OB DRAVI', 'Sveta Trojica v Slovenskih goricah', 'ANKARAN', 'Ravne na Koro�kem', 'ČRENŠOVCI', 'TRBOVLJE', 'Destrnik', 'GROSUPLJE', 'IDRIJA', 'CIRKULANE', 'RIBNICA NA POHORJU', 'Cirkulane', 'Sveti Toma�', '�entrupert', 'KOBARID', 'ŠENTJUR', 'Cerkvenjak', 'PODVELKA', 'MENGEŠ', 'ZAVRČ', 'SELNICA OB DRAVI', 'SEŽANA', 'Izola', 'Makole', 'JEZERSKO', 'UD Trbovlje', 'Bloke', 'LENDAVA', 'Kočevje', 'Krško', 'Črenšovci', 'UD Ribnica', 'LOVRENC NA POHORJU', 'UD Nova Gorica', 'Podvelka', 'STRAŽA', 'Šempeter - Vrtojba', 'Celje', 'NAZARJE', 'RENČE-VOGRSKO', 'LOG - DRAGOMER', 'UD Mozirje', 'KRANJ', 'Ti�ina', 'Lo�ki Potok', 'ŠENČUR', 'Jesenice', 'Vitanje', 'Juršinci', 'ČRNA NA KOROŠKEM', 'TREBNJE', 'ŽALEC', 'SVETI JURIJ V SLOVENSKIH GORICAH', 'Žirovnica', 'Lo�ka dolina', 'Sveta Trojica v Slov. goricah', 'LITIJA', 'Slovenske Konjice', 'STARŠE', 'UD Kranj', 'UD Zagorje', 'Vuzenica', 'Sodražica', 'SLOVENIJA', 'Braslov�e', 'Stra�a', 'ŠMARTNO PRI LITIJI', 'Dol pri Ljubljani', '�alovci', 'Diva�a', 'Hajdina', 'UD Žalec', 'MURSKA SOBOTA', 'ŠEMPETER-VRTOJBA', 'Luče', 'Benedikt', 'Ver�ej', 'DESTRNIK', 'Morav�e', '�elezniki', 'PODLEHNIK', 'Kamnik', 'KOPER', 'BELTINCI', 'KOČEVJE', 'Laško', 'Kozje', 'KANAL', 'Mirna', '�u�emberk', '�tore', 'Semi�', 'UD Murska Sobota', 'OS Trbovlje', 'Tolmin', 'ZAGORJE OB SAVI'}\n",
      "{nan, 'OS Sevnica', 'Gorišnica', 'Razkri�je', 'CANKOVA', 'TRŽIČ', 'PREVALJE', 'Kungota', 'Kranjska Gora', 'PREBOLD', 'Turni��e', 'UD Trebnje', 'ŠMARJE PRI JELŠAH', 'Železniki', 'Apa�e', 'Ivan�na Gorica', '�entjur', 'BENEDIKT', 'UD Ljutomer', '�rnomelj', 'Ru�e', 'UD Novo mesto', 'Moravske Toplice', 'ORMOŽ', 'Mirna Peč', 'Sveti Tomaž', 'VRANSKO', 'DOBRNA', 'Markovci', 'UD Tržič', 'MOKRONOG-TREBELNO', 'Rogatec', 'Žalec', 'PREDDVOR', 'Šoštanj', 'Šalovci', 'Radlje ob Dravi', 'Jezersko', 'Piran/Pirano', 'JURŠINCI', 'DOL PRI LJUBLJANI', 'OS Celje', 'Divača', 'Radenci', 'UD Domžale', 'UD Krško', 'UD Sevnica', 'Hodoš', 'Šentjernej', 'MIRNA PEČ', 'OS Koper', 'Kuzma', 'KRIŽEVCI', 'VELIKA POLANA', 'Šmarje pri Jelšah', 'Tržič', 'ROGATEC', 'LOŠKA DOLINA', 'Lendava', 'ŽETALE', 'Sveti Jurij ob ��avnici', '�o�tanj', 'Tr�i�', 'CERKLJE NA GORENJSKEM', 'Se�ana', 'UD Pesnica', 'UD Radlje ob Dravi', 'Naklo', 'Hrpelje - Kozina', 'Rogaška Slatina', 'Lukovica', 'Loški Potok', 'Rače - Fram', 'AJDOVŠČINA', 'Bistrica ob Sotli', 'Cerklje na Gorenjskem', 'Ptuj', 'Cerknica', 'Nazarje', 'POLZELA', 'MIREN-KOSTANJEVICA', 'Središče ob Dravi', 'CERKNO', 'Duplek', 'KRANJSKA GORA', 'LOGATEC', 'RADENCI', 'Kanal', 'Črnomelj', 'UD Koper', 'Horjul', 'Grosuplje', 'Sodra�ica', 'UD Logatec', 'Bre�ice', 'VITANJE', 'Velika Polana', 'DRAVOGRAD', 'OS Ljubljana', 'Brezovica', 'Rogašovci', 'Borovnica', 'Zre�e', 'BREZOVICA', 'Ormož', 'SLOVENJ GRADEC', '�marje pri Jel�ah', '�entjernej', 'LAŠKO', 'DOLENJSKE TOPLICE', 'Medvode', 'Črna na Koroškem', 'UD Idrija', 'Me�ica', '�martno pri Litiji', 'Podčetrtek', 'DIVAČA', 'Lu�e', 'HORJUL', 'RAZKRIŽJE', 'Pivka', 'SREDIŠČE OB DRAVI', 'Beltinci', 'Ormo�', 'GORNJA RADGONA', 'TABOR', 'Kidri�evo', 'Logatec', 'Ajdovščina', 'Izola/Isola', 'IVANČNA GORICA', 'Ravne na Koroškem', 'SEVNICA', 'Metlika', 'GORNJI GRAD', 'UD Cerknica', 'Maj�perk', 'UD Piran', 'Brda', 'UD Kočevje', '�ren�ovci', 'Mirna Pe�', 'Idrija', 'Škofljica', 'Kobarid', 'UD Gornja Radgona', 'Šentjur', 'ŠENTILJ', 'Vransko', 'Sveti Andraž v Slovenskih goricah', 'MARKOVCI', 'Tabor', 'OS Ptuj', 'Dobrova - Polhov Gradec', 'BISTRICA OB SOTLI', 'LENART', 'ODRANCI', 'Dobje', 'PODČETRTEK', 'TURNIŠČE', 'Trzin', 'MISLINJA', 'SOLČAVA', 'UD Dravograd', 'Re�ica ob Savinji', 'OS Kranj', 'UD Metlika', 'Pesnica', 'BLED', 'Hoče - Slivnica', 'Gornji Grad', 'SODRAŽICA', 'Polj�ane', 'MUTA', 'KOMENDA', 'OSILNICA', 'POLJČANE', 'Komen', 'ZREČE', 'CERKVENJAK', 'Komenda', 'MOZIRJE', 'Slovenska Bistrica', 'Dobrovnik/Dobronak', 'Osilnica', '�entilj', 'Zreče', 'Gornja Radgona', 'Radeče', 'Prebold', 'Ajdov��ina', 'Lovrenc na Pohorju', 'RIBNICA', 'Štore', 'UD Črnomelj', 'UD Lenart', 'UD Radovljica', 'OS Velenje', 'Roga�ovci', '�marje�ke Toplice', 'Dom�ale', 'ČRNOMELJ', 'ŠALOVCI', 'Lenart', 'Apače', '�martno ob Paki', 'ŽIROVNICA', 'Pod�etrtek', 'Veržej', 'Cankova', 'NOVA GORICA', 'Ren�e - Vogrsko', 'RAVNE NA KOROŠKEM', 'VELIKE LAŠČE', 'OS Nova Gorica', 'Ribnica', 'KOSTEL', 'Bled', 'SEMIČ', 'Mislinja', 'Odranci', 'Vrhnika', 'Log - Dragomer', 'Šmarješke Toplice', 'IG', 'Oplotnica', 'Ho�e - Slivnica', 'Solčava', 'Vojnik', 'Mežica', 'Miren - Kostanjevica', 'Maribor', 'Velike Lašče', 'POSTOJNA', 'UD Ruše', 'ROGAŠOVCI', 'Razkrižje', 'Murska Sobota', 'Ljubno', '�kofljica', 'UD Laško', 'Tišina', 'UD Ormož', 'UD Slovenske Konjice', '�empeter - Vrtojba', 'ŠKOFLJICA', 'VELENJE', 'Videm', 'UD Ilirska Bistrica', 'SLOVENSKA BISTRICA', 'ŠKOCJAN', 'UD Vrhnika', 'Ankaran', 'UD Šmarje pri Jelšah', 'Ig', 'Loška dolina', 'UD Grosuplje', 'SVETI TOMAŽ', 'KAMNIK', 'Kri�evci', 'OS Novo mesto', 'UD Tolmin', 'UD Ajdovščina', 'PIRAN', 'TIŠINA', 'TOLMIN', 'VUZENICA', 'Gorenja vas - Poljane', 'Gornji Petrovci', 'Šenčur', 'Ljubljana', 'HOČE-SLIVNICA', 'TRZIN', 'Rade�e', 'GRAD', 'ŽELEZNIKI', 'SVETI JURIJ OB ŠČAVNICI', 'Bovec', 'Star�e', 'Zavr�', 'UD Postojna', 'Turnišče', 'UD Velenje', 'VRHNIKA', 'DOBREPOLJE', 'MORAVSKE TOPLICE', '�irovnica', '�rna na Koro�kem', 'Trebnje', 'Mengeš', 'UD Škofja Loka', 'CERKNICA', 'Muta', 'LJUTOMER', 'Sveti Jurij ob Ščavnici', 'HRPELJE-KOZINA', 'VIDEM', 'La�ko', 'MAJŠPERK', 'Trnovska vas', 'Koper/Capodistria', 'RAČE-FRAM', 'Občina izven RS', 'Renče - Vogrsko', 'Miklavž na Dravskem polju', 'Podlehnik', 'Jur�inci', 'Postojna', 'Slovenj Gradec', 'MIRNA', 'Litija', 'DOBJE', 'GORJE', 'VERŽEJ', 'KIDRIČEVO', 'Žužemberk', 'Ribnica na Pohorju', 'Piran', 'IZOLA', 'Puconci', '�iri', 'Hrastnik', 'ROGAŠKA SLATINA', 'Moravče', 'Menge�', 'JESENICE', 'HAJDINA', 'Zavrč', 'UD Hrastnik', 'KOSTANJEVICA NA KRKI', 'OS Maribor', 'Ko�evje', 'DOBROVA-POLHOV GRADEC', 'Gorje', 'NOVO MESTO', 'Bohinj', 'UD Celje', 'PESNICA', 'ILIRSKA BISTRICA', 'OPLOTNICA', '�alec', 'Kr�ko', 'UD Izola', 'DOMŽALE', 'SVETA TROJICA V SLOVENSKIH GORICAH', 'KOMEN', 'Koper', 'Vodice', 'GORENJA VAS-POLJANE', 'Mokronog - Trebelno', 'Trbovlje', 'DUPLEK', 'SLOVENSKE KONJICE', 'Dobrepolje', 'UD Jesenice', 'MEDVODE', 'BRASLOVČE', 'Dobrovnik', 'Kostel', 'Šentrupert', 'MARIBOR', 'Kobilje', 'Sol�ava', 'Straža', 'Žetale', 'LJUBNO', 'Lendava/Lendva', 'REČICA OB SAVINJI', 'SVETI ANDRAŽ V SLOV. GORICAH', 'Brežice', 'UD Ptuj', 'Mozirje', 'ŠENTJERNEJ', 'HODOŠ', 'Nova Gorica', 'Zagorje ob Savi', 'Grad', 'Braslovče', 'BRDA', 'RADOVLJICA', 'UD Slovenj Gradec', 'RADEČE', 'UD Kamnik', 'LOŠKI POTOK', 'Žiri', 'BOVEC', 'Radovljica', 'Preddvor', 'ŽIRI', '�kofja Loka', 'OS Murska Sobota', 'Ankaran/Ancarano', 'Dornava', 'Sveti Andra� v Slov. goricah', 'Sredi��e ob Dravi', 'GORIŠNICA', 'BOROVNICA', 'Dobrna', 'Ruše', 'UD Ljubljana', 'Kranj', 'RUŠE', 'UD Lendava', 'GORNJI PETROVCI', 'UD Brežice', 'Rečica ob Savinji', 'Miklav� na Dravskem polju', 'Kidričevo', 'Šmartno ob Paki', '�etale', 'Ivančna Gorica', 'MIKLAVŽ NA DRAVSKEM POLJU', 'UD Litija', 'Cerkno', 'Starše', 'Ljutomer', 'PUCONCI', 'METLIKA', 'LUKOVICA', 'Šentilj', 'BOHINJ', 'Dolenjske Toplice', 'UD Ravne na Koroškem', 'Velenje', 'Dravograd', 'Kostanjevica na Krki', 'UD Slovenska Bistrica', 'VODICE', 'ŠTORE', 'UD Maribor', 'ŠENTRUPERT', 'Prevalje', 'BREŽICE', 'HRASTNIK', 'Sveti Jurij v Slovenskih goricah', 'MEŽICA', 'UD Sežana', 'Selnica ob Dravi', 'Škocjan', 'SVETA ANA', 'PIVKA', 'Velike La��e', 'Sveta Ana', 'BLOKE', 'ŽUŽEMBERK', 'KOBILJE', 'Šmartno pri Litiji', 'Novo mesto', 'Polzela', 'Škofja Loka', 'CELJE', 'UD Šentjur', 'NAKLO', 'LJUBLJANA', 'Sevnica', 'ŠMARTNO OB PAKI', 'Vipava', 'MORAVČE', 'ŠKOFJA LOKA', 'KUZMA', 'KOZJE', 'DORNAVA', 'Majšperk', 'ŠMARJEŠKE TOPLICE', 'KRŠKO', 'ŠOŠTANJ', 'Hodo�/Hodos', 'Sveti Jurij v Slov. goricah', 'Ilirska Bistrica', 'MAKOLE', '�kocjan', 'KUNGOTA', 'VIPAVA', 'Ra�e - Fram', 'Sežana', 'APAČE', 'PTUJ', 'DOBROVNIK', 'VOJNIK', 'Roga�ka Slatina', 'Semič', 'Gori�nica', 'LUČE', 'Križevci', 'TRNOVSKA VAS', '�en�ur', 'Domžale', 'Poljčane', 'RADLJE OB DRAVI', 'Sveta Trojica v Slovenskih goricah', 'ANKARAN', 'Ravne na Koro�kem', 'ČRENŠOVCI', 'TRBOVLJE', 'Destrnik', 'GROSUPLJE', 'IDRIJA', 'CIRKULANE', 'RIBNICA NA POHORJU', 'Cirkulane', 'Sveti Toma�', '�entrupert', 'KOBARID', 'ŠENTJUR', 'Cerkvenjak', 'PODVELKA', 'MENGEŠ', 'ZAVRČ', 'SELNICA OB DRAVI', 'SEŽANA', 'Izola', 'Makole', 'JEZERSKO', 'UD Trbovlje', 'Bloke', 'LENDAVA', 'Kočevje', 'Krško', 'Črenšovci', 'UD Ribnica', 'LOVRENC NA POHORJU', 'UD Nova Gorica', 'Podvelka', 'STRAŽA', 'Šempeter - Vrtojba', 'Celje', 'NAZARJE', 'RENČE-VOGRSKO', 'LOG - DRAGOMER', 'UD Mozirje', 'KRANJ', 'Ti�ina', 'Lo�ki Potok', 'ŠENČUR', 'Jesenice', 'Vitanje', 'Juršinci', 'ČRNA NA KOROŠKEM', 'TREBNJE', 'ŽALEC', 'SVETI JURIJ V SLOVENSKIH GORICAH', 'Žirovnica', 'Lo�ka dolina', 'Sveta Trojica v Slov. goricah', 'LITIJA', 'Slovenske Konjice', 'STARŠE', 'UD Kranj', 'UD Zagorje', 'Vuzenica', 'Sodražica', 'SLOVENIJA', 'Braslov�e', 'Stra�a', 'ŠMARTNO PRI LITIJI', 'Dol pri Ljubljani', '�alovci', 'Diva�a', 'Hajdina', 'UD Žalec', 'MURSKA SOBOTA', 'ŠEMPETER-VRTOJBA', 'Luče', 'Benedikt', 'Ver�ej', 'DESTRNIK', 'Morav�e', '�elezniki', 'PODLEHNIK', 'Kamnik', 'KOPER', 'BELTINCI', 'KOČEVJE', 'Laško', 'Kozje', 'KANAL', 'Mirna', '�u�emberk', '�tore', 'Semi�', 'UD Murska Sobota', 'OS Trbovlje', 'Tolmin', 'ZAGORJE OB SAVI'}\n",
      "{nan, 'OS Sevnica', 'Gorišnica', 'Razkri�je', 'CANKOVA', 'TRŽIČ', 'PREVALJE', 'Kungota', 'Kranjska Gora', 'PREBOLD', 'Turni��e', 'UD Trebnje', 'ŠMARJE PRI JELŠAH', 'Železniki', 'Apa�e', 'Ivan�na Gorica', '�entjur', 'BENEDIKT', 'UD Ljutomer', '�rnomelj', 'Ru�e', 'UD Novo mesto', 'Moravske Toplice', 'ORMOŽ', 'Mirna Peč', 'Sveti Tomaž', 'VRANSKO', 'DOBRNA', 'Markovci', 'UD Tržič', 'MOKRONOG-TREBELNO', 'Rogatec', 'Žalec', 'PREDDVOR', 'Šoštanj', 'Šalovci', 'Radlje ob Dravi', 'Jezersko', 'Piran/Pirano', 'JURŠINCI', 'DOL PRI LJUBLJANI', 'OS Celje', 'Divača', 'Radenci', 'UD Domžale', 'UD Krško', 'UD Sevnica', 'Hodoš', 'Šentjernej', 'MIRNA PEČ', 'OS Koper', 'Kuzma', 'KRIŽEVCI', 'VELIKA POLANA', 'Šmarje pri Jelšah', 'Tržič', 'ROGATEC', 'LOŠKA DOLINA', 'Lendava', 'ŽETALE', 'Sveti Jurij ob ��avnici', '�o�tanj', 'Tr�i�', 'CERKLJE NA GORENJSKEM', 'Se�ana', 'UD Pesnica', 'UD Radlje ob Dravi', 'Naklo', 'Hrpelje - Kozina', 'Rogaška Slatina', 'Lukovica', 'Loški Potok', 'Rače - Fram', 'AJDOVŠČINA', 'Bistrica ob Sotli', 'Cerklje na Gorenjskem', 'Ptuj', 'Cerknica', 'Nazarje', 'POLZELA', 'MIREN-KOSTANJEVICA', 'Središče ob Dravi', 'CERKNO', 'Duplek', 'KRANJSKA GORA', 'LOGATEC', 'RADENCI', 'Kanal', 'Črnomelj', 'UD Koper', 'Horjul', 'Grosuplje', 'Sodra�ica', 'UD Logatec', 'Bre�ice', 'VITANJE', 'Velika Polana', 'DRAVOGRAD', 'OS Ljubljana', 'Brezovica', 'Rogašovci', 'Borovnica', 'Zre�e', 'BREZOVICA', 'Ormož', 'SLOVENJ GRADEC', '�marje pri Jel�ah', '�entjernej', 'LAŠKO', 'DOLENJSKE TOPLICE', 'Medvode', 'Črna na Koroškem', 'UD Idrija', 'Me�ica', '�martno pri Litiji', 'Podčetrtek', 'DIVAČA', 'Lu�e', 'HORJUL', 'RAZKRIŽJE', 'Pivka', 'SREDIŠČE OB DRAVI', 'Beltinci', 'Ormo�', 'GORNJA RADGONA', 'TABOR', 'Kidri�evo', 'Logatec', 'Ajdovščina', 'Izola/Isola', 'IVANČNA GORICA', 'Ravne na Koroškem', 'SEVNICA', 'Metlika', 'GORNJI GRAD', 'UD Cerknica', 'Maj�perk', 'UD Piran', 'Brda', 'UD Kočevje', '�ren�ovci', 'Mirna Pe�', 'Idrija', 'Škofljica', 'Kobarid', 'UD Gornja Radgona', 'Šentjur', 'ŠENTILJ', 'Vransko', 'Sveti Andraž v Slovenskih goricah', 'MARKOVCI', 'Tabor', 'OS Ptuj', 'Dobrova - Polhov Gradec', 'BISTRICA OB SOTLI', 'LENART', 'ODRANCI', 'Dobje', 'PODČETRTEK', 'TURNIŠČE', 'Trzin', 'MISLINJA', 'SOLČAVA', 'UD Dravograd', 'Re�ica ob Savinji', 'OS Kranj', 'UD Metlika', 'Pesnica', 'BLED', 'Hoče - Slivnica', 'Gornji Grad', 'SODRAŽICA', 'Polj�ane', 'MUTA', 'KOMENDA', 'OSILNICA', 'POLJČANE', 'Komen', 'ZREČE', 'CERKVENJAK', 'Komenda', 'MOZIRJE', 'Slovenska Bistrica', 'Dobrovnik/Dobronak', 'Osilnica', '�entilj', 'Zreče', 'Gornja Radgona', 'Radeče', 'Prebold', 'Ajdov��ina', 'Lovrenc na Pohorju', 'RIBNICA', 'Štore', 'UD Črnomelj', 'UD Lenart', 'UD Radovljica', 'OS Velenje', 'Roga�ovci', '�marje�ke Toplice', 'Dom�ale', 'ČRNOMELJ', 'ŠALOVCI', 'Lenart', 'Apače', '�martno ob Paki', 'ŽIROVNICA', 'Pod�etrtek', 'Veržej', 'Cankova', 'NOVA GORICA', 'Ren�e - Vogrsko', 'RAVNE NA KOROŠKEM', 'VELIKE LAŠČE', 'OS Nova Gorica', 'Ribnica', 'KOSTEL', 'Bled', 'SEMIČ', 'Mislinja', 'Odranci', 'Vrhnika', 'Log - Dragomer', 'Šmarješke Toplice', 'IG', 'Oplotnica', 'Ho�e - Slivnica', 'Solčava', 'Vojnik', 'Mežica', 'Miren - Kostanjevica', 'Maribor', 'Velike Lašče', 'POSTOJNA', 'UD Ruše', 'ROGAŠOVCI', 'Razkrižje', 'Murska Sobota', 'Ljubno', '�kofljica', 'UD Laško', 'Tišina', 'UD Ormož', 'UD Slovenske Konjice', '�empeter - Vrtojba', 'ŠKOFLJICA', 'VELENJE', 'Videm', 'UD Ilirska Bistrica', 'SLOVENSKA BISTRICA', 'ŠKOCJAN', 'UD Vrhnika', 'Ankaran', 'UD Šmarje pri Jelšah', 'Ig', 'Loška dolina', 'UD Grosuplje', 'SVETI TOMAŽ', 'KAMNIK', 'Kri�evci', 'OS Novo mesto', 'UD Tolmin', 'UD Ajdovščina', 'PIRAN', 'TIŠINA', 'TOLMIN', 'VUZENICA', 'Gorenja vas - Poljane', 'Gornji Petrovci', 'Šenčur', 'Ljubljana', 'HOČE-SLIVNICA', 'TRZIN', 'Rade�e', 'GRAD', 'ŽELEZNIKI', 'SVETI JURIJ OB ŠČAVNICI', 'Bovec', 'Star�e', 'Zavr�', 'UD Postojna', 'Turnišče', 'UD Velenje', 'VRHNIKA', 'DOBREPOLJE', 'MORAVSKE TOPLICE', '�irovnica', '�rna na Koro�kem', 'Trebnje', 'Mengeš', 'UD Škofja Loka', 'CERKNICA', 'Muta', 'LJUTOMER', 'Sveti Jurij ob Ščavnici', 'HRPELJE-KOZINA', 'VIDEM', 'La�ko', 'MAJŠPERK', 'Trnovska vas', 'Koper/Capodistria', 'RAČE-FRAM', 'Občina izven RS', 'Renče - Vogrsko', 'Miklavž na Dravskem polju', 'Podlehnik', 'Jur�inci', 'Postojna', 'Slovenj Gradec', 'MIRNA', 'Litija', 'DOBJE', 'GORJE', 'VERŽEJ', 'KIDRIČEVO', 'Žužemberk', 'Ribnica na Pohorju', 'Piran', 'IZOLA', 'Puconci', '�iri', 'Hrastnik', 'ROGAŠKA SLATINA', 'Moravče', 'Menge�', 'JESENICE', 'HAJDINA', 'Zavrč', 'UD Hrastnik', 'KOSTANJEVICA NA KRKI', 'OS Maribor', 'Ko�evje', 'DOBROVA-POLHOV GRADEC', 'Gorje', 'NOVO MESTO', 'Bohinj', 'UD Celje', 'PESNICA', 'ILIRSKA BISTRICA', 'OPLOTNICA', '�alec', 'Kr�ko', 'UD Izola', 'DOMŽALE', 'SVETA TROJICA V SLOVENSKIH GORICAH', 'KOMEN', 'Koper', 'Vodice', 'GORENJA VAS-POLJANE', 'Mokronog - Trebelno', 'Trbovlje', 'DUPLEK', 'SLOVENSKE KONJICE', 'Dobrepolje', 'UD Jesenice', 'MEDVODE', 'BRASLOVČE', 'Dobrovnik', 'Kostel', 'Šentrupert', 'MARIBOR', 'Kobilje', 'Sol�ava', 'Straža', 'Žetale', 'LJUBNO', 'Lendava/Lendva', 'REČICA OB SAVINJI', 'SVETI ANDRAŽ V SLOV. GORICAH', 'Brežice', 'UD Ptuj', 'Mozirje', 'ŠENTJERNEJ', 'HODOŠ', 'Nova Gorica', 'Zagorje ob Savi', 'Grad', 'Braslovče', 'BRDA', 'RADOVLJICA', 'UD Slovenj Gradec', 'RADEČE', 'UD Kamnik', 'LOŠKI POTOK', 'Žiri', 'BOVEC', 'Radovljica', 'Preddvor', 'ŽIRI', '�kofja Loka', 'OS Murska Sobota', 'Ankaran/Ancarano', 'Dornava', 'Sveti Andra� v Slov. goricah', 'Sredi��e ob Dravi', 'GORIŠNICA', 'BOROVNICA', 'Dobrna', 'Ruše', 'UD Ljubljana', 'Kranj', 'RUŠE', 'UD Lendava', 'GORNJI PETROVCI', 'UD Brežice', 'Rečica ob Savinji', 'Miklav� na Dravskem polju', 'Kidričevo', 'Šmartno ob Paki', '�etale', 'Ivančna Gorica', 'MIKLAVŽ NA DRAVSKEM POLJU', 'UD Litija', 'Cerkno', 'Starše', 'Ljutomer', 'PUCONCI', 'METLIKA', 'LUKOVICA', 'Šentilj', 'BOHINJ', 'Dolenjske Toplice', 'UD Ravne na Koroškem', 'Velenje', 'Dravograd', 'Kostanjevica na Krki', 'UD Slovenska Bistrica', 'VODICE', 'ŠTORE', 'UD Maribor', 'ŠENTRUPERT', 'Prevalje', 'BREŽICE', 'HRASTNIK', 'Sveti Jurij v Slovenskih goricah', 'MEŽICA', 'UD Sežana', 'Selnica ob Dravi', 'Škocjan', 'SVETA ANA', 'PIVKA', 'Velike La��e', 'Sveta Ana', 'BLOKE', 'ŽUŽEMBERK', 'KOBILJE', 'Šmartno pri Litiji', 'Novo mesto', 'Polzela', 'Škofja Loka', 'CELJE', 'UD Šentjur', 'NAKLO', 'LJUBLJANA', 'Sevnica', 'ŠMARTNO OB PAKI', 'Vipava', 'MORAVČE', 'ŠKOFJA LOKA', 'KUZMA', 'KOZJE', 'DORNAVA', 'Majšperk', 'ŠMARJEŠKE TOPLICE', 'KRŠKO', 'ŠOŠTANJ', 'Hodo�/Hodos', 'Sveti Jurij v Slov. goricah', 'Ilirska Bistrica', 'MAKOLE', '�kocjan', 'KUNGOTA', 'VIPAVA', 'Ra�e - Fram', 'Sežana', 'APAČE', 'PTUJ', 'DOBROVNIK', 'VOJNIK', 'Roga�ka Slatina', 'Semič', 'Gori�nica', 'LUČE', 'Križevci', 'TRNOVSKA VAS', '�en�ur', 'Domžale', 'Poljčane', 'RADLJE OB DRAVI', 'Sveta Trojica v Slovenskih goricah', 'ANKARAN', 'Ravne na Koro�kem', 'ČRENŠOVCI', 'TRBOVLJE', 'Destrnik', 'GROSUPLJE', 'IDRIJA', 'CIRKULANE', 'RIBNICA NA POHORJU', 'Cirkulane', 'Sveti Toma�', '�entrupert', 'KOBARID', 'ŠENTJUR', 'Cerkvenjak', 'PODVELKA', 'MENGEŠ', 'ZAVRČ', 'SELNICA OB DRAVI', 'SEŽANA', 'Izola', 'Makole', 'JEZERSKO', 'UD Trbovlje', 'Bloke', 'LENDAVA', 'Kočevje', 'Krško', 'Črenšovci', 'UD Ribnica', 'LOVRENC NA POHORJU', 'UD Nova Gorica', 'Podvelka', 'STRAŽA', 'Šempeter - Vrtojba', 'Celje', 'NAZARJE', 'RENČE-VOGRSKO', 'LOG - DRAGOMER', 'UD Mozirje', 'KRANJ', 'Ti�ina', 'Lo�ki Potok', 'ŠENČUR', 'Jesenice', 'Vitanje', 'Juršinci', 'ČRNA NA KOROŠKEM', 'TREBNJE', 'ŽALEC', 'SVETI JURIJ V SLOVENSKIH GORICAH', 'Žirovnica', 'Lo�ka dolina', 'Sveta Trojica v Slov. goricah', 'LITIJA', 'Slovenske Konjice', 'STARŠE', 'UD Kranj', 'UD Zagorje', 'Vuzenica', 'Sodražica', 'SLOVENIJA', 'Braslov�e', 'Stra�a', 'ŠMARTNO PRI LITIJI', 'Dol pri Ljubljani', '�alovci', 'Diva�a', 'Hajdina', 'UD Žalec', 'MURSKA SOBOTA', 'ŠEMPETER-VRTOJBA', 'Luče', 'Benedikt', 'Ver�ej', 'DESTRNIK', 'Morav�e', '�elezniki', 'PODLEHNIK', 'Kamnik', 'KOPER', 'BELTINCI', 'KOČEVJE', 'Laško', 'Kozje', 'KANAL', 'Mirna', '�u�emberk', '�tore', 'Semi�', 'UD Murska Sobota', 'OS Trbovlje', 'Tolmin', 'ZAGORJE OB SAVI'}\n",
      "{nan, 'OS Sevnica', 'Gorišnica', 'Razkri�je', 'CANKOVA', 'TRŽIČ', 'PREVALJE', 'Kungota', 'Kranjska Gora', 'PREBOLD', 'Turni��e', 'UD Trebnje', 'ŠMARJE PRI JELŠAH', 'Železniki', 'Apa�e', 'Ivan�na Gorica', '�entjur', 'BENEDIKT', 'UD Ljutomer', '�rnomelj', 'Ru�e', 'UD Novo mesto', 'Moravske Toplice', 'ORMOŽ', 'Mirna Peč', 'Sveti Tomaž', 'VRANSKO', 'DOBRNA', 'Markovci', 'UD Tržič', 'MOKRONOG-TREBELNO', 'Rogatec', 'Žalec', 'PREDDVOR', 'Šoštanj', 'Šalovci', 'Radlje ob Dravi', 'Jezersko', 'Piran/Pirano', 'JURŠINCI', 'DOL PRI LJUBLJANI', 'OS Celje', 'Divača', 'Radenci', 'UD Domžale', 'UD Krško', 'UD Sevnica', 'Hodoš', 'Šentjernej', 'MIRNA PEČ', 'OS Koper', 'Kuzma', 'KRIŽEVCI', 'VELIKA POLANA', 'Šmarje pri Jelšah', 'Tržič', 'ROGATEC', 'LOŠKA DOLINA', 'Lendava', 'ŽETALE', 'Sveti Jurij ob ��avnici', '�o�tanj', 'Tr�i�', 'CERKLJE NA GORENJSKEM', 'Se�ana', 'UD Pesnica', 'UD Radlje ob Dravi', 'Naklo', 'Hrpelje - Kozina', 'Rogaška Slatina', 'Lukovica', 'Loški Potok', 'Rače - Fram', 'AJDOVŠČINA', 'Bistrica ob Sotli', 'Cerklje na Gorenjskem', 'Ptuj', 'Cerknica', 'Nazarje', 'POLZELA', 'MIREN-KOSTANJEVICA', 'Središče ob Dravi', 'CERKNO', 'Duplek', 'KRANJSKA GORA', 'LOGATEC', 'RADENCI', 'Kanal', 'Črnomelj', 'UD Koper', 'Horjul', 'Grosuplje', 'Sodra�ica', 'UD Logatec', 'Bre�ice', 'VITANJE', 'Velika Polana', 'DRAVOGRAD', 'OS Ljubljana', 'Brezovica', 'Rogašovci', 'Borovnica', 'Zre�e', 'BREZOVICA', 'Ormož', 'SLOVENJ GRADEC', '�marje pri Jel�ah', '�entjernej', 'LAŠKO', 'DOLENJSKE TOPLICE', 'Medvode', 'Črna na Koroškem', 'UD Idrija', 'Me�ica', '�martno pri Litiji', 'Podčetrtek', 'DIVAČA', 'Lu�e', 'HORJUL', 'RAZKRIŽJE', 'Pivka', 'SREDIŠČE OB DRAVI', 'Beltinci', 'Ormo�', 'GORNJA RADGONA', 'TABOR', 'Kidri�evo', 'Logatec', 'Ajdovščina', 'Izola/Isola', 'IVANČNA GORICA', 'Ravne na Koroškem', 'SEVNICA', 'Metlika', 'GORNJI GRAD', 'UD Cerknica', 'Maj�perk', 'UD Piran', 'Brda', 'UD Kočevje', '�ren�ovci', 'Mirna Pe�', 'Idrija', 'Škofljica', 'Kobarid', 'UD Gornja Radgona', 'Šentjur', 'ŠENTILJ', 'Vransko', 'Sveti Andraž v Slovenskih goricah', 'MARKOVCI', 'Tabor', 'OS Ptuj', 'Dobrova - Polhov Gradec', 'BISTRICA OB SOTLI', 'LENART', 'ODRANCI', 'Dobje', 'PODČETRTEK', 'TURNIŠČE', 'Trzin', 'MISLINJA', 'SOLČAVA', 'UD Dravograd', 'Re�ica ob Savinji', 'OS Kranj', 'UD Metlika', 'Pesnica', 'BLED', 'Hoče - Slivnica', 'Gornji Grad', 'SODRAŽICA', 'Polj�ane', 'MUTA', 'KOMENDA', 'OSILNICA', 'POLJČANE', 'Komen', 'ZREČE', 'CERKVENJAK', 'Komenda', 'MOZIRJE', 'Slovenska Bistrica', 'Dobrovnik/Dobronak', 'Osilnica', '�entilj', 'Zreče', 'Gornja Radgona', 'Radeče', 'Prebold', 'Ajdov��ina', 'Lovrenc na Pohorju', 'RIBNICA', 'Štore', 'UD Črnomelj', 'UD Lenart', 'UD Radovljica', 'OS Velenje', 'Roga�ovci', '�marje�ke Toplice', 'Dom�ale', 'ČRNOMELJ', 'ŠALOVCI', 'Lenart', 'Apače', '�martno ob Paki', 'ŽIROVNICA', 'Pod�etrtek', 'Veržej', 'Cankova', 'NOVA GORICA', 'Ren�e - Vogrsko', 'RAVNE NA KOROŠKEM', 'VELIKE LAŠČE', 'OS Nova Gorica', 'Ribnica', 'KOSTEL', 'Bled', 'SEMIČ', 'Mislinja', 'Odranci', 'Vrhnika', 'Log - Dragomer', 'Šmarješke Toplice', 'IG', 'Oplotnica', 'Ho�e - Slivnica', 'Solčava', 'Vojnik', 'Mežica', 'Miren - Kostanjevica', 'Maribor', 'Velike Lašče', 'POSTOJNA', 'UD Ruše', 'ROGAŠOVCI', 'Razkrižje', 'Murska Sobota', 'Ljubno', '�kofljica', 'UD Laško', 'Tišina', 'UD Ormož', 'UD Slovenske Konjice', '�empeter - Vrtojba', 'ŠKOFLJICA', 'VELENJE', 'Videm', 'UD Ilirska Bistrica', 'SLOVENSKA BISTRICA', 'ŠKOCJAN', 'UD Vrhnika', 'Ankaran', 'UD Šmarje pri Jelšah', 'Ig', 'Loška dolina', 'UD Grosuplje', 'SVETI TOMAŽ', 'KAMNIK', 'Kri�evci', 'OS Novo mesto', 'UD Tolmin', 'UD Ajdovščina', 'PIRAN', 'TIŠINA', 'TOLMIN', 'VUZENICA', 'Gorenja vas - Poljane', 'Gornji Petrovci', 'Šenčur', 'Ljubljana', 'HOČE-SLIVNICA', 'TRZIN', 'Rade�e', 'GRAD', 'ŽELEZNIKI', 'SVETI JURIJ OB ŠČAVNICI', 'Bovec', 'Star�e', 'Zavr�', 'UD Postojna', 'Turnišče', 'UD Velenje', 'VRHNIKA', 'DOBREPOLJE', 'MORAVSKE TOPLICE', '�irovnica', '�rna na Koro�kem', 'Trebnje', 'Mengeš', 'UD Škofja Loka', 'CERKNICA', 'Muta', 'LJUTOMER', 'Sveti Jurij ob Ščavnici', 'HRPELJE-KOZINA', 'VIDEM', 'La�ko', 'MAJŠPERK', 'Trnovska vas', 'Koper/Capodistria', 'RAČE-FRAM', 'Občina izven RS', 'Renče - Vogrsko', 'Miklavž na Dravskem polju', 'Podlehnik', 'Jur�inci', 'Postojna', 'Slovenj Gradec', 'MIRNA', 'Litija', 'DOBJE', 'GORJE', 'VERŽEJ', 'KIDRIČEVO', 'Žužemberk', 'Ribnica na Pohorju', 'Piran', 'IZOLA', 'Puconci', '�iri', 'Hrastnik', 'ROGAŠKA SLATINA', 'Moravče', 'Menge�', 'JESENICE', 'HAJDINA', 'Zavrč', 'UD Hrastnik', 'KOSTANJEVICA NA KRKI', 'OS Maribor', 'Ko�evje', 'DOBROVA-POLHOV GRADEC', 'Gorje', 'NOVO MESTO', 'Bohinj', 'UD Celje', 'PESNICA', 'ILIRSKA BISTRICA', 'OPLOTNICA', '�alec', 'Kr�ko', 'UD Izola', 'DOMŽALE', 'SVETA TROJICA V SLOVENSKIH GORICAH', 'KOMEN', 'Koper', 'Vodice', 'GORENJA VAS-POLJANE', 'Mokronog - Trebelno', 'Trbovlje', 'DUPLEK', 'SLOVENSKE KONJICE', 'Dobrepolje', 'UD Jesenice', 'MEDVODE', 'BRASLOVČE', 'Dobrovnik', 'Kostel', 'Šentrupert', 'MARIBOR', 'Kobilje', 'Sol�ava', 'Straža', 'Žetale', 'LJUBNO', 'Lendava/Lendva', 'REČICA OB SAVINJI', 'SVETI ANDRAŽ V SLOV. GORICAH', 'Brežice', 'UD Ptuj', 'Mozirje', 'ŠENTJERNEJ', 'HODOŠ', 'Nova Gorica', 'Zagorje ob Savi', 'Grad', 'Braslovče', 'BRDA', 'RADOVLJICA', 'UD Slovenj Gradec', 'RADEČE', 'UD Kamnik', 'LOŠKI POTOK', 'Žiri', 'BOVEC', 'Radovljica', 'Preddvor', 'ŽIRI', '�kofja Loka', 'OS Murska Sobota', 'Ankaran/Ancarano', 'Dornava', 'Sveti Andra� v Slov. goricah', 'Sredi��e ob Dravi', 'GORIŠNICA', 'BOROVNICA', 'Dobrna', 'Ruše', 'UD Ljubljana', 'Kranj', 'RUŠE', 'UD Lendava', 'GORNJI PETROVCI', 'UD Brežice', 'Rečica ob Savinji', 'Miklav� na Dravskem polju', 'Kidričevo', 'Šmartno ob Paki', '�etale', 'Ivančna Gorica', 'MIKLAVŽ NA DRAVSKEM POLJU', 'UD Litija', 'Cerkno', 'Starše', 'Ljutomer', 'PUCONCI', 'METLIKA', 'LUKOVICA', 'Šentilj', 'BOHINJ', 'Dolenjske Toplice', 'UD Ravne na Koroškem', 'Velenje', 'Dravograd', 'Kostanjevica na Krki', 'UD Slovenska Bistrica', 'VODICE', 'ŠTORE', 'UD Maribor', 'ŠENTRUPERT', 'Prevalje', 'BREŽICE', 'HRASTNIK', 'Sveti Jurij v Slovenskih goricah', 'MEŽICA', 'UD Sežana', 'Selnica ob Dravi', 'Škocjan', 'SVETA ANA', 'PIVKA', 'Velike La��e', 'Sveta Ana', 'BLOKE', 'ŽUŽEMBERK', 'KOBILJE', 'Šmartno pri Litiji', 'Novo mesto', 'Polzela', 'Škofja Loka', 'CELJE', 'UD Šentjur', 'NAKLO', 'LJUBLJANA', 'Sevnica', 'ŠMARTNO OB PAKI', 'Vipava', 'MORAVČE', 'ŠKOFJA LOKA', 'KUZMA', 'KOZJE', 'DORNAVA', 'Majšperk', 'ŠMARJEŠKE TOPLICE', 'KRŠKO', 'ŠOŠTANJ', 'Hodo�/Hodos', 'Sveti Jurij v Slov. goricah', 'Ilirska Bistrica', 'MAKOLE', '�kocjan', 'KUNGOTA', 'VIPAVA', 'Ra�e - Fram', 'Sežana', 'APAČE', 'PTUJ', 'DOBROVNIK', 'VOJNIK', 'Roga�ka Slatina', 'Semič', 'Gori�nica', 'LUČE', 'Križevci', 'TRNOVSKA VAS', '�en�ur', 'Domžale', 'Poljčane', 'RADLJE OB DRAVI', 'Sveta Trojica v Slovenskih goricah', 'ANKARAN', 'Ravne na Koro�kem', 'ČRENŠOVCI', 'TRBOVLJE', 'Destrnik', 'GROSUPLJE', 'IDRIJA', 'CIRKULANE', 'RIBNICA NA POHORJU', 'Cirkulane', 'Sveti Toma�', '�entrupert', 'KOBARID', 'ŠENTJUR', 'Cerkvenjak', 'PODVELKA', 'MENGEŠ', 'ZAVRČ', 'SELNICA OB DRAVI', 'SEŽANA', 'Izola', 'Makole', 'JEZERSKO', 'UD Trbovlje', 'Bloke', 'LENDAVA', 'Kočevje', 'Krško', 'Črenšovci', 'UD Ribnica', 'LOVRENC NA POHORJU', 'UD Nova Gorica', 'Podvelka', 'STRAŽA', 'Šempeter - Vrtojba', 'Celje', 'NAZARJE', 'RENČE-VOGRSKO', 'LOG - DRAGOMER', 'UD Mozirje', 'KRANJ', 'Ti�ina', 'Lo�ki Potok', 'ŠENČUR', 'Jesenice', 'Vitanje', 'Juršinci', 'ČRNA NA KOROŠKEM', 'TREBNJE', 'ŽALEC', 'SVETI JURIJ V SLOVENSKIH GORICAH', 'Žirovnica', 'Lo�ka dolina', 'Sveta Trojica v Slov. goricah', 'LITIJA', 'Slovenske Konjice', 'STARŠE', 'UD Kranj', 'UD Zagorje', 'Vuzenica', 'Sodražica', 'SLOVENIJA', 'Braslov�e', 'Stra�a', 'ŠMARTNO PRI LITIJI', 'Dol pri Ljubljani', '�alovci', 'Diva�a', 'Hajdina', 'UD Žalec', 'MURSKA SOBOTA', 'ŠEMPETER-VRTOJBA', 'Luče', 'Benedikt', 'Ver�ej', 'DESTRNIK', 'Morav�e', '�elezniki', 'PODLEHNIK', 'Kamnik', 'KOPER', 'BELTINCI', 'KOČEVJE', 'Laško', 'Kozje', 'KANAL', 'Mirna', '�u�emberk', '�tore', 'Semi�', 'UD Murska Sobota', 'OS Trbovlje', 'Tolmin', 'ZAGORJE OB SAVI'}\n"
     ]
    }
   ],
   "source": [
    "# make a function that will take all the column names [\"OBČINE\", \"Občina\", \"OB�INE\", \"Kohezijska / Statistična regija\", \"Kohezijska / statistična regija\", \"Kohezijska / \\nstatistična regija\", \"Urad za delo\"]\n",
    "# and turn those into a new column name \"regija\"\n",
    "\n",
    "REGIJA = {\"občine\", \"občina\", \"ob�ine\", \"urad za delo\"}\n",
    "\n",
    "LETO = {\"leto\", \"year\"}\n",
    "\n",
    "def normaliziraj_imena_stolpcev(df):\n",
    "    # find all the columns that have the names in REGIJA and create a new column \"regija\"\n",
    "    for imeStolpca in df.columns:\n",
    "        imeStolpcaLower = imeStolpca.lower().strip()\n",
    "        if imeStolpcaLower in REGIJA:\n",
    "            df[\"__region\"] = df[imeStolpca]\n",
    "            break\n",
    "        \n",
    "        if imeStolpcaLower in LETO:\n",
    "            df[\"__year\"] = df[imeStolpca]\n",
    "            \n",
    "for key, dataFrame in data_dict.items():\n",
    "    normaliziraj_imena_stolpcev(dataFrame)\n",
    "\n",
    "possible_regions = set()\n",
    "for key, dataFrame in data_dict.items():\n",
    "    if not \"__region\" in dataFrame.columns:\n",
    "        continue\n",
    "    possible_regions.update(dataFrame['__region'].unique())\n",
    "    print(possible_regions)\n"
   ]
  }
 ],
 "metadata": {
  "kernelspec": {
   "display_name": "Python 3",
   "language": "python",
   "name": "python3"
  },
  "language_info": {
   "codemirror_mode": {
    "name": "ipython",
    "version": 3
   },
   "file_extension": ".py",
   "mimetype": "text/x-python",
   "name": "python",
   "nbconvert_exporter": "python",
   "pygments_lexer": "ipython3",
   "version": "3.9.1"
  },
  "orig_nbformat": 4
 },
 "nbformat": 4,
 "nbformat_minor": 2
}
