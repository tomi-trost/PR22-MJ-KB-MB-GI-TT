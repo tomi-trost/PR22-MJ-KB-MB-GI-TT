{
 "cells": [
  {
   "cell_type": "code",
   "execution_count": 3,
   "id": "383af63c",
   "metadata": {},
   "outputs": [
    {
     "data": {
      "text/plain": [
       "['po-obcinah_izobrazba.csv',\n",
       " 'po-obcinah_spol.csv',\n",
       " 'po-obcinah_starost.csv',\n",
       " 'po-obcinah_trajanje-brezposelnosti.csv',\n",
       " 'po-statisticnah-regijah_izobrazba.csv',\n",
       " 'po-statisticnah-regijah_spol.csv',\n",
       " 'po-statisticnah-regijah_starost.csv',\n",
       " 'po-statisticnah-regijah_trajanje-brezposelnosti.csv',\n",
       " 'po-uradih-za-delo_izobrazba.csv',\n",
       " 'po-uradih-za-delo_spol.csv',\n",
       " 'po-uradih-za-delo_starost.csv',\n",
       " 'po-uradih-za-delo_trajanje-brezposelnosti.csv',\n",
       " 'zaposleni',\n",
       " 'zaposleni_po_obcinah.csv',\n",
       " 'zaposleni_po_regijah.csv']"
      ]
     },
     "execution_count": 3,
     "metadata": {},
     "output_type": "execute_result"
    }
   ],
   "source": [
    "import os\n",
    "\n",
    "path = \"../structured_data\"\n",
    "\n",
    "os.listdir(path)"
   ]
  },
  {
   "cell_type": "code",
   "execution_count": null,
   "id": "e2bad32c",
   "metadata": {},
   "outputs": [],
   "source": [
    "import pandas as pd\n",
    "\n",
    "df = pd.read_csv(path + )"
   ]
  }
 ],
 "metadata": {
  "kernelspec": {
   "display_name": "Python 3 (ipykernel)",
   "language": "python",
   "name": "python3"
  },
  "language_info": {
   "codemirror_mode": {
    "name": "ipython",
    "version": 3
   },
   "file_extension": ".py",
   "mimetype": "text/x-python",
   "name": "python",
   "nbconvert_exporter": "python",
   "pygments_lexer": "ipython3",
   "version": "3.10.10"
  }
 },
 "nbformat": 4,
 "nbformat_minor": 5
}
