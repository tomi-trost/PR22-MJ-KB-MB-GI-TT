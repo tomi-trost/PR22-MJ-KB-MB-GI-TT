{
 "cells": [
  {
   "cell_type": "markdown",
   "id": "cc9fac6a",
   "metadata": {},
   "source": [
    "## Pretvorba slik v gif "
   ]
  },
  {
   "cell_type": "code",
   "execution_count": 39,
   "id": "0f8719c2",
   "metadata": {},
   "outputs": [
    {
     "data": {
      "text/plain": [
       "['15-24', '25-29', '30-39', '40-49', '50-54', '55+']"
      ]
     },
     "execution_count": 39,
     "metadata": {},
     "output_type": "execute_result"
    }
   ],
   "source": [
    "import os\n",
    "\n",
    "os.listdir('images')"
   ]
  },
  {
   "cell_type": "code",
   "execution_count": 42,
   "id": "aa89217b",
   "metadata": {},
   "outputs": [],
   "source": [
    "from PIL import Image\n",
    "\n",
    "d = {}\n",
    "for age_group in os.listdir('images'):\n",
    "    d[age_group] = []\n",
    "    for file in os.listdir('images/' + age_group):\n",
    "        year, other = file.split('_')\n",
    "        month, other = other.split('.')\n",
    "        other = '.' + other\n",
    "        \n",
    "        if len(month) == 1:\n",
    "            month = '0' + month\n",
    "            file = year + '_' + month + other\n",
    "            \n",
    "        d[age_group].append(file)\n",
    "\n",
    "for age_group in d.keys():\n",
    "    d[age_group].sort()\n",
    "    \n",
    "    frames = []\n",
    "    for file_name in d[age_group]:\n",
    "        mo = file_name.split('_')[1].split('.')[0]\n",
    "        if mo[0] == '0':\n",
    "            file_name = file_name.split('_')[0] + '_' + mo[1] + '.png'\n",
    "        image_path = 'images/' + age_group + '/' + file_name\n",
    "        \n",
    "        image = Image.open(image_path)\n",
    "        frames.append(image)\n",
    "        \n",
    "    output_path = \"gifs/\" + age_group + '.gif'\n",
    "    frames[0].save(output_path, save_all=True, append_images=frames[1:], loop=0, duration=300)"
   ]
  },
  {
   "cell_type": "code",
   "execution_count": null,
   "id": "ca0ea90e",
   "metadata": {},
   "outputs": [],
   "source": []
  },
  {
   "cell_type": "code",
   "execution_count": null,
   "id": "b11c650f",
   "metadata": {},
   "outputs": [],
   "source": []
  }
 ],
 "metadata": {
  "kernelspec": {
   "display_name": "Python 3 (ipykernel)",
   "language": "python",
   "name": "python3"
  },
  "language_info": {
   "codemirror_mode": {
    "name": "ipython",
    "version": 3
   },
   "file_extension": ".py",
   "mimetype": "text/x-python",
   "name": "python",
   "nbconvert_exporter": "python",
   "pygments_lexer": "ipython3",
   "version": "3.10.8"
  },
  "nbTranslate": {
   "displayLangs": [
    "*"
   ],
   "hotkey": "alt-t",
   "langInMainMenu": true,
   "sourceLang": "en",
   "targetLang": "fr",
   "useGoogleTranslate": true
  }
 },
 "nbformat": 4,
 "nbformat_minor": 5
}
