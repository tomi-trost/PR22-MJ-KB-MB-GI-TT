{
 "cells": [
  {
   "cell_type": "code",
   "execution_count": 1,
   "id": "df3ce115",
   "metadata": {},
   "outputs": [
    {
     "name": "stdout",
     "output_type": "stream",
     "text": [
      "   Group1          Group2        \n",
      "  Column1 Column2 Column3 Column4\n",
      "0       1       5       9      13\n",
      "1       2       6      10      14\n",
      "2       3       7      11      15\n",
      "3       4       8      12      16\n"
     ]
    }
   ],
   "source": [
    "import pandas as pd\n",
    "\n",
    "# Create sample data\n",
    "data = {\n",
    "    'Column1': [1, 2, 3, 4],\n",
    "    'Column2': [5, 6, 7, 8],\n",
    "    'Column3': [9, 10, 11, 12],\n",
    "    'Column4': [13, 14, 15, 16]\n",
    "}\n",
    "\n",
    "# Create a multi-index DataFrame\n",
    "df = pd.DataFrame(data)\n",
    "\n",
    "# Add a multi-index to the DataFrame\n",
    "df.columns = pd.MultiIndex.from_tuples([('Group1', 'Column1'), ('Group1', 'Column2'), ('Group2', 'Column3'), ('Group2', 'Column4')])\n",
    "\n",
    "# Display the DataFrame\n",
    "print(df)"
   ]
  },
  {
   "cell_type": "code",
   "execution_count": 4,
   "id": "b91fd965",
   "metadata": {},
   "outputs": [
    {
     "name": "stdout",
     "output_type": "stream",
     "text": [
      "[('Group1', 'Column1'), ('Group1', 'Column2'), ('Group2', 'Column3'), ('Group2', 'Column4')]\n",
      "   Group1          Group2        \n",
      "  Column1 Column2 Column3 Column4\n",
      "0       1       5       9      13\n",
      "1       2       6      10      14\n",
      "2       3       7      11      15\n",
      "3       4       8      12      16\n"
     ]
    }
   ],
   "source": [
    "levels = df.columns.tolist()\n",
    "\n",
    "# Display the result\n",
    "print(levels)\n",
    "print(df)"
   ]
  },
  {
   "cell_type": "code",
   "execution_count": 5,
   "id": "a2689b56",
   "metadata": {},
   "outputs": [
    {
     "name": "stdout",
     "output_type": "stream",
     "text": [
      "   Group1_Column1  Group1_Column2  Group2_Column3  Group2_Column4\n",
      "0               1               5               9              13\n",
      "1               2               6              10              14\n",
      "2               3               7              11              15\n",
      "3               4               8              12              16\n"
     ]
    }
   ],
   "source": [
    "df.columns = df.columns.map('_'.join)\n",
    "\n",
    "# Display the updated DataFrame\n",
    "print(df)"
   ]
  },
  {
   "cell_type": "code",
   "execution_count": null,
   "id": "7680481a",
   "metadata": {},
   "outputs": [],
   "source": []
  }
 ],
 "metadata": {
  "kernelspec": {
   "display_name": "Python 3 (ipykernel)",
   "language": "python",
   "name": "python3"
  },
  "language_info": {
   "codemirror_mode": {
    "name": "ipython",
    "version": 3
   },
   "file_extension": ".py",
   "mimetype": "text/x-python",
   "name": "python",
   "nbconvert_exporter": "python",
   "pygments_lexer": "ipython3",
   "version": "3.10.8"
  },
  "nbTranslate": {
   "displayLangs": [
    "*"
   ],
   "hotkey": "alt-t",
   "langInMainMenu": true,
   "sourceLang": "en",
   "targetLang": "fr",
   "useGoogleTranslate": true
  }
 },
 "nbformat": 4,
 "nbformat_minor": 5
}
