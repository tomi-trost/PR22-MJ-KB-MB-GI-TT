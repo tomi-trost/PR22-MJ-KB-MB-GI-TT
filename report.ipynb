{
 "cells": [
  {
   "attachments": {},
   "cell_type": "markdown",
   "metadata": {},
   "source": [
    "# Povezava med izobrazbo in brezposelnost v Sloveniji"
   ]
  },
  {
   "attachments": {},
   "cell_type": "markdown",
   "metadata": {},
   "source": [
    "### Problem"
   ]
  },
  {
   "attachments": {},
   "cell_type": "markdown",
   "metadata": {},
   "source": [
    "Problem projekta išče povezave med izobraženostjo slovencev in brezposelnostjo v Sloveniji. Ker sta pojma zelo široka smo se omejili na nekaj vprašanji, ki se dotikajo obeh tem in iz rezultatov črpali ugotovitve. \n",
    "\n",
    "Namen projekta je bil uporabiti metode podatkovnega rudarjenja,da bi izvedeli kako stopnja izobrazbe vpliva na brezposelnost, kar nas je usmerilo v raziskovanje tudi drugih vprašanj, da ugotovimo ali je izobrazba res največji povzročitelj brezposelnosti. Kontrast vprašanju o relaciji med izobrazbo in brezposelnostjo sta vprašanji o vplivu regije na zaposljivost ter vpliv regije na zaposljivost stopenj izobrazbe. \n",
    "V osnovi smo hoteli ugotoviti ali višja izobrazba res manjša brezposelnost."
   ]
  },
  {
   "attachments": {},
   "cell_type": "markdown",
   "metadata": {},
   "source": [
    "### Podatki"
   ]
  },
  {
   "attachments": {},
   "cell_type": "markdown",
   "metadata": {},
   "source": [
    "**Podatki uporabljeni:**\n",
    "\n",
    "Podatke smo vecinoma crpali iz odprtih podatkov o republiki Slovenije (podatki.gov.si). \n",
    "\n",
    "Format podatkov je bil večinoma PCAXIS, oblika csv datoteke, ki smo jo morali ustrezno pretvotiti v json ali csv. Tako smo za odpiranje datotek lahko uporabljali metode modula pandas.\n",
    "\n",
    "Ker smo podatke jemali iz podatki.gov.si in različne datoteke iz portala OPSI, smo iskali datoteke z enako formatiranimi atributi (število brezposelnih po občinah in število delovno aktivnih po občinah). Kjer so se v podatkih pojavljale manjkajoče vrednosti smo vrstice zavrgli"
   ]
  },
  {
   "attachments": {},
   "cell_type": "markdown",
   "metadata": {},
   "source": [
    "### Vprašanja"
   ]
  },
  {
   "attachments": {},
   "cell_type": "markdown",
   "metadata": {},
   "source": [
    "##### **vPR1.** Kako dosezena stopnja izobrazbe vpliva na brezposelnost?"
   ]
  },
  {
   "attachments": {},
   "cell_type": "markdown",
   "metadata": {},
   "source": [
    "###### **Analiza** in **Rezultati**"
   ]
  },
  {
   "attachments": {},
   "cell_type": "markdown",
   "metadata": {},
   "source": [
    "Z grafom brezposlenosti v procentih dobimo boljsi vpogled v brezposelnost po izobrazbi. Definitivno vidimo da je vec brezposlenih nizje izobrazenih posameznikov. Vidimo tudi, da je procentualno vec brezposlenih s 3+ 4 stopnjo izobrazbe kot s 5. stopnjo izobrazbe. "
   ]
  },
  {
   "attachments": {},
   "cell_type": "markdown",
   "metadata": {},
   "source": [
    "![Alt text](brezposelnost_izob_raven.png)"
   ]
  },
  {
   "attachments": {},
   "cell_type": "markdown",
   "metadata": {},
   "source": [
    "##### **\"Correlation does not mean causation\"**"
   ]
  },
  {
   "attachments": {},
   "cell_type": "markdown",
   "metadata": {},
   "source": [
    "Korelacija med dvema spremenljivkama ne pomeni nujno vzročne povezave med njima. Kljub temu, da lahko opazimo močno povezanost med spremenljivkama, ne smemo sklepati, da ena spremenljivka povzroča drugo. Niti ne smemo sklepati, da je vzročna povezava enosmerna, saj je lahko tudi obratna.\n",
    "\n",
    "Vzročnost je kompleksno področje, saj lahko vpliva več dejavnikov in skritih spremenljivk, ki niso vidne na prvi pogled, še posebej pri problematiki kot je brezposelnost. Ko se soočamo z rezultati, ki kažejo na korelacijo med spremenljivkama, je pomembno biti previden in upoštevati druge možne razlage za to povezavo.\n",
    "Vprasanje korelacije lahko raziskujemo z razlicnimi pristopi (Trendna analiza, Eksperimentalni pristop, Analiza instrumentalnih spremenljivk, Kausalna inferenca z uporabo strojnega učenja...)"
   ]
  },
  {
   "attachments": {},
   "cell_type": "markdown",
   "metadata": {},
   "source": [
    "![Alt text](trend%20brezposelnosti.png)"
   ]
  },
  {
   "attachments": {},
   "cell_type": "markdown",
   "metadata": {},
   "source": [
    "Cilj zgornjega grafa je analizirati spremembe v brezposelnosti med različnimi izobrazbenimi ravni in ugotoviti morebitne vzorce ali trende.\n",
    "\n",
    "Grafično prikazane linije predstavljajo izobrazbene ravni, medtem ko je na y-osi prikazana normalizirana brezposelnost v odstotkih. Normalizacija je bila izvedena z upoštevanjem celotnega števila ljudi v posamezni izobrazbeni ravni, kar nam omogoča primerjavo relativnih sprememb v brezposelnosti med izobrazbenimi ravnmi.\n",
    "\n",
    "Spremljali smo trende skozi čas in opazovali, kako se je brezposelnost spreminjala pri različnih izobrazbenih ravneh. Na ta način smo želeli ugotoviti, ali obstaja povezava med izobrazbeno ravnjo in stopnjo brezposelnosti ter prepoznati morebitne vzorce.\n",
    "\n",
    "Vendar pa je pomembno opozoriti, da ta graf sam po sebi ne zagotavlja dokončnih dokazov o vzročni povezavi med izobrazbeno ravnjo in brezposelnostjo. Za pridobitev popolnejše slike je treba upoštevati tudi druge dejavnike, kot so gospodarski pogoji, demografske značilnosti in rezultate drugih raziskav."
   ]
  },
  {
   "attachments": {},
   "cell_type": "markdown",
   "metadata": {},
   "source": [
    "##### **vPR2.** Ali regija vpliva na zaposljivost neke starostne skupine?"
   ]
  },
  {
   "attachments": {},
   "cell_type": "markdown",
   "metadata": {},
   "source": [
    "###### **Analiza** in **Rezultati**"
   ]
  },
  {
   "attachments": {},
   "cell_type": "markdown",
   "metadata": {},
   "source": [
    "S sledečimi grafi smo vizualizirali lokacijo brezposelnostti vsake starostne skupine skozi čas med 2018 do 2023 z izjemo leta 2020. Temneje kot je pobarvano območje, večji je delež brezposelnosti v območju. Iz gif-ov ugotovimo daje brezposelnost tudi posledice starosti, saj ljudje najraje zaposljujejo ljudi med 25 in 50 letom, ko imajo zaposleni največ izkušenj in največ mentalne sposobnosti. "
   ]
  },
  {
   "attachments": {},
   "cell_type": "markdown",
   "metadata": {},
   "source": [
    "<style>\n",
    "    .gif-container {\n",
    "        display: inline-block;\n",
    "        width: 45%;\n",
    "        margin: 5px;\n",
    "    }\n",
    "</style>\n",
    "\n",
    "<div class=\"gif-container\">\n",
    "    <img src=\"./regije_starost/gifs/15-24.gif\" alt=\"GIF 1\">\n",
    "</div>\n",
    "<div class=\"gif-container\">\n",
    "    <img src=\"./regije_starost/gifs/25-29.gif\" alt=\"GIF 2\">\n",
    "</div>\n",
    "<div class=\"gif-container\">\n",
    "    <img src=\"./regije_starost/gifs/30-39.gif\" alt=\"GIF 3\">\n",
    "</div>\n",
    "<div class=\"gif-container\">\n",
    "    <img src=\"./regije_starost/gifs/40-49.gif\" alt=\"GIF 4\">\n",
    "</div>\n",
    "<div class=\"gif-container\">\n",
    "    <img src=\"./regije_starost/gifs/50-54.gif\" alt=\"GIF 5\">\n",
    "</div>\n",
    "<div class=\"gif-container\">\n",
    "    <img src=\"./regije_starost/gifs/55+.gif\" alt=\"GIF 5\">\n",
    "</div>"
   ]
  },
  {
   "attachments": {},
   "cell_type": "markdown",
   "metadata": {},
   "source": [
    "##### **vPR3.** Ali občina vpliva na zaposljivost določene stopnje izobrazbe?"
   ]
  },
  {
   "attachments": {},
   "cell_type": "markdown",
   "metadata": {},
   "source": [
    "###### **Analiza** in **Rezultati**"
   ]
  },
  {
   "attachments": {},
   "cell_type": "markdown",
   "metadata": {},
   "source": [
    "Na vprašanje smo iskali odgovor tako, da za vsako občino v Sloveniji ugotovimo procent zaposlenosti porazdeljen med 3 stopnje izobrazbe: 1., 2. in 3. stopnjo. Stopnja izobrazbe, ki ima v občinini največji procent zaposljenosti poveča števec te stopnje izobrazbe. Dobimo sledečo vizualizacijo."
   ]
  },
  {
   "attachments": {},
   "cell_type": "markdown",
   "metadata": {},
   "source": [
    "![Alt text](stevci_zaposlenosti_klemen.png)"
   ]
  },
  {
   "attachments": {},
   "cell_type": "markdown",
   "metadata": {},
   "source": [
    "Vizualizacija potrjuje osnovno vprašanje, da višja stopnja izobrazbe zagotovi večjo zaposljivost."
   ]
  },
  {
   "attachments": {},
   "cell_type": "markdown",
   "metadata": {},
   "source": [
    "Podatke smo kot zanimivost vrisali še na zemljevid slovenije. Sledeča vizualizacija prikazuje prevladujoče stopnje izobrazbe z najvišjim procentom zaposljivosti."
   ]
  },
  {
   "attachments": {},
   "cell_type": "markdown",
   "metadata": {},
   "source": [
    "![Alt text](izobrazba_zaposlenost_klemen.png)"
   ]
  },
  {
   "attachments": {},
   "cell_type": "markdown",
   "metadata": {},
   "source": [
    "**Zanimivost:**\n",
    "Opazimo lahko, da srednješolska stopnja izobrazbe prevladuje na območjih z manjšo poseljenostjo v Sloveniji."
   ]
  },
  {
   "attachments": {},
   "cell_type": "markdown",
   "metadata": {},
   "source": [
    "### Zaključek"
   ]
  },
  {
   "attachments": {},
   "cell_type": "markdown",
   "metadata": {},
   "source": [
    "Z vsem raziskovanjem smo pripli do zaključka, da višja izobrazba res pomeni manj brezposelnosti, ampak je problem veliko bolj kompleksen in bi morali analizirati še druge dejavnike brezposelnosti (stanje gospodarstva, demografske znacilnosti ipd). V podatkih se je močno pojavljal tudi vpliv koronskega obdobja, kadar se je število brezposelnih močno povečala"
   ]
  }
 ],
 "metadata": {
  "language_info": {
   "name": "python"
  },
  "orig_nbformat": 4
 },
 "nbformat": 4,
 "nbformat_minor": 2
}
