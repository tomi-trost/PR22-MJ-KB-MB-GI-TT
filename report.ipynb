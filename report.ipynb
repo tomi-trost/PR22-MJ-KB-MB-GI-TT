{
 "cells": [
  {
   "attachments": {},
   "cell_type": "markdown",
   "metadata": {},
   "source": [
    "# Povezava med izobrazbo in brezposelnost v Sloveniji"
   ]
  },
  {
   "attachments": {},
   "cell_type": "markdown",
   "metadata": {},
   "source": [
    "### Problem"
   ]
  },
  {
   "attachments": {},
   "cell_type": "markdown",
   "metadata": {},
   "source": [
    "Problem projekta išče povezave med izobraženostjo slovencev in brezposelnostjo v Sloveniji. Ker sta pojma zelo široka smo se omejili na nekaj vprašanji, ki se dotikajo obeh tem in iz rezultatov črpali ugotovitve. \n",
    "\n",
    "Namen projekta je bil uporabiti metode podatkovnega rudarjenja,da bi izvedeli kako stopnja izobrazbe vpliva na brezposelnost, kar nas je usmerilo v raziskovanje tudi drugih vprašanj, da ugotovimo ali je izobrazba res največji povzročitelj brezposelnosti. Kontrast vprašanju o relaciji med izobrazbo in brezposelnostjo sta vprašanji o vplivu regije na zaposljivost ter vpliv regije na zaposljivost stopenj izobrazbe. \n",
    "V osnovi smo hoteli ugotoviti ali višja izobrazba res manjša brezposelnost."
   ]
  },
  {
   "attachments": {},
   "cell_type": "markdown",
   "metadata": {},
   "source": [
    "### Podatki"
   ]
  },
  {
   "attachments": {},
   "cell_type": "markdown",
   "metadata": {},
   "source": [
    "**Podatki uporabljeni:**\n",
    "\n",
    "Podatke smo vecinoma crpali iz odprtih podatkov o republiki Slovenije (podatki.gov.si). \n",
    "\n",
    "Format podatkov je bil večinoma PCAXIS, oblika csv datoteke, ki smo jo morali ustrezno pretvotiti v json ali csv. Tako smo za odpiranje datotek lahko uporabljali metode modula pandas.\n",
    "\n",
    "Ker smo podatke jemali iz podatki.gov.si in različne datoteke iz portala OPSI, smo iskali datoteke z enako formatiranimi atributi (število brezposelnih po občinah in število delovno aktivnih po občinah)"
   ]
  },
  {
   "attachments": {},
   "cell_type": "markdown",
   "metadata": {},
   "source": [
    "### Vprašanja"
   ]
  },
  {
   "attachments": {},
   "cell_type": "markdown",
   "metadata": {},
   "source": [
    "##### **vPR1.** Kako dosezena stopnja izobrazbe vpliva na brezposelnost?"
   ]
  },
  {
   "attachments": {},
   "cell_type": "markdown",
   "metadata": {},
   "source": [
    "##### **Analiza**"
   ]
  },
  {
   "attachments": {},
   "cell_type": "markdown",
   "metadata": {},
   "source": [
    "##### **vPR2.** Ali občina vpliva na zaposljivost neke starostne skupine?"
   ]
  },
  {
   "attachments": {},
   "cell_type": "markdown",
   "metadata": {},
   "source": [
    "##### **Analiza**"
   ]
  },
  {
   "attachments": {},
   "cell_type": "markdown",
   "metadata": {},
   "source": [
    "##### **vPR3.** Ali občina vpliva na zaposljivost določene stopnje izobrazbe?"
   ]
  },
  {
   "attachments": {},
   "cell_type": "markdown",
   "metadata": {},
   "source": [
    "###### **Analiza** in **Rezultati**"
   ]
  },
  {
   "attachments": {},
   "cell_type": "markdown",
   "metadata": {},
   "source": [
    "Na vprašanje smo iskali odgovor tako, da za vsako občino v Sloveniji ugotovimo procent zaposlenosti porazdeljen med 3 stopnje izobrazbe: 1., 2. in 3. stopnjo. Stopnja izobrazbe, ki ima v občinini največji procent zaposljenosti poveča števec te stopnje izobrazbe. Dobimo sledečo vizualizacijo."
   ]
  },
  {
   "attachments": {},
   "cell_type": "markdown",
   "metadata": {},
   "source": [
    "![Alt text](stevci_zaposlenosti_klemen.png)"
   ]
  },
  {
   "attachments": {},
   "cell_type": "markdown",
   "metadata": {},
   "source": [
    "Vizualizacija potrjuje osnovno vprašanje, da višja stopnja izobrazbe zagotovi večjo zaposljivost."
   ]
  },
  {
   "attachments": {},
   "cell_type": "markdown",
   "metadata": {},
   "source": [
    "Podatke smo kot zanimivost vrisali še na zemljevid slovenije. Sledeča vizualizacija prikazuje prevladujoče stopnje izobrazbe z najvišjim procentom zaposljivosti."
   ]
  },
  {
   "attachments": {},
   "cell_type": "markdown",
   "metadata": {},
   "source": [
    "![Alt text](izobrazba_zaposlenost_klemen.png)"
   ]
  },
  {
   "attachments": {},
   "cell_type": "markdown",
   "metadata": {},
   "source": []
  }
 ],
 "metadata": {
  "language_info": {
   "name": "python"
  },
  "orig_nbformat": 4
 },
 "nbformat": 4,
 "nbformat_minor": 2
}
