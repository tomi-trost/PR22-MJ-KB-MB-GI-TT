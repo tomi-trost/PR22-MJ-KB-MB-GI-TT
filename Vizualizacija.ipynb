{
 "cells": [
  {
   "attachments": {},
   "cell_type": "markdown",
   "metadata": {},
   "source": [
    "# Vizualizacija podatkov"
   ]
  },
  {
   "attachments": {},
   "cell_type": "markdown",
   "metadata": {},
   "source": [
    "### Oblika podatkov"
   ]
  },
  {
   "cell_type": "code",
   "execution_count": 49,
   "metadata": {},
   "outputs": [
    {
     "name": "stdout",
     "output_type": "stream",
     "text": [
      "Table: delovno_prebivalstvo, St. vrstic: 57510\n",
      "<class 'pandas.core.frame.DataFrame'>\n",
      "RangeIndex: 57510 entries, 0 to 57509\n",
      "Data columns (total 5 columns):\n",
      " #   Column              Non-Null Count  Dtype \n",
      "---  ------              --------------  ----- \n",
      " 0   num                 57510 non-null  object\n",
      " 1   OB�INE              57510 non-null  object\n",
      " 2   LETO                57510 non-null  int64 \n",
      " 3   DOSE�ENA IZOBRAZBA  57510 non-null  object\n",
      " 4   SPOL                57510 non-null  object\n",
      "dtypes: int64(1), object(4)\n",
      "memory usage: 2.2+ MB\n"
     ]
    },
    {
     "data": {
      "text/plain": [
       "None"
      ]
     },
     "metadata": {},
     "output_type": "display_data"
    },
    {
     "name": "stdout",
     "output_type": "stream",
     "text": [
      "Table: po-obcinah_izobrazba, St. vrstic: 13278\n",
      "<class 'pandas.core.frame.DataFrame'>\n",
      "RangeIndex: 13278 entries, 0 to 13277\n",
      "Data columns (total 8 columns):\n",
      " #   Column                                     Non-Null Count  Dtype  \n",
      "---  ------                                     --------------  -----  \n",
      " 0   Občina                                     13206 non-null  object \n",
      " 1   OŠ ali manj                                13206 non-null  object \n",
      " 2   srednje poklicno izobraževanje             13206 non-null  object \n",
      " 3   strokovno, splošno izobraževanje           13206 non-null  object \n",
      " 4   izobraževanje prve, druge, tretje stopnje  13206 non-null  object \n",
      " 5   Skupaj                                     13242 non-null  float64\n",
      " 6   month                                      13278 non-null  object \n",
      " 7   year                                       13278 non-null  int64  \n",
      "dtypes: float64(1), int64(1), object(6)\n",
      "memory usage: 830.0+ KB\n"
     ]
    },
    {
     "data": {
      "text/plain": [
       "None"
      ]
     },
     "metadata": {},
     "output_type": "display_data"
    },
    {
     "name": "stdout",
     "output_type": "stream",
     "text": [
      "Table: po-obcinah_spol, St. vrstic: 13278\n",
      "<class 'pandas.core.frame.DataFrame'>\n",
      "RangeIndex: 13278 entries, 0 to 13277\n",
      "Data columns (total 6 columns):\n",
      " #   Column  Non-Null Count  Dtype  \n",
      "---  ------  --------------  -----  \n",
      " 0   Občina  13206 non-null  object \n",
      " 1   Moški   13206 non-null  float64\n",
      " 2   Ženske  13206 non-null  float64\n",
      " 3   Skupaj  13242 non-null  float64\n",
      " 4   month   13278 non-null  object \n",
      " 5   year    13278 non-null  int64  \n",
      "dtypes: float64(3), int64(1), object(2)\n",
      "memory usage: 622.5+ KB\n"
     ]
    },
    {
     "data": {
      "text/plain": [
       "None"
      ]
     },
     "metadata": {},
     "output_type": "display_data"
    },
    {
     "name": "stdout",
     "output_type": "stream",
     "text": [
      "Table: po-obcinah_starost, St. vrstic: 13278\n",
      "<class 'pandas.core.frame.DataFrame'>\n",
      "RangeIndex: 13278 entries, 0 to 13277\n",
      "Data columns (total 10 columns):\n",
      " #   Column          Non-Null Count  Dtype  \n",
      "---  ------          --------------  -----  \n",
      " 0   Občina          13206 non-null  object \n",
      " 1   15 do 24 let    13206 non-null  object \n",
      " 2   25 do 29 let    13206 non-null  object \n",
      " 3   30 do 39 let    13206 non-null  object \n",
      " 4   40 do 49 let    13206 non-null  object \n",
      " 5   50 do 54 let    13206 non-null  object \n",
      " 6   55 let ali več  13206 non-null  object \n",
      " 7   Skupaj          13242 non-null  float64\n",
      " 8   month           13278 non-null  object \n",
      " 9   year            13278 non-null  int64  \n",
      "dtypes: float64(1), int64(1), object(8)\n",
      "memory usage: 1.0+ MB\n"
     ]
    },
    {
     "data": {
      "text/plain": [
       "None"
      ]
     },
     "metadata": {},
     "output_type": "display_data"
    },
    {
     "name": "stdout",
     "output_type": "stream",
     "text": [
      "Table: po-obcinah_trajanje-brezposelnosti, St. vrstic: 10698\n",
      "<class 'pandas.core.frame.DataFrame'>\n",
      "RangeIndex: 10698 entries, 0 to 10697\n",
      "Data columns (total 11 columns):\n",
      " #   Column              Non-Null Count  Dtype  \n",
      "---  ------              --------------  -----  \n",
      " 0   Občina              10650 non-null  object \n",
      " 1   Do 2 mesecev        10650 non-null  object \n",
      " 2   3 do 5 mesecev      10650 non-null  object \n",
      " 3   6 do 8 mesecev      10650 non-null  object \n",
      " 4   9 do 11 mesecev     10650 non-null  object \n",
      " 5   12 do 23 mesecev    10650 non-null  object \n",
      " 6   24 do 35 mesecev    10650 non-null  object \n",
      " 7   36 mesecev ali več  10650 non-null  object \n",
      " 8   Skupaj              10674 non-null  float64\n",
      " 9   month               10698 non-null  object \n",
      " 10  year                10698 non-null  int64  \n",
      "dtypes: float64(1), int64(1), object(9)\n",
      "memory usage: 919.5+ KB\n"
     ]
    },
    {
     "data": {
      "text/plain": [
       "None"
      ]
     },
     "metadata": {},
     "output_type": "display_data"
    },
    {
     "name": "stdout",
     "output_type": "stream",
     "text": [
      "Table: po-statisticnah-regijah_izobrazba, St. vrstic: 950\n",
      "<class 'pandas.core.frame.DataFrame'>\n",
      "RangeIndex: 950 entries, 0 to 949\n",
      "Data columns (total 8 columns):\n",
      " #   Column                                                   Non-Null Count  Dtype  \n",
      "---  ------                                                   --------------  -----  \n",
      " 0   Kohezijska / Statistična regija                          800 non-null    object \n",
      " 1   1+2              OŠ ali manj                             800 non-null    float64\n",
      " 2   3+4 - nižje, srednje poklicno izobr.                     800 non-null    float64\n",
      " 3   5 - srednje tehniško, strokovno, splošno izobr.          800 non-null    float64\n",
      " 4   6+7+8 - visokošolsko izobr. prve, druge, tretje stopnje  800 non-null    float64\n",
      " 5   Skupaj                                                   800 non-null    float64\n",
      " 6   month                                                    950 non-null    object \n",
      " 7   year                                                     950 non-null    int64  \n",
      "dtypes: float64(5), int64(1), object(2)\n",
      "memory usage: 59.5+ KB\n"
     ]
    },
    {
     "data": {
      "text/plain": [
       "None"
      ]
     },
     "metadata": {},
     "output_type": "display_data"
    },
    {
     "name": "stdout",
     "output_type": "stream",
     "text": [
      "Table: po-statisticnah-regijah_spol, St. vrstic: 1178\n",
      "<class 'pandas.core.frame.DataFrame'>\n",
      "RangeIndex: 1178 entries, 0 to 1177\n",
      "Data columns (total 6 columns):\n",
      " #   Column                           Non-Null Count  Dtype  \n",
      "---  ------                           --------------  -----  \n",
      " 0   Kohezijska / statistična regija  992 non-null    object \n",
      " 1   Moški                            992 non-null    float64\n",
      " 2   Ženske                           992 non-null    float64\n",
      " 3   Skupaj                           992 non-null    float64\n",
      " 4   month                            1178 non-null   object \n",
      " 5   year                             1178 non-null   int64  \n",
      "dtypes: float64(3), int64(1), object(2)\n",
      "memory usage: 55.3+ KB\n"
     ]
    },
    {
     "data": {
      "text/plain": [
       "None"
      ]
     },
     "metadata": {},
     "output_type": "display_data"
    },
    {
     "name": "stdout",
     "output_type": "stream",
     "text": [
      "Table: po-statisticnah-regijah_starost, St. vrstic: 266\n",
      "<class 'pandas.core.frame.DataFrame'>\n",
      "RangeIndex: 266 entries, 0 to 265\n",
      "Data columns (total 10 columns):\n",
      " #   Column                            Non-Null Count  Dtype  \n",
      "---  ------                            --------------  -----  \n",
      " 0   Kohezijska / \n",
      "statistična regija  224 non-null    object \n",
      " 1   15-24\n",
      "let                         224 non-null    float64\n",
      " 2   25-29\n",
      "let                         224 non-null    float64\n",
      " 3   30-39\n",
      "let                         224 non-null    float64\n",
      " 4   40-49\n",
      "let                         224 non-null    float64\n",
      " 5   50-54\n",
      "let                         224 non-null    float64\n",
      " 6   55 let \n",
      "ali več                   224 non-null    float64\n",
      " 7   Skupaj                            224 non-null    float64\n",
      " 8   month                             266 non-null    object \n",
      " 9   year                              266 non-null    int64  \n",
      "dtypes: float64(7), int64(1), object(2)\n",
      "memory usage: 20.9+ KB\n"
     ]
    },
    {
     "data": {
      "text/plain": [
       "None"
      ]
     },
     "metadata": {},
     "output_type": "display_data"
    },
    {
     "name": "stdout",
     "output_type": "stream",
     "text": [
      "Table: po-statisticnah-regijah_trajanje-brezposelnosti, St. vrstic: 1178\n",
      "<class 'pandas.core.frame.DataFrame'>\n",
      "RangeIndex: 1178 entries, 0 to 1177\n",
      "Data columns (total 11 columns):\n",
      " #   Column                           Non-Null Count  Dtype  \n",
      "---  ------                           --------------  -----  \n",
      " 0   Kohezijska / statistična regija  992 non-null    object \n",
      " 1   Do 2 meseca                      992 non-null    float64\n",
      " 2   3 do 5 mesecev                   992 non-null    float64\n",
      " 3   6 do 8 mesecev                   992 non-null    float64\n",
      " 4   9 do 11 mesecev                  992 non-null    float64\n",
      " 5   12 do 23\n",
      " mesecev                992 non-null    float64\n",
      " 6   24 do 35\n",
      " mesecev                992 non-null    float64\n",
      " 7   36 mesecev ali več               992 non-null    float64\n",
      " 8   Skupaj                           992 non-null    float64\n",
      " 9   month                            1178 non-null   object \n",
      " 10  year                             1178 non-null   int64  \n",
      "dtypes: float64(8), int64(1), object(2)\n",
      "memory usage: 101.4+ KB\n"
     ]
    },
    {
     "data": {
      "text/plain": [
       "None"
      ]
     },
     "metadata": {},
     "output_type": "display_data"
    },
    {
     "name": "stdout",
     "output_type": "stream",
     "text": [
      "Table: po-uradih-za-delo_izobrazba, St. vrstic: 4412\n",
      "<class 'pandas.core.frame.DataFrame'>\n",
      "RangeIndex: 4412 entries, 0 to 4411\n",
      "Data columns (total 8 columns):\n",
      " #   Column                                                   Non-Null Count  Dtype  \n",
      "---  ------                                                   --------------  -----  \n",
      " 0   Urad za delo                                             4340 non-null   object \n",
      " 1   1+2 - OŠ ali manj                                        4340 non-null   float64\n",
      " 2   3+4 - nižje, srednje poklicno izobr.                     4340 non-null   float64\n",
      " 3   5 - srednje tehniško, strokovno, splošno izobr.          4340 non-null   float64\n",
      " 4   6+7+8 - visokošolsko izobr. prve, druge, tretje stopnje  4340 non-null   float64\n",
      " 5   Skupaj                                                   4376 non-null   float64\n",
      " 6   month                                                    4412 non-null   object \n",
      " 7   year                                                     4412 non-null   object \n",
      "dtypes: float64(5), object(3)\n",
      "memory usage: 275.9+ KB\n"
     ]
    },
    {
     "data": {
      "text/plain": [
       "None"
      ]
     },
     "metadata": {},
     "output_type": "display_data"
    },
    {
     "name": "stdout",
     "output_type": "stream",
     "text": [
      "Table: po-uradih-za-delo_spol, St. vrstic: 4412\n",
      "<class 'pandas.core.frame.DataFrame'>\n",
      "RangeIndex: 4412 entries, 0 to 4411\n",
      "Data columns (total 6 columns):\n",
      " #   Column        Non-Null Count  Dtype  \n",
      "---  ------        --------------  -----  \n",
      " 0   Urad za delo  4340 non-null   object \n",
      " 1   Moški         4340 non-null   float64\n",
      " 2   Ženske        4340 non-null   float64\n",
      " 3   Skupaj        4376 non-null   float64\n",
      " 4   month         4412 non-null   object \n",
      " 5   year          4412 non-null   int64  \n",
      "dtypes: float64(3), int64(1), object(2)\n",
      "memory usage: 206.9+ KB\n"
     ]
    },
    {
     "data": {
      "text/plain": [
       "None"
      ]
     },
     "metadata": {},
     "output_type": "display_data"
    },
    {
     "name": "stdout",
     "output_type": "stream",
     "text": [
      "Table: po-uradih-za-delo_starost, St. vrstic: 4412\n",
      "<class 'pandas.core.frame.DataFrame'>\n",
      "RangeIndex: 4412 entries, 0 to 4411\n",
      "Data columns (total 10 columns):\n",
      " #   Column        Non-Null Count  Dtype  \n",
      "---  ------        --------------  -----  \n",
      " 0   Urad za delo  4340 non-null   object \n",
      " 1   15 do 24 let  4340 non-null   float64\n",
      " 2   25 do 29 let  4340 non-null   float64\n",
      " 3   30 do 39 let  4340 non-null   float64\n",
      " 4   40 do 49 let  4340 non-null   float64\n",
      " 5   50 do 54 let  4340 non-null   float64\n",
      " 6   55 ali več    4340 non-null   float64\n",
      " 7   Skupaj        4376 non-null   float64\n",
      " 8   month         4412 non-null   object \n",
      " 9   year          4412 non-null   int64  \n",
      "dtypes: float64(7), int64(1), object(2)\n",
      "memory usage: 344.8+ KB\n"
     ]
    },
    {
     "data": {
      "text/plain": [
       "None"
      ]
     },
     "metadata": {},
     "output_type": "display_data"
    },
    {
     "name": "stdout",
     "output_type": "stream",
     "text": [
      "Table: po-uradih-za-delo_trajanje-brezposelnosti, St. vrstic: 4412\n",
      "<class 'pandas.core.frame.DataFrame'>\n",
      "RangeIndex: 4412 entries, 0 to 4411\n",
      "Data columns (total 11 columns):\n",
      " #   Column              Non-Null Count  Dtype  \n",
      "---  ------              --------------  -----  \n",
      " 0   Urad za delo        4340 non-null   object \n",
      " 1   Do 2 mesecev        4340 non-null   float64\n",
      " 2   3 do 5 mesecev      4340 non-null   float64\n",
      " 3   6 do 8 mesecev      4340 non-null   float64\n",
      " 4   9 do 11 mesecev     4340 non-null   float64\n",
      " 5   12 do 23 mesecev    4340 non-null   float64\n",
      " 6   24 do 35 mesecev    4340 non-null   float64\n",
      " 7   36 mesecev ali več  4340 non-null   float64\n",
      " 8   Skupaj              4376 non-null   float64\n",
      " 9   month               4412 non-null   object \n",
      " 10  year                4412 non-null   int64  \n",
      "dtypes: float64(8), int64(1), object(2)\n",
      "memory usage: 379.3+ KB\n"
     ]
    },
    {
     "data": {
      "text/plain": [
       "None"
      ]
     },
     "metadata": {},
     "output_type": "display_data"
    }
   ],
   "source": [
    "import pandas as pd\n",
    "import os\n",
    "\n",
    "# Set the directory containing the CSV files\n",
    "directory = \"structured_data/\"\n",
    "\n",
    "# Initialize an empty dictionary to store the DataFrames\n",
    "data_dict = {}\n",
    "\n",
    "# Loop through all CSV files in the directory\n",
    "for filename in os.listdir(directory):\n",
    "    if filename.endswith(\".csv\"):\n",
    "        # Get the filename without the extension\n",
    "        name = os.path.splitext(filename)[0]\n",
    "        filepath = os.path.join(directory, filename)\n",
    "        # Read the CSV file into a Pandas DataFrame\n",
    "        df = pd.read_csv(filepath)\n",
    "        # Append the DataFrame to the dictionary using the filename as the key\n",
    "        data_dict[name] = df\n",
    "        \n",
    "d = None\n",
    "\n",
    "# Print the dictionary to verify the contents\n",
    "for key, dataFrame in data_dict.items():\n",
    "    print(f\"Table: {key}, St. vrstic: {len(dataFrame)}\")\n",
    "    display(dataFrame.info())\n"
   ]
  }
 ],
 "metadata": {
  "kernelspec": {
   "display_name": "Python 3",
   "language": "python",
   "name": "python3"
  },
  "language_info": {
   "codemirror_mode": {
    "name": "ipython",
    "version": 3
   },
   "file_extension": ".py",
   "mimetype": "text/x-python",
   "name": "python",
   "nbconvert_exporter": "python",
   "pygments_lexer": "ipython3",
   "version": "3.9.1"
  },
  "orig_nbformat": 4
 },
 "nbformat": 4,
 "nbformat_minor": 2
}
