{
 "cells": [
  {
   "cell_type": "code",
   "execution_count": 17,
   "metadata": {},
   "outputs": [],
   "source": [
    "import os\n",
    "import pandas as pd"
   ]
  },
  {
   "cell_type": "code",
   "execution_count": 47,
   "metadata": {},
   "outputs": [
    {
     "name": "stdout",
     "output_type": "stream",
     "text": [
      "                Občina  Basic or less  Upper secondary  Tertiary month  year\n",
      "12639       Ajdovščina            134              217        70   DEC  2022\n",
      "12640          Ankaran             26               45        13   DEC  2022\n",
      "12641            Apače             45               36        13   DEC  2022\n",
      "12642         Beltinci             88              124        26   DEC  2022\n",
      "12643         Benedikt             12               22         5   DEC  2022\n",
      "...                ...            ...              ...       ...   ...   ...\n",
      "12847           Žetale              8               10         2   DEC  2022\n",
      "12848             Žiri             15               30        23   DEC  2022\n",
      "12849        Žirovnica             12               35        14   DEC  2022\n",
      "12850        Žužemberk             25               32        14   DEC  2022\n",
      "12851  Občina izven RS            683               65        68   DEC  2022\n",
      "\n",
      "[213 rows x 6 columns]\n"
     ]
    }
   ],
   "source": [
    "brezposelni_df = pd.read_csv('po-obcinah_izobrazba.csv')\n",
    "brezposelni_df = brezposelni_df[(brezposelni_df['month'] == 'DEC') & (brezposelni_df['year'] == 2022)]\n",
    "\n",
    "brezposelni_df.rename(columns={'OŠ ali manj': 'Basic or less'}, inplace=True)\n",
    "brezposelni_df.rename(columns={'izobraževanje prve, druge, tretje stopnje': 'Tertiary'}, inplace=True)\n",
    "\n",
    "brezposelni_df['Basic or less'] = pd.to_numeric(brezposelni_df['Basic or less'])\n",
    "brezposelni_df[['Basic or less']] = brezposelni_df[['Basic or less']].astype(int)\n",
    "brezposelni_df['srednje poklicno izobraževanje'] = pd.to_numeric(brezposelni_df['srednje poklicno izobraževanje'])\n",
    "brezposelni_df['strokovno, splošno izobraževanje'] = pd.to_numeric(brezposelni_df['strokovno, splošno izobraževanje'])\n",
    "brezposelni_df['Upper secondary'] = brezposelni_df['srednje poklicno izobraževanje'] + brezposelni_df['strokovno, splošno izobraževanje']\n",
    "brezposelni_df['Tertiary'] = brezposelni_df['Tertiary'].replace('-', '0')\n",
    "brezposelni_df['Tertiary'] = pd.to_numeric(brezposelni_df['Tertiary'])\n",
    "\n",
    "brezposelni_df = brezposelni_df[['Občina', 'Basic or less', 'Upper secondary', 'Tertiary', 'month', 'year']]\n",
    "print(brezposelni_df)"
   ]
  }
 ],
 "metadata": {
  "kernelspec": {
   "display_name": "Python 3",
   "language": "python",
   "name": "python3"
  },
  "language_info": {
   "codemirror_mode": {
    "name": "ipython",
    "version": 3
   },
   "file_extension": ".py",
   "mimetype": "text/x-python",
   "name": "python",
   "nbconvert_exporter": "python",
   "pygments_lexer": "ipython3",
   "version": "3.11.3"
  },
  "orig_nbformat": 4
 },
 "nbformat": 4,
 "nbformat_minor": 2
}
