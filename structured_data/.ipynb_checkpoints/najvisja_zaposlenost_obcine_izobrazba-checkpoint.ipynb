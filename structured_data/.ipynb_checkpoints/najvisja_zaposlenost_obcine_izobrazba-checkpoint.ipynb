{
 "cells": [
  {
   "cell_type": "code",
   "execution_count": 1,
   "metadata": {},
   "outputs": [],
   "source": [
    "import os\n",
    "import pandas as pd\n",
    "import matplotlib.pyplot as plt"
   ]
  },
  {
   "cell_type": "markdown",
   "metadata": {},
   "source": [
    "Čisti podatki brezposelnosti po izobrazbah (združeni srednji stopnji) po občinah za leto 2022 (izbral december kot zadnje meritve), brez občin z manjkajočimi podatki iz 'zaposleni_df':"
   ]
  },
  {
   "cell_type": "code",
   "execution_count": 2,
   "metadata": {},
   "outputs": [
    {
     "name": "stdout",
     "output_type": "stream",
     "text": [
      "         Občina  Basic or less  Upper secondary  Tertiary\n",
      "0    AJDOVŠČINA            134              217        70\n",
      "1       ANKARAN             26               45        13\n",
      "2         APAČE             45               36        13\n",
      "3      BELTINCI             88              124        26\n",
      "4      BENEDIKT             12               22         5\n",
      "..          ...            ...              ...       ...\n",
      "201   ŽELEZNIKI             10               31        12\n",
      "202      ŽETALE              8               10         2\n",
      "203        ŽIRI             15               30        23\n",
      "204   ŽIROVNICA             12               35        14\n",
      "205   ŽUŽEMBERK             25               32        14\n",
      "\n",
      "[206 rows x 4 columns]\n"
     ]
    }
   ],
   "source": [
    "brezposelni_df = pd.read_csv('po-obcinah_izobrazba.csv')\n",
    "brezposelni_df = brezposelni_df[(brezposelni_df['month'] == 'DEC') & (brezposelni_df['year'] == 2022)]\n",
    "\n",
    "brezposelni_df.rename(columns={'OŠ ali manj': 'Basic or less'}, inplace=True)\n",
    "brezposelni_df.rename(columns={'izobraževanje prve, druge, tretje stopnje': 'Tertiary'}, inplace=True)\n",
    "\n",
    "brezposelni_df['Basic or less'] = pd.to_numeric(brezposelni_df['Basic or less'])\n",
    "brezposelni_df[['Basic or less']] = brezposelni_df[['Basic or less']].astype(int)\n",
    "brezposelni_df['srednje poklicno izobraževanje'] = pd.to_numeric(brezposelni_df['srednje poklicno izobraževanje'])\n",
    "brezposelni_df['strokovno, splošno izobraževanje'] = pd.to_numeric(brezposelni_df['strokovno, splošno izobraževanje'])\n",
    "brezposelni_df['Upper secondary'] = brezposelni_df['srednje poklicno izobraževanje'] + brezposelni_df['strokovno, splošno izobraževanje']\n",
    "brezposelni_df['Tertiary'] = brezposelni_df['Tertiary'].replace('-', '0')\n",
    "brezposelni_df['Tertiary'] = pd.to_numeric(brezposelni_df['Tertiary'])\n",
    "\n",
    "brezposelni_df = brezposelni_df.drop(brezposelni_df.index[-1])\n",
    "\n",
    "values_to_delete = ['OSILNICA', 'PODVELKA', 'HODOŠ', 'KOSTEL', 'RAZKRIŽJE', 'RIBNICA NA POHORJU']\n",
    "rows_to_delete = brezposelni_df['Občina'].isin(values_to_delete)\n",
    "brezposelni_df = brezposelni_df[~rows_to_delete]\n",
    "\n",
    "brezposelni_df = brezposelni_df.sort_values('Občina')\n",
    "brezposelni_df.reset_index(drop=True, inplace=True)\n",
    "\n",
    "brezposelni_df = brezposelni_df[['Občina', 'Basic or less', 'Upper secondary', 'Tertiary']]\n",
    "print(brezposelni_df)\n"
   ]
  },
  {
   "cell_type": "markdown",
   "metadata": {},
   "source": [
    "Čisti podatki delovno aktivnih po izobrazbah po občinah za leto 2022, brez občin z manjkajočimi podatki iz 'zaposleni_df' in z enako poimenovanimi občinami:"
   ]
  },
  {
   "cell_type": "code",
   "execution_count": 3,
   "metadata": {},
   "outputs": [
    {
     "name": "stdout",
     "output_type": "stream",
     "text": [
      "         Občina  Basic or less  Upper secondary  Tertiary\n",
      "0    AJDOVŠČINA            923             4832      2383\n",
      "1       ANKARAN             89              511       441\n",
      "2         APAČE             72              320       134\n",
      "3      BELTINCI            167              882       361\n",
      "4      BENEDIKT             74              283       120\n",
      "..          ...            ...              ...       ...\n",
      "201   ŽELEZNIKI            436             1662       886\n",
      "202      ŽETALE             38               91        44\n",
      "203        ŽIRI            254             1569       625\n",
      "204   ŽIROVNICA             59              493       237\n",
      "205   ŽUŽEMBERK            171              695       282\n",
      "\n",
      "[206 rows x 4 columns]\n"
     ]
    }
   ],
   "source": [
    "zaposleni_df = pd.read_excel('zaposleni_po_obcinah.xlsx', header=1)\n",
    "zaposleni_df = zaposleni_df.iloc[:, [0] + list(range(256, 271))]\n",
    "zaposleni_df = zaposleni_df.drop([0, 1])\n",
    "\n",
    "zaposleni_df = zaposleni_df[~(zaposleni_df =='z').any(axis=1)]\n",
    "zaposleni_df = zaposleni_df[['Unnamed: 0', 'Basic or less.17', 'Upper secondary.17', 'Tertiary.17']]\n",
    "zaposleni_df = zaposleni_df.rename(columns={'Unnamed: 0': 'Občina', 'Basic or less.17': 'Basic or less', 'Upper secondary.17': 'Upper secondary', 'Tertiary.17': 'Tertiary'})\n",
    "\n",
    "zaposleni_df = zaposleni_df.reset_index(drop=True)\n",
    "\n",
    "zaposleni_df['Basic or less'] = pd.to_numeric(zaposleni_df['Basic or less'])\n",
    "zaposleni_df['Upper secondary'] = pd.to_numeric(zaposleni_df['Upper secondary'])\n",
    "zaposleni_df['Tertiary'] = pd.to_numeric(zaposleni_df['Tertiary'])\n",
    "\n",
    "zaposleni_df = zaposleni_df.sort_values('Občina')\n",
    "zaposleni_df.reset_index(drop=True, inplace=True)\n",
    "\n",
    "brezposelni_df_obcine = brezposelni_df['Občina']\n",
    "zaposleni_df['Občina'] = brezposelni_df_obcine\n",
    "\n",
    "print(zaposleni_df)"
   ]
  },
  {
   "cell_type": "markdown",
   "metadata": {},
   "source": [
    "Združen DataFrame zaposlenih in brezposelnih prek Občin:"
   ]
  },
  {
   "cell_type": "code",
   "execution_count": 4,
   "metadata": {},
   "outputs": [
    {
     "name": "stdout",
     "output_type": "stream",
     "text": [
      "         Občina  Basic or less brezposelni  Upper secondary brezposelni  \\\n",
      "0    AJDOVŠČINA                        134                          217   \n",
      "1       ANKARAN                         26                           45   \n",
      "2         APAČE                         45                           36   \n",
      "3      BELTINCI                         88                          124   \n",
      "4      BENEDIKT                         12                           22   \n",
      "..          ...                        ...                          ...   \n",
      "201   ŽELEZNIKI                         10                           31   \n",
      "202      ŽETALE                          8                           10   \n",
      "203        ŽIRI                         15                           30   \n",
      "204   ŽIROVNICA                         12                           35   \n",
      "205   ŽUŽEMBERK                         25                           32   \n",
      "\n",
      "     Tertiary brezposelni  Basic or less zaposleni  Upper secondary zaposleni  \\\n",
      "0                      70                      923                       4832   \n",
      "1                      13                       89                        511   \n",
      "2                      13                       72                        320   \n",
      "3                      26                      167                        882   \n",
      "4                       5                       74                        283   \n",
      "..                    ...                      ...                        ...   \n",
      "201                    12                      436                       1662   \n",
      "202                     2                       38                         91   \n",
      "203                    23                      254                       1569   \n",
      "204                    14                       59                        493   \n",
      "205                    14                      171                        695   \n",
      "\n",
      "     Tertiary zaposleni  \n",
      "0                  2383  \n",
      "1                   441  \n",
      "2                   134  \n",
      "3                   361  \n",
      "4                   120  \n",
      "..                  ...  \n",
      "201                 886  \n",
      "202                  44  \n",
      "203                 625  \n",
      "204                 237  \n",
      "205                 282  \n",
      "\n",
      "[206 rows x 7 columns]\n"
     ]
    }
   ],
   "source": [
    "\n",
    "merged_df = brezposelni_df.merge(zaposleni_df, on='Občina',  how='outer', suffixes=(' brezposelni', ' zaposleni'))\n",
    "\n",
    "print(merged_df)"
   ]
  },
  {
   "cell_type": "markdown",
   "metadata": {},
   "source": [
    "Izračunane stopnje zaposlenosti v nov DataFrame:"
   ]
  },
  {
   "cell_type": "code",
   "execution_count": 5,
   "metadata": {},
   "outputs": [
    {
     "name": "stdout",
     "output_type": "stream",
     "text": [
      "         Občina  Basic or less  Upper secondary  Tertiary  \\\n",
      "0    AJDOVŠČINA       0.873226         0.957021  0.971464   \n",
      "1       ANKARAN       0.773913         0.919065  0.971366   \n",
      "2         APAČE       0.615385         0.898876  0.911565   \n",
      "3      BELTINCI       0.654902         0.876740  0.932817   \n",
      "4      BENEDIKT       0.860465         0.927869  0.960000   \n",
      "..          ...            ...              ...       ...   \n",
      "201   ŽELEZNIKI       0.977578         0.981689  0.986637   \n",
      "202      ŽETALE       0.826087         0.900990  0.956522   \n",
      "203        ŽIRI       0.944238         0.981238  0.964506   \n",
      "204   ŽIROVNICA       0.830986         0.933712  0.944223   \n",
      "205   ŽUŽEMBERK       0.872449         0.955983  0.952703   \n",
      "\n",
      "    Najvišja stopnja zaposlenosti  \n",
      "0                        Tertiary  \n",
      "1                        Tertiary  \n",
      "2                        Tertiary  \n",
      "3                        Tertiary  \n",
      "4                        Tertiary  \n",
      "..                            ...  \n",
      "201                      Tertiary  \n",
      "202                      Tertiary  \n",
      "203               Upper secondary  \n",
      "204                      Tertiary  \n",
      "205               Upper secondary  \n",
      "\n",
      "[206 rows x 5 columns]\n"
     ]
    },
    {
     "name": "stderr",
     "output_type": "stream",
     "text": [
      "C:\\Users\\Miha\\AppData\\Local\\Temp\\ipykernel_14792\\3819056186.py:6: SettingWithCopyWarning: \n",
      "A value is trying to be set on a copy of a slice from a DataFrame.\n",
      "Try using .loc[row_indexer,col_indexer] = value instead\n",
      "\n",
      "See the caveats in the documentation: https://pandas.pydata.org/pandas-docs/stable/user_guide/indexing.html#returning-a-view-versus-a-copy\n",
      "  stopnje_df['Najvišja stopnja zaposlenosti'] = stopnje_df.iloc[:, 1:].idxmax(axis=1)\n"
     ]
    }
   ],
   "source": [
    "merged_df['Basic or less'] = merged_df['Basic or less zaposleni'] / (merged_df['Basic or less zaposleni'] + merged_df['Basic or less brezposelni'])\n",
    "merged_df['Upper secondary'] = merged_df['Upper secondary zaposleni'] / (merged_df['Upper secondary zaposleni'] + merged_df['Upper secondary brezposelni'])\n",
    "merged_df['Tertiary'] = merged_df['Tertiary zaposleni'] / (merged_df['Tertiary zaposleni'] + merged_df['Tertiary brezposelni'])\n",
    "\n",
    "stopnje_df = merged_df[['Občina', 'Basic or less', 'Upper secondary', 'Tertiary']]\n",
    "stopnje_df['Najvišja stopnja zaposlenosti'] = stopnje_df.iloc[:, 1:].idxmax(axis=1)\n",
    "print(stopnje_df)\n",
    "stopnje_df.to_csv(\"stopnje_obcine.csv\", sep=',', encoding='utf-8')"
   ]
  },
  {
   "cell_type": "markdown",
   "metadata": {},
   "source": [
    "še vizualizacija:"
   ]
  },
  {
   "cell_type": "markdown",
   "metadata": {},
   "source": [
    "Števci, v koliko občinah ima določena stopnja izobrazbe najvišjo zaposlenost:"
   ]
  },
  {
   "cell_type": "code",
   "execution_count": 6,
   "metadata": {},
   "outputs": [
    {
     "name": "stdout",
     "output_type": "stream",
     "text": [
      "Basic or less        0\n",
      "Upper secondary     30\n",
      "Tertiary           176\n",
      "Name: Najvišja stopnja zaposlenosti, dtype: int64\n"
     ]
    }
   ],
   "source": [
    "\n",
    "column_counters = stopnje_df['Najvišja stopnja zaposlenosti'].value_counts()\n",
    "all_columns = stopnje_df.columns[1:4]\n",
    "column_counters = column_counters.reindex(all_columns, fill_value=0)\n",
    "\n",
    "print(column_counters)"
   ]
  },
  {
   "cell_type": "code",
   "execution_count": 7,
   "metadata": {},
   "outputs": [
    {
     "data": {
      "image/png": "[encoded data removed]",
      "text/plain": [
       "<Figure size 640x480 with 1 Axes>"
      ]
     },
     "metadata": {},
     "output_type": "display_data"
    }
   ],
   "source": [
    "plt.bar(column_counters.index, column_counters.values)\n",
    "plt.xlabel('Izobrazba')\n",
    "plt.ylabel('Število občin')\n",
    "plt.title('Števci najvišje zaposlenosti v občinah po izobrazbi')\n",
    "plt.show()"
   ]
  }
 ],
 "metadata": {
  "kernelspec": {
   "display_name": "Python 3 (ipykernel)",
   "language": "python",
   "name": "python3"
  },
  "language_info": {
   "codemirror_mode": {
    "name": "ipython",
    "version": 3
   },
   "file_extension": ".py",
   "mimetype": "text/x-python",
   "name": "python",
   "nbconvert_exporter": "python",
   "pygments_lexer": "ipython3",
   "version": "3.10.10"
  }
 },
 "nbformat": 4,
 "nbformat_minor": 2
}
