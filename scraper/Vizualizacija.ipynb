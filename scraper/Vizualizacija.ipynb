{
 "cells": [
  {
   "attachments": {},
   "cell_type": "markdown",
   "metadata": {},
   "source": [
    "# Vizualizacija podatkov"
   ]
  },
  {
   "cell_type": "code",
   "execution_count": 5,
   "metadata": {},
   "outputs": [
    {
     "name": "stdout",
     "output_type": "stream",
     "text": [
      "po-obcinah izobrazba\n",
      "po-obcinah spol\n",
      "po-obcinah starost\n",
      "po-obcinah trajanje-brezposelnosti\n",
      "po-statisticnah-regijah izobrazba\n",
      "po-statisticnah-regijah spol\n",
      "po-statisticnah-regijah starost\n",
      "po-statisticnah-regijah trajanje-brezposelnosti\n",
      "po-uradih-za-delo izobrazba\n",
      "po-uradih-za-delo spol\n",
      "po-uradih-za-delo starost\n",
      "po-uradih-za-delo trajanje-brezposelnosti\n"
     ]
    }
   ],
   "source": [
    "import os\n",
    "import pandas as pd\n",
    "# install xlrd\n",
    "\n",
    "data = {}\n",
    "path = 'regionalna-raven'\n",
    "for size in os.listdir(path):\n",
    "    data[size] = {}\n",
    "    \n",
    "    for how in os.listdir(os.path.join(path, size)):\n",
    "        data[size][how] = pd.DataFrame()\n",
    "        \n",
    "        print(size + \" \" + how)\n",
    "        for file in os.listdir(os.path.join(path, size, how)):\n",
    "            \n",
    "            file_path = os.path.join(path, size, how, file)\n",
    "            xls = pd.ExcelFile(file_path)\n",
    "            \n",
    "            for sheet_name in xls.sheet_names:\n",
    "                \n",
    "                first_row = pd.read_excel(xls, sheet_name, skiprows=[0]).columns\n",
    "                upper_left_cell = first_row[0]\n",
    "                \n",
    "                rows_to_skip = [0]\n",
    "                if upper_left_cell == 'Unnamed: 0':\n",
    "                    rows_to_skip = [0, 1]\n",
    "\n",
    "                sheet_data = pd.read_excel(xls, sheet_name, skiprows=rows_to_skip)\n",
    "                sheet_data['month'] = sheet_name\n",
    "                sheet_data['year'] = file.split(\"_\")[3].split(\".\")[0]\n",
    "                data[size][how] = pd.concat([data[size][how], sheet_data])"
   ]
  }
 ],
 "metadata": {
  "kernelspec": {
   "display_name": "Python 3",
   "language": "python",
   "name": "python3"
  },
  "language_info": {
   "codemirror_mode": {
    "name": "ipython",
    "version": 3
   },
   "file_extension": ".py",
   "mimetype": "text/x-python",
   "name": "python",
   "nbconvert_exporter": "python",
   "pygments_lexer": "ipython3",
   "version": "3.9.1"
  },
  "orig_nbformat": 4
 },
 "nbformat": 4,
 "nbformat_minor": 2
}
