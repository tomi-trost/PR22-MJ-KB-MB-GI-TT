{
 "cells": [
  {
   "cell_type": "markdown",
   "metadata": {},
   "source": [
    "# Povezava med izobrazbo in brezposelnost v Sloveniji"
   ]
  },
  {
   "cell_type": "markdown",
   "metadata": {},
   "source": [
    "### Problem"
   ]
  },
  {
   "cell_type": "markdown",
   "metadata": {},
   "source": [
    "Problem projekta išče povezave med izobraženostjo slovencev in brezposelnostjo v Sloveniji. Ker sta pojma zelo široka smo se omejili na nekaj vprašanji, ki se dotikajo obeh tem in iz rezultatov črpali ugotovitve. \n",
    "\n",
    "Namen projekta je bil uporabiti metode podatkovnega rudarjenja,da bi izvedeli kako stopnja izobrazbe vpliva na brezposelnost, kar nas je usmerilo v raziskovanje tudi drugih vprašanj, da ugotovimo ali je izobrazba res največji povzročitelj brezposelnosti. Kontrast vprašanju o relaciji med izobrazbo in brezposelnostjo sta vprašanji o vplivu regije na zaposljivost ter vpliv regije na zaposljivost stopenj izobrazbe. \n",
    "V osnovi smo hoteli ugotoviti ali višja izobrazba res manjša brezposelnost."
   ]
  },
  {
   "cell_type": "markdown",
   "metadata": {},
   "source": [
    "### Podatki"
   ]
  },
  {
   "cell_type": "markdown",
   "metadata": {},
   "source": [
    "**Podatki uporabljeni:**\n",
    "\n",
    "Podatke smo vecinoma crpali iz odprtih podatkov o republiki Slovenije (podatki.gov.si). \n",
    "\n",
    "Format podatkov je bil večinoma PCAXIS, oblika csv datoteke, ki smo jo morali ustrezno pretvotiti v json ali csv. Tako smo za odpiranje datotek lahko uporabljali metode modula pandas.\n",
    "\n",
    "Ker smo podatke jemali iz podatki.gov.si in različne datoteke iz portala OPSI, smo iskali datoteke z enako formatiranimi atributi (število brezposelnih po občinah in število delovno aktivnih po občinah)"
   ]
  },
  {
   "cell_type": "markdown",
   "metadata": {},
   "source": [
    "### Vprašanja"
   ]
  },
  {
   "cell_type": "markdown",
   "metadata": {},
   "source": [
    "##### **vPR1.** Kako dosezena stopnja izobrazbe vpliva na brezposelnost?"
   ]
  },
  {
   "cell_type": "markdown",
   "metadata": {},
   "source": [
    "##### **Analiza**"
   ]
  },
  {
   "cell_type": "markdown",
   "metadata": {},
   "source": [
    "##### **vPR2.** Ali občina vpliva na zaposljivost neke starostne skupine?"
   ]
  },
  {
   "cell_type": "markdown",
   "metadata": {},
   "source": [
    "##### **Analiza**"
   ]
  },
  {
   "cell_type": "code",
   "execution_count": null,
   "metadata": {},
   "outputs": [],
   "source": [
    "Na "
   ]
  },
  {
   "cell_type": "markdown",
   "metadata": {},
   "source": [
    "##### **vPR3.** Ali občina vpliva na zaposljivost določene stopnje izobrazbe?"
   ]
  },
  {
   "cell_type": "markdown",
   "metadata": {},
   "source": [
    "###### **Analiza** in **Rezultati**"
   ]
  },
  {
   "cell_type": "markdown",
   "metadata": {},
   "source": [
    "Na vprašanje smo iskali odgovor tako, da za vsako občino v Sloveniji ugotovimo procent zaposlenosti porazdeljen med 3 stopnje izobrazbe: 1., 2. in 3. stopnjo. Stopnja izobrazbe, ki ima v občinini največji procent zaposljenosti poveča števec te stopnje izobrazbe. Dobimo sledečo vizualizacijo."
   ]
  },
  {
   "cell_type": "markdown",
   "metadata": {},
   "source": [
    "![Alt text](stevci_zaposlenosti_klemen.png)"
   ]
  },
  {
   "cell_type": "markdown",
   "metadata": {},
   "source": [
    "Vizualizacija potrjuje osnovno vprašanje, da višja stopnja izobrazbe zagotovi večjo zaposljivost."
   ]
  },
  {
   "cell_type": "markdown",
   "metadata": {},
   "source": [
    "Podatke smo kot zanimivost vrisali še na zemljevid slovenije. Sledeča vizualizacija prikazuje prevladujoče stopnje izobrazbe z najvišjim procentom zaposljivosti."
   ]
  },
  {
   "cell_type": "markdown",
   "metadata": {},
   "source": [
    "![Alt text](izobrazba_zaposlenost_klemen.png)"
   ]
  },
  {
   "cell_type": "markdown",
   "metadata": {},
   "source": []
  }
 ],
 "metadata": {
  "kernelspec": {
   "display_name": "Python 3 (ipykernel)",
   "language": "python",
   "name": "python3"
  },
  "language_info": {
   "codemirror_mode": {
    "name": "ipython",
    "version": 3
   },
   "file_extension": ".py",
   "mimetype": "text/x-python",
   "name": "python",
   "nbconvert_exporter": "python",
   "pygments_lexer": "ipython3",
   "version": "3.10.10"
  }
 },
 "nbformat": 4,
 "nbformat_minor": 2
}
